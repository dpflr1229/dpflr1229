{
 "cells": [
  {
   "cell_type": "markdown",
   "id": "19ce5e96",
   "metadata": {},
   "source": [
    "# NLP와 텍스트분석\n",
    "\n",
    "NLP : 머신이 인간의 언어를 이해하소 해석하는데 더 중점을 둠 (기계번역, 질의응답 시스템)\n",
    "\n",
    "**텍스트분석 : 비정형 텍스트에서 의미있는 정보를 추출함 (머신러닝, 언어이해, 통계)**"
   ]
  },
  {
   "cell_type": "markdown",
   "id": "68833bb2",
   "metadata": {},
   "source": [
    "# 텍스트분석 종류\n",
    "\n",
    "    텍스트 분류 : 문서가 특정 분류/ 카테고리에 속하는지 예측하는 기법\n",
    "    \n",
    "    감성 분석 : 텍스트에서 나타나는 주관적인 감성 요소를 분석하는 기법\n",
    "    \n",
    "    텍스트 요약 : 텍스트 내에서 중요한 주제나 중심 사상을 추출하는 기법\n",
    "    \n",
    "    텍스트 군집화 : 비슷한 유형의 문서에 대해 군집화를 수행하는 기법\n",
    "    "
   ]
  },
  {
   "cell_type": "markdown",
   "id": "89ddbb85",
   "metadata": {},
   "source": [
    "# 텍스트 분석 이해\n",
    "\n",
    "텍스트 분석은 비정형 데이터를 처리하는 것이다. 따라서 비정형 텍스트 데이터를 어떻게 피처 형태로 추출하고 의미를 부여하는것이 매우 중요하다\n",
    "\n",
    "텍스트를 벡터값을 가지는 피처로 전환하는것이 머신러닝 모델을 적용하기 전에 수행해야 할 매우 중요한 요소이다. (피처 벡터화/ 피처 추출)"
   ]
  },
  {
   "cell_type": "markdown",
   "id": "48c2fabe",
   "metadata": {},
   "source": [
    "# 텍스트 분석 프로세스\n",
    "\n",
    "1. 텍스트 사전준비작업(텍스트 전처리) : 텍스트를 피처로 만들기 전 대/소문자 변경. 특수문자 삭제, 단어 토큰화, 의미없는 단어 제거, 어근 추출 등의 텍스트 정규화 작업 수행\n",
    "\n",
    "2. 피처 벡터화/추출 : 가공된 텍스트에서 피처를 추출하고 벡터값을 할당 (BOW or Word2Vec)\n",
    "\n",
    "3. ML모델 수립/평가 : 벡터화된 피처 데이터에 ML.모델을 적용해 학습/예측 및 평가 진행"
   ]
  },
  {
   "cell_type": "markdown",
   "id": "13f3ae96",
   "metadata": {},
   "source": [
    "# 텍스트 분석 패키지\n",
    "    \n",
    "    NLTK : 파이썬의 대표적 NLP 패키지, 방대한 데이터세트와 서브 모듈을 가지지만 수행속도가 느려 실제 대량의 데이터에는 사용 x\n",
    "    \n",
    "    Gensim : 토픽 모델링에서 가장 두각을 나타내는 패키지\n",
    "    \n",
    "    SpaCy : 뛰어난 수행 성능으로 최근 주목받는 NLP 패키지"
   ]
  },
  {
   "cell_type": "code",
   "execution_count": null,
   "id": "5e4d2cb8",
   "metadata": {},
   "outputs": [],
   "source": []
  }
 ],
 "metadata": {
  "kernelspec": {
   "display_name": "Python 3 (ipykernel)",
   "language": "python",
   "name": "python3"
  },
  "language_info": {
   "codemirror_mode": {
    "name": "ipython",
    "version": 3
   },
   "file_extension": ".py",
   "mimetype": "text/x-python",
   "name": "python",
   "nbconvert_exporter": "python",
   "pygments_lexer": "ipython3",
   "version": "3.8.12"
  }
 },
 "nbformat": 4,
 "nbformat_minor": 5
}
