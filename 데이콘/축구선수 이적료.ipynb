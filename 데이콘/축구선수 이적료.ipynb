{
 "cells": [
  {
   "cell_type": "markdown",
   "id": "3456bd93",
   "metadata": {},
   "source": [
    "# 평가 산식 : RMSE (회귀)"
   ]
  },
  {
   "cell_type": "markdown",
   "id": "57005469",
   "metadata": {},
   "source": [
    "# 오늘의 목표 : EDA 및 교차검증"
   ]
  },
  {
   "cell_type": "markdown",
   "id": "824af4fc",
   "metadata": {},
   "source": [
    "# 데이터 설명\n",
    "\n",
    "id : 선수 고유의 아이디\n",
    "\n",
    "name : 이름\n",
    "\n",
    "age : 나이\n",
    "\n",
    "continent : 선수들의 국적이 포함되어 있는 대륙입니다\n",
    "\n",
    "contract_until : 선수의 계약기간이 언제까지인지 나타내어 줍니다\n",
    "\n",
    "position : 선수가 선호하는 포지션입니다. ex) 공격수, 수비수 등\n",
    "\n",
    "prefer_foot : 선수가 선호하는 발입니다. ex) 오른발\n",
    "\n",
    "reputation : 선수가 유명한 정도입니다. ex) 높은 수치일 수록 유명한 선수\n",
    "\n",
    "stat_overall : 선수의 현재 능력치 입니다.\n",
    "\n",
    "stat_potential : 선수가 경험 및 노력을 통해 발전할 수 있는 정도입니다.\n",
    "\n",
    "stat_skill_moves : 선수의 개인기 능력치 입니다.\n",
    "\n",
    "value : FIFA가 선정한 선수의 이적 시장 가격 (단위 : 유로) 입니다 (타겟)"
   ]
  },
  {
   "cell_type": "code",
   "execution_count": 1,
   "id": "75778406",
   "metadata": {},
   "outputs": [],
   "source": [
    "import pandas as pd \n",
    "\n",
    "train = pd.read_csv('FIFA_train.csv')\n",
    "test = pd.read_csv('FIFA_test.csv')"
   ]
  },
  {
   "cell_type": "code",
   "execution_count": 2,
   "id": "11a1b1c5",
   "metadata": {},
   "outputs": [
    {
     "data": {
      "text/html": [
       "<div>\n",
       "<style scoped>\n",
       "    .dataframe tbody tr th:only-of-type {\n",
       "        vertical-align: middle;\n",
       "    }\n",
       "\n",
       "    .dataframe tbody tr th {\n",
       "        vertical-align: top;\n",
       "    }\n",
       "\n",
       "    .dataframe thead th {\n",
       "        text-align: right;\n",
       "    }\n",
       "</style>\n",
       "<table border=\"1\" class=\"dataframe\">\n",
       "  <thead>\n",
       "    <tr style=\"text-align: right;\">\n",
       "      <th></th>\n",
       "      <th>id</th>\n",
       "      <th>name</th>\n",
       "      <th>age</th>\n",
       "      <th>continent</th>\n",
       "      <th>contract_until</th>\n",
       "      <th>position</th>\n",
       "      <th>prefer_foot</th>\n",
       "      <th>reputation</th>\n",
       "      <th>stat_overall</th>\n",
       "      <th>stat_potential</th>\n",
       "      <th>stat_skill_moves</th>\n",
       "      <th>value</th>\n",
       "    </tr>\n",
       "  </thead>\n",
       "  <tbody>\n",
       "    <tr>\n",
       "      <th>0</th>\n",
       "      <td>0</td>\n",
       "      <td>L. Messi</td>\n",
       "      <td>31</td>\n",
       "      <td>south america</td>\n",
       "      <td>2021</td>\n",
       "      <td>ST</td>\n",
       "      <td>left</td>\n",
       "      <td>5.0</td>\n",
       "      <td>94</td>\n",
       "      <td>94</td>\n",
       "      <td>4.0</td>\n",
       "      <td>110500000.0</td>\n",
       "    </tr>\n",
       "    <tr>\n",
       "      <th>1</th>\n",
       "      <td>3</td>\n",
       "      <td>De Gea</td>\n",
       "      <td>27</td>\n",
       "      <td>europe</td>\n",
       "      <td>2020</td>\n",
       "      <td>GK</td>\n",
       "      <td>right</td>\n",
       "      <td>4.0</td>\n",
       "      <td>91</td>\n",
       "      <td>93</td>\n",
       "      <td>1.0</td>\n",
       "      <td>72000000.0</td>\n",
       "    </tr>\n",
       "    <tr>\n",
       "      <th>2</th>\n",
       "      <td>7</td>\n",
       "      <td>L. Suárez</td>\n",
       "      <td>31</td>\n",
       "      <td>south america</td>\n",
       "      <td>2021</td>\n",
       "      <td>ST</td>\n",
       "      <td>right</td>\n",
       "      <td>5.0</td>\n",
       "      <td>91</td>\n",
       "      <td>91</td>\n",
       "      <td>3.0</td>\n",
       "      <td>80000000.0</td>\n",
       "    </tr>\n",
       "    <tr>\n",
       "      <th>3</th>\n",
       "      <td>8</td>\n",
       "      <td>Sergio Ramos</td>\n",
       "      <td>32</td>\n",
       "      <td>europe</td>\n",
       "      <td>2020</td>\n",
       "      <td>DF</td>\n",
       "      <td>right</td>\n",
       "      <td>4.0</td>\n",
       "      <td>91</td>\n",
       "      <td>91</td>\n",
       "      <td>3.0</td>\n",
       "      <td>51000000.0</td>\n",
       "    </tr>\n",
       "    <tr>\n",
       "      <th>4</th>\n",
       "      <td>9</td>\n",
       "      <td>J. Oblak</td>\n",
       "      <td>25</td>\n",
       "      <td>europe</td>\n",
       "      <td>2021</td>\n",
       "      <td>GK</td>\n",
       "      <td>right</td>\n",
       "      <td>3.0</td>\n",
       "      <td>90</td>\n",
       "      <td>93</td>\n",
       "      <td>1.0</td>\n",
       "      <td>68000000.0</td>\n",
       "    </tr>\n",
       "  </tbody>\n",
       "</table>\n",
       "</div>"
      ],
      "text/plain": [
       "   id          name  age      continent contract_until position prefer_foot  \\\n",
       "0   0      L. Messi   31  south america           2021       ST        left   \n",
       "1   3        De Gea   27         europe           2020       GK       right   \n",
       "2   7     L. Suárez   31  south america           2021       ST       right   \n",
       "3   8  Sergio Ramos   32         europe           2020       DF       right   \n",
       "4   9      J. Oblak   25         europe           2021       GK       right   \n",
       "\n",
       "   reputation  stat_overall  stat_potential  stat_skill_moves        value  \n",
       "0         5.0            94              94               4.0  110500000.0  \n",
       "1         4.0            91              93               1.0   72000000.0  \n",
       "2         5.0            91              91               3.0   80000000.0  \n",
       "3         4.0            91              91               3.0   51000000.0  \n",
       "4         3.0            90              93               1.0   68000000.0  "
      ]
     },
     "execution_count": 2,
     "metadata": {},
     "output_type": "execute_result"
    }
   ],
   "source": [
    "train.head(5)"
   ]
  },
  {
   "cell_type": "code",
   "execution_count": 3,
   "id": "9f0c2b1b",
   "metadata": {},
   "outputs": [
    {
     "data": {
      "text/html": [
       "<div>\n",
       "<style scoped>\n",
       "    .dataframe tbody tr th:only-of-type {\n",
       "        vertical-align: middle;\n",
       "    }\n",
       "\n",
       "    .dataframe tbody tr th {\n",
       "        vertical-align: top;\n",
       "    }\n",
       "\n",
       "    .dataframe thead th {\n",
       "        text-align: right;\n",
       "    }\n",
       "</style>\n",
       "<table border=\"1\" class=\"dataframe\">\n",
       "  <thead>\n",
       "    <tr style=\"text-align: right;\">\n",
       "      <th></th>\n",
       "      <th>id</th>\n",
       "      <th>age</th>\n",
       "      <th>reputation</th>\n",
       "      <th>stat_overall</th>\n",
       "      <th>stat_potential</th>\n",
       "      <th>stat_skill_moves</th>\n",
       "      <th>value</th>\n",
       "    </tr>\n",
       "  </thead>\n",
       "  <tbody>\n",
       "    <tr>\n",
       "      <th>count</th>\n",
       "      <td>8932.000000</td>\n",
       "      <td>8932.000000</td>\n",
       "      <td>8932.000000</td>\n",
       "      <td>8932.000000</td>\n",
       "      <td>8932.000000</td>\n",
       "      <td>8932.000000</td>\n",
       "      <td>8.932000e+03</td>\n",
       "    </tr>\n",
       "    <tr>\n",
       "      <th>mean</th>\n",
       "      <td>7966.775750</td>\n",
       "      <td>25.209136</td>\n",
       "      <td>1.130878</td>\n",
       "      <td>67.091133</td>\n",
       "      <td>71.997201</td>\n",
       "      <td>2.401702</td>\n",
       "      <td>2.778673e+06</td>\n",
       "    </tr>\n",
       "    <tr>\n",
       "      <th>std</th>\n",
       "      <td>4844.428521</td>\n",
       "      <td>4.635515</td>\n",
       "      <td>0.423792</td>\n",
       "      <td>6.854910</td>\n",
       "      <td>5.988147</td>\n",
       "      <td>0.776048</td>\n",
       "      <td>5.840982e+06</td>\n",
       "    </tr>\n",
       "    <tr>\n",
       "      <th>min</th>\n",
       "      <td>0.000000</td>\n",
       "      <td>16.000000</td>\n",
       "      <td>1.000000</td>\n",
       "      <td>47.000000</td>\n",
       "      <td>48.000000</td>\n",
       "      <td>1.000000</td>\n",
       "      <td>1.000000e+04</td>\n",
       "    </tr>\n",
       "    <tr>\n",
       "      <th>25%</th>\n",
       "      <td>3751.750000</td>\n",
       "      <td>21.000000</td>\n",
       "      <td>1.000000</td>\n",
       "      <td>63.000000</td>\n",
       "      <td>68.000000</td>\n",
       "      <td>2.000000</td>\n",
       "      <td>3.750000e+05</td>\n",
       "    </tr>\n",
       "    <tr>\n",
       "      <th>50%</th>\n",
       "      <td>7696.500000</td>\n",
       "      <td>25.000000</td>\n",
       "      <td>1.000000</td>\n",
       "      <td>67.000000</td>\n",
       "      <td>72.000000</td>\n",
       "      <td>2.000000</td>\n",
       "      <td>8.250000e+05</td>\n",
       "    </tr>\n",
       "    <tr>\n",
       "      <th>75%</th>\n",
       "      <td>12082.250000</td>\n",
       "      <td>28.000000</td>\n",
       "      <td>1.000000</td>\n",
       "      <td>72.000000</td>\n",
       "      <td>76.000000</td>\n",
       "      <td>3.000000</td>\n",
       "      <td>2.600000e+06</td>\n",
       "    </tr>\n",
       "    <tr>\n",
       "      <th>max</th>\n",
       "      <td>16948.000000</td>\n",
       "      <td>40.000000</td>\n",
       "      <td>5.000000</td>\n",
       "      <td>94.000000</td>\n",
       "      <td>94.000000</td>\n",
       "      <td>5.000000</td>\n",
       "      <td>1.105000e+08</td>\n",
       "    </tr>\n",
       "  </tbody>\n",
       "</table>\n",
       "</div>"
      ],
      "text/plain": [
       "                 id          age   reputation  stat_overall  stat_potential  \\\n",
       "count   8932.000000  8932.000000  8932.000000   8932.000000     8932.000000   \n",
       "mean    7966.775750    25.209136     1.130878     67.091133       71.997201   \n",
       "std     4844.428521     4.635515     0.423792      6.854910        5.988147   \n",
       "min        0.000000    16.000000     1.000000     47.000000       48.000000   \n",
       "25%     3751.750000    21.000000     1.000000     63.000000       68.000000   \n",
       "50%     7696.500000    25.000000     1.000000     67.000000       72.000000   \n",
       "75%    12082.250000    28.000000     1.000000     72.000000       76.000000   \n",
       "max    16948.000000    40.000000     5.000000     94.000000       94.000000   \n",
       "\n",
       "       stat_skill_moves         value  \n",
       "count       8932.000000  8.932000e+03  \n",
       "mean           2.401702  2.778673e+06  \n",
       "std            0.776048  5.840982e+06  \n",
       "min            1.000000  1.000000e+04  \n",
       "25%            2.000000  3.750000e+05  \n",
       "50%            2.000000  8.250000e+05  \n",
       "75%            3.000000  2.600000e+06  \n",
       "max            5.000000  1.105000e+08  "
      ]
     },
     "execution_count": 3,
     "metadata": {},
     "output_type": "execute_result"
    }
   ],
   "source": [
    "train.describe()"
   ]
  },
  {
   "cell_type": "code",
   "execution_count": 4,
   "id": "18bcd4e6",
   "metadata": {},
   "outputs": [
    {
     "name": "stdout",
     "output_type": "stream",
     "text": [
      "<class 'pandas.core.frame.DataFrame'>\n",
      "RangeIndex: 8932 entries, 0 to 8931\n",
      "Data columns (total 12 columns):\n",
      " #   Column            Non-Null Count  Dtype  \n",
      "---  ------            --------------  -----  \n",
      " 0   id                8932 non-null   int64  \n",
      " 1   name              8932 non-null   object \n",
      " 2   age               8932 non-null   int64  \n",
      " 3   continent         8932 non-null   object \n",
      " 4   contract_until    8932 non-null   object \n",
      " 5   position          8932 non-null   object \n",
      " 6   prefer_foot       8932 non-null   object \n",
      " 7   reputation        8932 non-null   float64\n",
      " 8   stat_overall      8932 non-null   int64  \n",
      " 9   stat_potential    8932 non-null   int64  \n",
      " 10  stat_skill_moves  8932 non-null   float64\n",
      " 11  value             8932 non-null   float64\n",
      "dtypes: float64(3), int64(4), object(5)\n",
      "memory usage: 837.5+ KB\n"
     ]
    }
   ],
   "source": [
    "train.info()"
   ]
  },
  {
   "cell_type": "markdown",
   "id": "eafeab71",
   "metadata": {},
   "source": [
    "데이터를 간단하게 살펴보았는데 이상치와 결측값이 없는 잘 정제된 데이터이다. \n",
    "\n",
    "contract_until 칼럼이 숫자열인척 하는 문자열이므로 주의"
   ]
  },
  {
   "cell_type": "markdown",
   "id": "7705fd14",
   "metadata": {},
   "source": [
    "# 데이터 전처리\n",
    "\n",
    "id와 name 칼럼은 훈련에 필요하지 않으니 삭제해준다\n",
    "\n",
    "['contract_until'] 칼럼을 int형으로 바꾸어준다"
   ]
  },
  {
   "cell_type": "code",
   "execution_count": 5,
   "id": "061f97a9",
   "metadata": {},
   "outputs": [],
   "source": [
    "train = train.drop(['id','name'],axis=1)\n",
    "test = test.drop(['id','name'],axis=1)"
   ]
  },
  {
   "cell_type": "code",
   "execution_count": 6,
   "id": "5ce2086f",
   "metadata": {},
   "outputs": [
    {
     "data": {
      "text/html": [
       "<div>\n",
       "<style scoped>\n",
       "    .dataframe tbody tr th:only-of-type {\n",
       "        vertical-align: middle;\n",
       "    }\n",
       "\n",
       "    .dataframe tbody tr th {\n",
       "        vertical-align: top;\n",
       "    }\n",
       "\n",
       "    .dataframe thead th {\n",
       "        text-align: right;\n",
       "    }\n",
       "</style>\n",
       "<table border=\"1\" class=\"dataframe\">\n",
       "  <thead>\n",
       "    <tr style=\"text-align: right;\">\n",
       "      <th></th>\n",
       "      <th>age</th>\n",
       "      <th>continent</th>\n",
       "      <th>contract_until</th>\n",
       "      <th>position</th>\n",
       "      <th>prefer_foot</th>\n",
       "      <th>reputation</th>\n",
       "      <th>stat_overall</th>\n",
       "      <th>stat_potential</th>\n",
       "      <th>stat_skill_moves</th>\n",
       "      <th>value</th>\n",
       "    </tr>\n",
       "  </thead>\n",
       "  <tbody>\n",
       "    <tr>\n",
       "      <th>0</th>\n",
       "      <td>31</td>\n",
       "      <td>south america</td>\n",
       "      <td>2021</td>\n",
       "      <td>ST</td>\n",
       "      <td>left</td>\n",
       "      <td>5.0</td>\n",
       "      <td>94</td>\n",
       "      <td>94</td>\n",
       "      <td>4.0</td>\n",
       "      <td>110500000.0</td>\n",
       "    </tr>\n",
       "    <tr>\n",
       "      <th>1</th>\n",
       "      <td>27</td>\n",
       "      <td>europe</td>\n",
       "      <td>2020</td>\n",
       "      <td>GK</td>\n",
       "      <td>right</td>\n",
       "      <td>4.0</td>\n",
       "      <td>91</td>\n",
       "      <td>93</td>\n",
       "      <td>1.0</td>\n",
       "      <td>72000000.0</td>\n",
       "    </tr>\n",
       "    <tr>\n",
       "      <th>2</th>\n",
       "      <td>31</td>\n",
       "      <td>south america</td>\n",
       "      <td>2021</td>\n",
       "      <td>ST</td>\n",
       "      <td>right</td>\n",
       "      <td>5.0</td>\n",
       "      <td>91</td>\n",
       "      <td>91</td>\n",
       "      <td>3.0</td>\n",
       "      <td>80000000.0</td>\n",
       "    </tr>\n",
       "    <tr>\n",
       "      <th>3</th>\n",
       "      <td>32</td>\n",
       "      <td>europe</td>\n",
       "      <td>2020</td>\n",
       "      <td>DF</td>\n",
       "      <td>right</td>\n",
       "      <td>4.0</td>\n",
       "      <td>91</td>\n",
       "      <td>91</td>\n",
       "      <td>3.0</td>\n",
       "      <td>51000000.0</td>\n",
       "    </tr>\n",
       "    <tr>\n",
       "      <th>4</th>\n",
       "      <td>25</td>\n",
       "      <td>europe</td>\n",
       "      <td>2021</td>\n",
       "      <td>GK</td>\n",
       "      <td>right</td>\n",
       "      <td>3.0</td>\n",
       "      <td>90</td>\n",
       "      <td>93</td>\n",
       "      <td>1.0</td>\n",
       "      <td>68000000.0</td>\n",
       "    </tr>\n",
       "  </tbody>\n",
       "</table>\n",
       "</div>"
      ],
      "text/plain": [
       "   age      continent contract_until position prefer_foot  reputation  \\\n",
       "0   31  south america           2021       ST        left         5.0   \n",
       "1   27         europe           2020       GK       right         4.0   \n",
       "2   31  south america           2021       ST       right         5.0   \n",
       "3   32         europe           2020       DF       right         4.0   \n",
       "4   25         europe           2021       GK       right         3.0   \n",
       "\n",
       "   stat_overall  stat_potential  stat_skill_moves        value  \n",
       "0            94              94               4.0  110500000.0  \n",
       "1            91              93               1.0   72000000.0  \n",
       "2            91              91               3.0   80000000.0  \n",
       "3            91              91               3.0   51000000.0  \n",
       "4            90              93               1.0   68000000.0  "
      ]
     },
     "execution_count": 6,
     "metadata": {},
     "output_type": "execute_result"
    }
   ],
   "source": [
    "train.head(5)"
   ]
  },
  {
   "cell_type": "code",
   "execution_count": 7,
   "id": "923d6303",
   "metadata": {},
   "outputs": [
    {
     "data": {
      "text/plain": [
       "2019            2366\n",
       "2021            2308\n",
       "2020            2041\n",
       "2022             761\n",
       "2023             506\n",
       "Jun 30, 2019     501\n",
       "2018             327\n",
       "Dec 31, 2018      64\n",
       "May 31, 2019      19\n",
       "2024              12\n",
       "Jan 31, 2019      10\n",
       "Jun 30, 2020       9\n",
       "2025               3\n",
       "Jan 1, 2019        2\n",
       "2026               1\n",
       "May 31, 2020       1\n",
       "Jan 12, 2019       1\n",
       "Name: contract_until, dtype: int64"
      ]
     },
     "execution_count": 7,
     "metadata": {},
     "output_type": "execute_result"
    }
   ],
   "source": [
    "train['contract_until'].value_counts()"
   ]
  },
  {
   "cell_type": "markdown",
   "id": "90c626df",
   "metadata": {},
   "source": [
    "['contract_until'] 칼럼을 바꿔주려고 했더니 중간에 문자열이 들어간 칼럼이 존재했다."
   ]
  },
  {
   "cell_type": "code",
   "execution_count": 8,
   "id": "ec8e53ea",
   "metadata": {},
   "outputs": [],
   "source": [
    "def to_numeric(x):\n",
    "    if '2018' in x:\n",
    "        x = 2018\n",
    "    elif '2019' in x:\n",
    "        x = 2019\n",
    "    elif '2020' in x:\n",
    "        x = 2020\n",
    "    elif '2021' in x:\n",
    "        x = 2021\n",
    "    elif '2022' in x:\n",
    "        x = 2022\n",
    "    elif '2023' in x:\n",
    "        x = 2023\n",
    "    elif '2024' in x:\n",
    "        x = 2024    \n",
    "    elif '2025' in x:\n",
    "        x = 2025\n",
    "    elif '2026' in x:\n",
    "        x = 2026   \n",
    "    return x"
   ]
  },
  {
   "cell_type": "code",
   "execution_count": 9,
   "id": "e5aa841b",
   "metadata": {},
   "outputs": [],
   "source": [
    "train['contract_until'] = train['contract_until'].apply(lambda x : to_numeric(x))\n",
    "test['contract_until'] = test['contract_until'].apply(lambda x : to_numeric(x))"
   ]
  },
  {
   "cell_type": "markdown",
   "id": "40b7cab9",
   "metadata": {},
   "source": [
    "전처리는 이렇게 마쳤다 잘 정제된 데이터라 처리해줄것이 없음!"
   ]
  },
  {
   "cell_type": "markdown",
   "id": "8de4ccac",
   "metadata": {},
   "source": [
    "# EDA"
   ]
  },
  {
   "cell_type": "markdown",
   "id": "0a719ac4",
   "metadata": {},
   "source": [
    "각 피처의 분포와 타겟데이터간의 상관관계를 나열해볼것이다."
   ]
  },
  {
   "cell_type": "code",
   "execution_count": 10,
   "id": "02a07f82",
   "metadata": {},
   "outputs": [],
   "source": [
    "import seaborn as sns\n",
    "import matplotlib.pyplot as plt"
   ]
  },
  {
   "cell_type": "markdown",
   "id": "9c5902e9",
   "metadata": {},
   "source": [
    "# age"
   ]
  },
  {
   "cell_type": "code",
   "execution_count": 11,
   "id": "9c754dd6",
   "metadata": {},
   "outputs": [
    {
     "name": "stderr",
     "output_type": "stream",
     "text": [
      "C:\\Users\\lmj\\anaconda3\\lib\\site-packages\\seaborn\\_decorators.py:36: FutureWarning: Pass the following variable as a keyword arg: x. From version 0.12, the only valid positional argument will be `data`, and passing other arguments without an explicit keyword will result in an error or misinterpretation.\n",
      "  warnings.warn(\n"
     ]
    },
    {
     "data": {
      "text/plain": [
       "<AxesSubplot:xlabel='age', ylabel='count'>"
      ]
     },
     "execution_count": 11,
     "metadata": {},
     "output_type": "execute_result"
    },
    {
     "data": {
      "image/png": "[encoded data removed]",
      "text/plain": [
       "<Figure size 432x288 with 1 Axes>"
      ]
     },
     "metadata": {
      "needs_background": "light"
     },
     "output_type": "display_data"
    }
   ],
   "source": [
    "sns.countplot(train['age'])"
   ]
  },
  {
   "cell_type": "markdown",
   "id": "547e76aa",
   "metadata": {},
   "source": [
    "seaborn의 countplot으로 나이대의 분포를 한눈에 확인할 수 있다\n",
    "\n",
    "20~26 살의 선수들이 많고 특히 30살 이후로는 쭉쭉 떨어진다."
   ]
  },
  {
   "cell_type": "code",
   "execution_count": 12,
   "id": "607ca1b3",
   "metadata": {},
   "outputs": [
    {
     "data": {
      "text/plain": [
       "<AxesSubplot:xlabel='age', ylabel='value'>"
      ]
     },
     "execution_count": 12,
     "metadata": {},
     "output_type": "execute_result"
    },
    {
     "data": {
      "image/png": "[encoded data removed]",
      "text/plain": [
       "<Figure size 432x288 with 1 Axes>"
      ]
     },
     "metadata": {
      "needs_background": "light"
     },
     "output_type": "display_data"
    }
   ],
   "source": [
    "sns.lineplot(data=train, x='age',y='value')"
   ]
  },
  {
   "cell_type": "markdown",
   "id": "7a604c7d",
   "metadata": {},
   "source": [
    "seaborn의 lineplot을 이용해 두 수치형 데이터간의 상관관계를 살펴보았다\n",
    "\n",
    "20살부터 연봉이 급격하게 오르기 시작하고 30이후로는 연봉이 급격하게 떨어진다. \n",
    "\n",
    "특이한점은 30후반대에 연봉이 급격하게 오르는데 편차가 매우 심한걸로 봐서는 \n",
    "\n",
    "몇 없는 데이터 중에서 나이든 프랜차이즈 스타? 라고 추정되는 사람들의 연봉이 높아서 저런 현상이 나타난것으로 보인다."
   ]
  },
  {
   "cell_type": "markdown",
   "id": "24b06503",
   "metadata": {},
   "source": [
    "# contitent (출신)"
   ]
  },
  {
   "cell_type": "code",
   "execution_count": 13,
   "id": "6f8cc0fb",
   "metadata": {},
   "outputs": [
    {
     "name": "stderr",
     "output_type": "stream",
     "text": [
      "C:\\Users\\lmj\\anaconda3\\lib\\site-packages\\seaborn\\_decorators.py:36: FutureWarning: Pass the following variable as a keyword arg: x. From version 0.12, the only valid positional argument will be `data`, and passing other arguments without an explicit keyword will result in an error or misinterpretation.\n",
      "  warnings.warn(\n"
     ]
    },
    {
     "data": {
      "text/plain": [
       "<AxesSubplot:xlabel='continent', ylabel='count'>"
      ]
     },
     "execution_count": 13,
     "metadata": {},
     "output_type": "execute_result"
    },
    {
     "data": {
      "image/png": "[encoded data removed]",
      "text/plain": [
       "<Figure size 432x288 with 1 Axes>"
      ]
     },
     "metadata": {
      "needs_background": "light"
     },
     "output_type": "display_data"
    }
   ],
   "source": [
    "sns.countplot(train['continent'])"
   ]
  },
  {
   "cell_type": "markdown",
   "id": "d6d21af9",
   "metadata": {},
   "source": [
    "역시 축구의 본고장답게 유럽이 가장 많은 선수를 배출했고 그 뒤로 미국, 아시아, 아프리카, 오세아니아 순이다."
   ]
  },
  {
   "cell_type": "code",
   "execution_count": 14,
   "id": "5810dd17",
   "metadata": {},
   "outputs": [
    {
     "data": {
      "text/plain": [
       "<AxesSubplot:xlabel='continent', ylabel='value'>"
      ]
     },
     "execution_count": 14,
     "metadata": {},
     "output_type": "execute_result"
    },
    {
     "data": {
      "image/png": "[encoded data removed]",
      "text/plain": [
       "<Figure size 432x288 with 1 Axes>"
      ]
     },
     "metadata": {
      "needs_background": "light"
     },
     "output_type": "display_data"
    }
   ],
   "source": [
    "sns.barplot(data=train, x='continent',y='value')"
   ]
  },
  {
   "cell_type": "markdown",
   "id": "35c14c4a",
   "metadata": {},
   "source": [
    "seaborn의 barplot을 이용해 국가별 연봉의 평균치를 시각화해보았다\n",
    "\n",
    "미국, 유럽, 아프리카 선수들의 연봉과 아시아, 오세아니아 선수들의 연봉이 눈에띄게 차이나는것을 볼 수 있다..."
   ]
  },
  {
   "cell_type": "markdown",
   "id": "39a9f990",
   "metadata": {},
   "source": [
    "# contract_until(계약기간)"
   ]
  },
  {
   "cell_type": "code",
   "execution_count": 15,
   "id": "78ebf557",
   "metadata": {},
   "outputs": [
    {
     "name": "stderr",
     "output_type": "stream",
     "text": [
      "C:\\Users\\lmj\\anaconda3\\lib\\site-packages\\seaborn\\_decorators.py:36: FutureWarning: Pass the following variable as a keyword arg: x. From version 0.12, the only valid positional argument will be `data`, and passing other arguments without an explicit keyword will result in an error or misinterpretation.\n",
      "  warnings.warn(\n"
     ]
    },
    {
     "data": {
      "text/plain": [
       "<AxesSubplot:xlabel='contract_until', ylabel='count'>"
      ]
     },
     "execution_count": 15,
     "metadata": {},
     "output_type": "execute_result"
    },
    {
     "data": {
      "image/png": "[encoded data removed]",
      "text/plain": [
       "<Figure size 432x288 with 1 Axes>"
      ]
     },
     "metadata": {
      "needs_background": "light"
     },
     "output_type": "display_data"
    }
   ],
   "source": [
    "sns.countplot(train['contract_until'])"
   ]
  },
  {
   "cell_type": "code",
   "execution_count": 16,
   "id": "1c037533",
   "metadata": {},
   "outputs": [
    {
     "data": {
      "text/plain": [
       "<AxesSubplot:xlabel='contract_until', ylabel='value'>"
      ]
     },
     "execution_count": 16,
     "metadata": {},
     "output_type": "execute_result"
    },
    {
     "data": {
      "image/png": "[encoded data removed]",
      "text/plain": [
       "<Figure size 432x288 with 1 Axes>"
      ]
     },
     "metadata": {
      "needs_background": "light"
     },
     "output_type": "display_data"
    }
   ],
   "source": [
    "sns.lineplot(data=train, x='contract_until', y='value')"
   ]
  },
  {
   "cell_type": "markdown",
   "id": "456051dc",
   "metadata": {},
   "source": [
    "계약기간의 분포를 살펴보는건 별 의미없을거같아 타겟데이터와의 관계만 살펴보았다.\n",
    "\n",
    "사실 연봉과 계약만료일은 별로 상관이 없어보인다. \n",
    "\n",
    "2024년 이후의 데이터는 없다고 해도 무방한 수준의 미미한 데이터이므로 몇개의 데이터가 전체 평균을 좌지우지한다.\n",
    "\n",
    "그래도 연봉이 높아지는 이유를 뽑자면 간판스타를 놓치지 않기위해 고액의 연봉으로 다년간 계약을 성사시켰기 때문..?"
   ]
  },
  {
   "cell_type": "markdown",
   "id": "0a3acbf2",
   "metadata": {},
   "source": [
    "# position"
   ]
  },
  {
   "cell_type": "code",
   "execution_count": 17,
   "id": "a797a16d",
   "metadata": {},
   "outputs": [
    {
     "name": "stderr",
     "output_type": "stream",
     "text": [
      "C:\\Users\\lmj\\anaconda3\\lib\\site-packages\\seaborn\\_decorators.py:36: FutureWarning: Pass the following variable as a keyword arg: x. From version 0.12, the only valid positional argument will be `data`, and passing other arguments without an explicit keyword will result in an error or misinterpretation.\n",
      "  warnings.warn(\n"
     ]
    },
    {
     "data": {
      "text/plain": [
       "<AxesSubplot:xlabel='position', ylabel='count'>"
      ]
     },
     "execution_count": 17,
     "metadata": {},
     "output_type": "execute_result"
    },
    {
     "data": {
      "image/png": "[encoded data removed]",
      "text/plain": [
       "<Figure size 432x288 with 1 Axes>"
      ]
     },
     "metadata": {
      "needs_background": "light"
     },
     "output_type": "display_data"
    }
   ],
   "source": [
    "sns.countplot(train['position'])"
   ]
  },
  {
   "cell_type": "markdown",
   "id": "4d68c05d",
   "metadata": {},
   "source": [
    "ST는 공격수, GK는 골기퍼, DF는 수비수, MF는 미드필더 라고 생각한다.\n",
    "\n",
    "미드필더>수비수>공격수>골기퍼 순으로 많다 (당연)"
   ]
  },
  {
   "cell_type": "code",
   "execution_count": 18,
   "id": "9fcd3e33",
   "metadata": {},
   "outputs": [
    {
     "data": {
      "text/plain": [
       "<AxesSubplot:xlabel='position', ylabel='value'>"
      ]
     },
     "execution_count": 18,
     "metadata": {},
     "output_type": "execute_result"
    },
    {
     "data": {
      "image/png": "[encoded data removed]",
      "text/plain": [
       "<Figure size 432x288 with 1 Axes>"
      ]
     },
     "metadata": {
      "needs_background": "light"
     },
     "output_type": "display_data"
    }
   ],
   "source": [
    "sns.barplot(data=train, x='position', y='value')"
   ]
  },
  {
   "cell_type": "markdown",
   "id": "5d7a3ad6",
   "metadata": {},
   "source": [
    "각 포지션별로 연봉을 살펴보니 공격수 > 미드필더 > 수비수 > 골기퍼 순으로 연봉이 높다"
   ]
  },
  {
   "cell_type": "markdown",
   "id": "0cc166b9",
   "metadata": {},
   "source": [
    "# prefer_foot"
   ]
  },
  {
   "cell_type": "code",
   "execution_count": 19,
   "id": "eb38ab39",
   "metadata": {},
   "outputs": [
    {
     "name": "stderr",
     "output_type": "stream",
     "text": [
      "C:\\Users\\lmj\\anaconda3\\lib\\site-packages\\seaborn\\_decorators.py:36: FutureWarning: Pass the following variable as a keyword arg: x. From version 0.12, the only valid positional argument will be `data`, and passing other arguments without an explicit keyword will result in an error or misinterpretation.\n",
      "  warnings.warn(\n"
     ]
    },
    {
     "data": {
      "text/plain": [
       "<AxesSubplot:xlabel='prefer_foot', ylabel='count'>"
      ]
     },
     "execution_count": 19,
     "metadata": {},
     "output_type": "execute_result"
    },
    {
     "data": {
      "image/png": "[encoded data removed]",
      "text/plain": [
       "<Figure size 432x288 with 1 Axes>"
      ]
     },
     "metadata": {
      "needs_background": "light"
     },
     "output_type": "display_data"
    }
   ],
   "source": [
    "sns.countplot(train['prefer_foot'])"
   ]
  },
  {
   "cell_type": "markdown",
   "id": "b6eee455",
   "metadata": {},
   "source": [
    "왼발잡이보다 오른발잡이가 훨씬 많다"
   ]
  },
  {
   "cell_type": "code",
   "execution_count": 20,
   "id": "3382f622",
   "metadata": {},
   "outputs": [
    {
     "data": {
      "text/plain": [
       "<AxesSubplot:xlabel='prefer_foot', ylabel='value'>"
      ]
     },
     "execution_count": 20,
     "metadata": {},
     "output_type": "execute_result"
    },
    {
     "data": {
      "image/png": "[encoded data removed]",
      "text/plain": [
       "<Figure size 432x288 with 1 Axes>"
      ]
     },
     "metadata": {
      "needs_background": "light"
     },
     "output_type": "display_data"
    }
   ],
   "source": [
    "sns.barplot(data=train, x='prefer_foot', y='value')"
   ]
  },
  {
   "cell_type": "markdown",
   "id": "3cfff5d2",
   "metadata": {},
   "source": [
    "거의 비슷한 수준이지만 왼발잡이의 평균연봉이 더 높다 대신 왼발잡이의 연봉편차가 더 크다."
   ]
  },
  {
   "cell_type": "markdown",
   "id": "51c03d19",
   "metadata": {},
   "source": [
    "# reputation(유명세)\t"
   ]
  },
  {
   "cell_type": "code",
   "execution_count": 21,
   "id": "6d49b6e7",
   "metadata": {
    "scrolled": true
   },
   "outputs": [
    {
     "data": {
      "text/plain": [
       "<AxesSubplot:xlabel='reputation', ylabel='value'>"
      ]
     },
     "execution_count": 21,
     "metadata": {},
     "output_type": "execute_result"
    },
    {
     "data": {
      "image/png": "[encoded data removed]",
      "text/plain": [
       "<Figure size 432x288 with 1 Axes>"
      ]
     },
     "metadata": {
      "needs_background": "light"
     },
     "output_type": "display_data"
    }
   ],
   "source": [
    "sns.lineplot(data=train, x='reputation', y='value')"
   ]
  },
  {
   "cell_type": "markdown",
   "id": "18f44a94",
   "metadata": {},
   "source": [
    "당연하게도 유명세와 연봉은 비례한다. 그것이 유명세니까(펀쿨섹)\n",
    "\n",
    "참고로 유명세는 숫자가 클수록 유명하고 수도 점점 적어진다"
   ]
  },
  {
   "cell_type": "markdown",
   "id": "30bddca8",
   "metadata": {},
   "source": [
    "# stat_overall(능력치)"
   ]
  },
  {
   "cell_type": "code",
   "execution_count": 22,
   "id": "6a2af5f9",
   "metadata": {},
   "outputs": [
    {
     "data": {
      "text/plain": [
       "<AxesSubplot:xlabel='stat_overall', ylabel='Count'>"
      ]
     },
     "execution_count": 22,
     "metadata": {},
     "output_type": "execute_result"
    },
    {
     "data": {
      "image/png": "[encoded data removed]",
      "text/plain": [
       "<Figure size 432x288 with 1 Axes>"
      ]
     },
     "metadata": {
      "needs_background": "light"
     },
     "output_type": "display_data"
    }
   ],
   "source": [
    "sns.histplot(train['stat_overall'])"
   ]
  },
  {
   "cell_type": "markdown",
   "id": "584047c9",
   "metadata": {},
   "source": [
    "seaborn의 histplot기능을 이용해 큰 범위 수치의 데이터분포를 한눈에 볼 수 있다\n",
    "\n",
    "능력치는 정규분포 형태를 띄고 있으며 60~75 정도가 대부분을 차지하고 있다."
   ]
  },
  {
   "cell_type": "code",
   "execution_count": 23,
   "id": "36d39ad0",
   "metadata": {},
   "outputs": [
    {
     "data": {
      "text/plain": [
       "<AxesSubplot:xlabel='stat_overall', ylabel='value'>"
      ]
     },
     "execution_count": 23,
     "metadata": {},
     "output_type": "execute_result"
    },
    {
     "data": {
      "image/png": "[encoded data removed]",
      "text/plain": [
       "<Figure size 432x288 with 1 Axes>"
      ]
     },
     "metadata": {
      "needs_background": "light"
     },
     "output_type": "display_data"
    }
   ],
   "source": [
    "sns.lineplot(data=train,x='stat_overall',y='value')"
   ]
  },
  {
   "cell_type": "markdown",
   "id": "7e32a2b8",
   "metadata": {},
   "source": [
    "능력치가 올라갈수록 연봉도 지수형태로 수직상승한다.\n",
    " \n",
    "후반부에 약간 연봉이 꺾이는 부분이 있지만 80~90점대 선수들이 없다보니 데이터가 부족하여 생길 수 있는 현상이다."
   ]
  },
  {
   "cell_type": "markdown",
   "id": "17727127",
   "metadata": {},
   "source": [
    "# stat_potential(잠재력)\t"
   ]
  },
  {
   "cell_type": "code",
   "execution_count": 24,
   "id": "848c2d16",
   "metadata": {},
   "outputs": [
    {
     "data": {
      "text/plain": [
       "<AxesSubplot:xlabel='stat_potential', ylabel='Count'>"
      ]
     },
     "execution_count": 24,
     "metadata": {},
     "output_type": "execute_result"
    },
    {
     "data": {
      "image/png": "[encoded data removed]",
      "text/plain": [
       "<Figure size 432x288 with 1 Axes>"
      ]
     },
     "metadata": {
      "needs_background": "light"
     },
     "output_type": "display_data"
    }
   ],
   "source": [
    "sns.histplot(train['stat_potential'])"
   ]
  },
  {
   "cell_type": "markdown",
   "id": "16ee6717",
   "metadata": {},
   "source": [
    "잠재력 또한 정규분포의 형태를 띈다\n",
    "\n",
    "능력치보다는 전체적으로 상향된 평균값을 보인다. 그것이 잠재력이니까."
   ]
  },
  {
   "cell_type": "code",
   "execution_count": 25,
   "id": "fc1852dc",
   "metadata": {},
   "outputs": [
    {
     "data": {
      "text/plain": [
       "<AxesSubplot:xlabel='stat_potential', ylabel='value'>"
      ]
     },
     "execution_count": 25,
     "metadata": {},
     "output_type": "execute_result"
    },
    {
     "data": {
      "image/png": "[encoded data removed]",
      "text/plain": [
       "<Figure size 432x288 with 1 Axes>"
      ]
     },
     "metadata": {
      "needs_background": "light"
     },
     "output_type": "display_data"
    }
   ],
   "source": [
    "sns.lineplot(data=train,x='stat_potential',y='value')"
   ]
  },
  {
   "cell_type": "markdown",
   "id": "2c695d69",
   "metadata": {},
   "source": [
    "잠재력 또한 능력치처럼 우상향 그래프가 보인다.\n",
    "\n",
    "꺾이는 부분 또한 능력치와 같은 이유라고 생각한다."
   ]
  },
  {
   "cell_type": "markdown",
   "id": "b29812b8",
   "metadata": {},
   "source": [
    "# stat_skill_moves(개인기)\t"
   ]
  },
  {
   "cell_type": "code",
   "execution_count": 26,
   "id": "aec8c243",
   "metadata": {},
   "outputs": [
    {
     "name": "stderr",
     "output_type": "stream",
     "text": [
      "C:\\Users\\lmj\\anaconda3\\lib\\site-packages\\seaborn\\_decorators.py:36: FutureWarning: Pass the following variable as a keyword arg: x. From version 0.12, the only valid positional argument will be `data`, and passing other arguments without an explicit keyword will result in an error or misinterpretation.\n",
      "  warnings.warn(\n"
     ]
    },
    {
     "data": {
      "text/plain": [
       "<AxesSubplot:xlabel='stat_skill_moves', ylabel='count'>"
      ]
     },
     "execution_count": 26,
     "metadata": {},
     "output_type": "execute_result"
    },
    {
     "data": {
      "image/png": "[encoded data removed]",
      "text/plain": [
       "<Figure size 432x288 with 1 Axes>"
      ]
     },
     "metadata": {
      "needs_background": "light"
     },
     "output_type": "display_data"
    }
   ],
   "source": [
    "sns.countplot(train['stat_skill_moves'])"
   ]
  },
  {
   "cell_type": "markdown",
   "id": "981fc339",
   "metadata": {},
   "source": [
    "개인기는 평점이 2~3점인 선수가 대부분이다 \n",
    "\n",
    "유명세와 다르게 1점인 선수들이 좀 적다"
   ]
  },
  {
   "cell_type": "code",
   "execution_count": 27,
   "id": "a8942686",
   "metadata": {},
   "outputs": [
    {
     "data": {
      "text/plain": [
       "<AxesSubplot:xlabel='stat_skill_moves', ylabel='value'>"
      ]
     },
     "execution_count": 27,
     "metadata": {},
     "output_type": "execute_result"
    },
    {
     "data": {
      "image/png": "[encoded data removed]",
      "text/plain": [
       "<Figure size 432x288 with 1 Axes>"
      ]
     },
     "metadata": {
      "needs_background": "light"
     },
     "output_type": "display_data"
    }
   ],
   "source": [
    "sns.barplot(data=train,x='stat_skill_moves',y='value')"
   ]
  },
  {
   "cell_type": "markdown",
   "id": "78dca567",
   "metadata": {},
   "source": [
    "특이하게 개인기가 1점인 선수의 연봉이 2점인 선수의 연봉보다 살짝 높다 (별차이는 없는 수준)\n",
    "\n",
    "개인기평점이 4점이상이되면 연봉이 급격히 늘어난다."
   ]
  },
  {
   "cell_type": "markdown",
   "id": "0548a414",
   "metadata": {},
   "source": [
    "# 인코딩"
   ]
  },
  {
   "cell_type": "markdown",
   "id": "9c881fff",
   "metadata": {},
   "source": [
    "회귀이므로 레이블인코딩 대신 원핫인고딩을 해줄것이다"
   ]
  },
  {
   "cell_type": "code",
   "execution_count": 37,
   "id": "b484fb27",
   "metadata": {},
   "outputs": [],
   "source": [
    "train = pd.get_dummies(train)\n",
    "test= pd.get_dummies(test)"
   ]
  },
  {
   "cell_type": "code",
   "execution_count": 40,
   "id": "154f0996",
   "metadata": {},
   "outputs": [
    {
     "data": {
      "text/html": [
       "<div>\n",
       "<style scoped>\n",
       "    .dataframe tbody tr th:only-of-type {\n",
       "        vertical-align: middle;\n",
       "    }\n",
       "\n",
       "    .dataframe tbody tr th {\n",
       "        vertical-align: top;\n",
       "    }\n",
       "\n",
       "    .dataframe thead th {\n",
       "        text-align: right;\n",
       "    }\n",
       "</style>\n",
       "<table border=\"1\" class=\"dataframe\">\n",
       "  <thead>\n",
       "    <tr style=\"text-align: right;\">\n",
       "      <th></th>\n",
       "      <th>age</th>\n",
       "      <th>contract_until</th>\n",
       "      <th>reputation</th>\n",
       "      <th>stat_overall</th>\n",
       "      <th>stat_potential</th>\n",
       "      <th>stat_skill_moves</th>\n",
       "      <th>value</th>\n",
       "      <th>continent_africa</th>\n",
       "      <th>continent_asia</th>\n",
       "      <th>continent_europe</th>\n",
       "      <th>continent_oceania</th>\n",
       "      <th>continent_south america</th>\n",
       "      <th>position_DF</th>\n",
       "      <th>position_GK</th>\n",
       "      <th>position_MF</th>\n",
       "      <th>position_ST</th>\n",
       "      <th>prefer_foot_left</th>\n",
       "      <th>prefer_foot_right</th>\n",
       "    </tr>\n",
       "  </thead>\n",
       "  <tbody>\n",
       "    <tr>\n",
       "      <th>0</th>\n",
       "      <td>31</td>\n",
       "      <td>2021</td>\n",
       "      <td>5.0</td>\n",
       "      <td>94</td>\n",
       "      <td>94</td>\n",
       "      <td>4.0</td>\n",
       "      <td>110500000.0</td>\n",
       "      <td>0</td>\n",
       "      <td>0</td>\n",
       "      <td>0</td>\n",
       "      <td>0</td>\n",
       "      <td>1</td>\n",
       "      <td>0</td>\n",
       "      <td>0</td>\n",
       "      <td>0</td>\n",
       "      <td>1</td>\n",
       "      <td>1</td>\n",
       "      <td>0</td>\n",
       "    </tr>\n",
       "    <tr>\n",
       "      <th>1</th>\n",
       "      <td>27</td>\n",
       "      <td>2020</td>\n",
       "      <td>4.0</td>\n",
       "      <td>91</td>\n",
       "      <td>93</td>\n",
       "      <td>1.0</td>\n",
       "      <td>72000000.0</td>\n",
       "      <td>0</td>\n",
       "      <td>0</td>\n",
       "      <td>1</td>\n",
       "      <td>0</td>\n",
       "      <td>0</td>\n",
       "      <td>0</td>\n",
       "      <td>1</td>\n",
       "      <td>0</td>\n",
       "      <td>0</td>\n",
       "      <td>0</td>\n",
       "      <td>1</td>\n",
       "    </tr>\n",
       "    <tr>\n",
       "      <th>2</th>\n",
       "      <td>31</td>\n",
       "      <td>2021</td>\n",
       "      <td>5.0</td>\n",
       "      <td>91</td>\n",
       "      <td>91</td>\n",
       "      <td>3.0</td>\n",
       "      <td>80000000.0</td>\n",
       "      <td>0</td>\n",
       "      <td>0</td>\n",
       "      <td>0</td>\n",
       "      <td>0</td>\n",
       "      <td>1</td>\n",
       "      <td>0</td>\n",
       "      <td>0</td>\n",
       "      <td>0</td>\n",
       "      <td>1</td>\n",
       "      <td>0</td>\n",
       "      <td>1</td>\n",
       "    </tr>\n",
       "    <tr>\n",
       "      <th>3</th>\n",
       "      <td>32</td>\n",
       "      <td>2020</td>\n",
       "      <td>4.0</td>\n",
       "      <td>91</td>\n",
       "      <td>91</td>\n",
       "      <td>3.0</td>\n",
       "      <td>51000000.0</td>\n",
       "      <td>0</td>\n",
       "      <td>0</td>\n",
       "      <td>1</td>\n",
       "      <td>0</td>\n",
       "      <td>0</td>\n",
       "      <td>1</td>\n",
       "      <td>0</td>\n",
       "      <td>0</td>\n",
       "      <td>0</td>\n",
       "      <td>0</td>\n",
       "      <td>1</td>\n",
       "    </tr>\n",
       "    <tr>\n",
       "      <th>4</th>\n",
       "      <td>25</td>\n",
       "      <td>2021</td>\n",
       "      <td>3.0</td>\n",
       "      <td>90</td>\n",
       "      <td>93</td>\n",
       "      <td>1.0</td>\n",
       "      <td>68000000.0</td>\n",
       "      <td>0</td>\n",
       "      <td>0</td>\n",
       "      <td>1</td>\n",
       "      <td>0</td>\n",
       "      <td>0</td>\n",
       "      <td>0</td>\n",
       "      <td>1</td>\n",
       "      <td>0</td>\n",
       "      <td>0</td>\n",
       "      <td>0</td>\n",
       "      <td>1</td>\n",
       "    </tr>\n",
       "    <tr>\n",
       "      <th>...</th>\n",
       "      <td>...</td>\n",
       "      <td>...</td>\n",
       "      <td>...</td>\n",
       "      <td>...</td>\n",
       "      <td>...</td>\n",
       "      <td>...</td>\n",
       "      <td>...</td>\n",
       "      <td>...</td>\n",
       "      <td>...</td>\n",
       "      <td>...</td>\n",
       "      <td>...</td>\n",
       "      <td>...</td>\n",
       "      <td>...</td>\n",
       "      <td>...</td>\n",
       "      <td>...</td>\n",
       "      <td>...</td>\n",
       "      <td>...</td>\n",
       "      <td>...</td>\n",
       "    </tr>\n",
       "    <tr>\n",
       "      <th>8927</th>\n",
       "      <td>18</td>\n",
       "      <td>2019</td>\n",
       "      <td>1.0</td>\n",
       "      <td>48</td>\n",
       "      <td>63</td>\n",
       "      <td>3.0</td>\n",
       "      <td>60000.0</td>\n",
       "      <td>1</td>\n",
       "      <td>0</td>\n",
       "      <td>0</td>\n",
       "      <td>0</td>\n",
       "      <td>0</td>\n",
       "      <td>0</td>\n",
       "      <td>0</td>\n",
       "      <td>1</td>\n",
       "      <td>0</td>\n",
       "      <td>0</td>\n",
       "      <td>1</td>\n",
       "    </tr>\n",
       "    <tr>\n",
       "      <th>8928</th>\n",
       "      <td>19</td>\n",
       "      <td>2020</td>\n",
       "      <td>1.0</td>\n",
       "      <td>47</td>\n",
       "      <td>59</td>\n",
       "      <td>2.0</td>\n",
       "      <td>40000.0</td>\n",
       "      <td>0</td>\n",
       "      <td>0</td>\n",
       "      <td>1</td>\n",
       "      <td>0</td>\n",
       "      <td>0</td>\n",
       "      <td>1</td>\n",
       "      <td>0</td>\n",
       "      <td>0</td>\n",
       "      <td>0</td>\n",
       "      <td>0</td>\n",
       "      <td>1</td>\n",
       "    </tr>\n",
       "    <tr>\n",
       "      <th>8929</th>\n",
       "      <td>18</td>\n",
       "      <td>2021</td>\n",
       "      <td>1.0</td>\n",
       "      <td>47</td>\n",
       "      <td>64</td>\n",
       "      <td>2.0</td>\n",
       "      <td>50000.0</td>\n",
       "      <td>0</td>\n",
       "      <td>0</td>\n",
       "      <td>0</td>\n",
       "      <td>0</td>\n",
       "      <td>1</td>\n",
       "      <td>1</td>\n",
       "      <td>0</td>\n",
       "      <td>0</td>\n",
       "      <td>0</td>\n",
       "      <td>0</td>\n",
       "      <td>1</td>\n",
       "    </tr>\n",
       "    <tr>\n",
       "      <th>8930</th>\n",
       "      <td>18</td>\n",
       "      <td>2021</td>\n",
       "      <td>1.0</td>\n",
       "      <td>47</td>\n",
       "      <td>65</td>\n",
       "      <td>1.0</td>\n",
       "      <td>50000.0</td>\n",
       "      <td>0</td>\n",
       "      <td>0</td>\n",
       "      <td>1</td>\n",
       "      <td>0</td>\n",
       "      <td>0</td>\n",
       "      <td>0</td>\n",
       "      <td>1</td>\n",
       "      <td>0</td>\n",
       "      <td>0</td>\n",
       "      <td>0</td>\n",
       "      <td>1</td>\n",
       "    </tr>\n",
       "    <tr>\n",
       "      <th>8931</th>\n",
       "      <td>19</td>\n",
       "      <td>2020</td>\n",
       "      <td>1.0</td>\n",
       "      <td>47</td>\n",
       "      <td>63</td>\n",
       "      <td>2.0</td>\n",
       "      <td>60000.0</td>\n",
       "      <td>0</td>\n",
       "      <td>0</td>\n",
       "      <td>1</td>\n",
       "      <td>0</td>\n",
       "      <td>0</td>\n",
       "      <td>0</td>\n",
       "      <td>0</td>\n",
       "      <td>0</td>\n",
       "      <td>1</td>\n",
       "      <td>0</td>\n",
       "      <td>1</td>\n",
       "    </tr>\n",
       "  </tbody>\n",
       "</table>\n",
       "<p>8932 rows × 18 columns</p>\n",
       "</div>"
      ],
      "text/plain": [
       "      age  contract_until  reputation  stat_overall  stat_potential  \\\n",
       "0      31            2021         5.0            94              94   \n",
       "1      27            2020         4.0            91              93   \n",
       "2      31            2021         5.0            91              91   \n",
       "3      32            2020         4.0            91              91   \n",
       "4      25            2021         3.0            90              93   \n",
       "...   ...             ...         ...           ...             ...   \n",
       "8927   18            2019         1.0            48              63   \n",
       "8928   19            2020         1.0            47              59   \n",
       "8929   18            2021         1.0            47              64   \n",
       "8930   18            2021         1.0            47              65   \n",
       "8931   19            2020         1.0            47              63   \n",
       "\n",
       "      stat_skill_moves        value  continent_africa  continent_asia  \\\n",
       "0                  4.0  110500000.0                 0               0   \n",
       "1                  1.0   72000000.0                 0               0   \n",
       "2                  3.0   80000000.0                 0               0   \n",
       "3                  3.0   51000000.0                 0               0   \n",
       "4                  1.0   68000000.0                 0               0   \n",
       "...                ...          ...               ...             ...   \n",
       "8927               3.0      60000.0                 1               0   \n",
       "8928               2.0      40000.0                 0               0   \n",
       "8929               2.0      50000.0                 0               0   \n",
       "8930               1.0      50000.0                 0               0   \n",
       "8931               2.0      60000.0                 0               0   \n",
       "\n",
       "      continent_europe  continent_oceania  continent_south america  \\\n",
       "0                    0                  0                        1   \n",
       "1                    1                  0                        0   \n",
       "2                    0                  0                        1   \n",
       "3                    1                  0                        0   \n",
       "4                    1                  0                        0   \n",
       "...                ...                ...                      ...   \n",
       "8927                 0                  0                        0   \n",
       "8928                 1                  0                        0   \n",
       "8929                 0                  0                        1   \n",
       "8930                 1                  0                        0   \n",
       "8931                 1                  0                        0   \n",
       "\n",
       "      position_DF  position_GK  position_MF  position_ST  prefer_foot_left  \\\n",
       "0               0            0            0            1                 1   \n",
       "1               0            1            0            0                 0   \n",
       "2               0            0            0            1                 0   \n",
       "3               1            0            0            0                 0   \n",
       "4               0            1            0            0                 0   \n",
       "...           ...          ...          ...          ...               ...   \n",
       "8927            0            0            1            0                 0   \n",
       "8928            1            0            0            0                 0   \n",
       "8929            1            0            0            0                 0   \n",
       "8930            0            1            0            0                 0   \n",
       "8931            0            0            0            1                 0   \n",
       "\n",
       "      prefer_foot_right  \n",
       "0                     0  \n",
       "1                     1  \n",
       "2                     1  \n",
       "3                     1  \n",
       "4                     1  \n",
       "...                 ...  \n",
       "8927                  1  \n",
       "8928                  1  \n",
       "8929                  1  \n",
       "8930                  1  \n",
       "8931                  1  \n",
       "\n",
       "[8932 rows x 18 columns]"
      ]
     },
     "execution_count": 40,
     "metadata": {},
     "output_type": "execute_result"
    }
   ],
   "source": [
    "train"
   ]
  },
  {
   "cell_type": "markdown",
   "id": "10df508c",
   "metadata": {},
   "source": [
    "18개의 칼럼으로 증가하였다."
   ]
  },
  {
   "cell_type": "markdown",
   "id": "c3eff6c4",
   "metadata": {},
   "source": [
    "# 교차검증"
   ]
  },
  {
   "cell_type": "code",
   "execution_count": 41,
   "id": "0ef02937",
   "metadata": {},
   "outputs": [],
   "source": [
    "from sklearn.metrics import mean_squared_error\n",
    "from sklearn.model_selection import KFold,cross_val_score\n",
    "import numpy as np"
   ]
  },
  {
   "cell_type": "code",
   "execution_count": 44,
   "id": "443acf63",
   "metadata": {},
   "outputs": [],
   "source": [
    "def RMSE(y, y_pred):\n",
    "    rmse = mean_squared_error(y, y_pred) ** 0.5\n",
    "    return rmse"
   ]
  },
  {
   "cell_type": "code",
   "execution_count": 46,
   "id": "9246d980",
   "metadata": {},
   "outputs": [],
   "source": [
    "kf = KFold(n_splits=7, shuffle=True)\n",
    "\n",
    "X= train.drop('value',axis=1)\n",
    "Y= train['value']"
   ]
  },
  {
   "cell_type": "code",
   "execution_count": 49,
   "id": "dfd25528",
   "metadata": {},
   "outputs": [],
   "source": [
    "from xgboost import XGBRegressor\n",
    "from lightgbm import LGBMRegressor\n",
    "model_xgb = XGBRegressor(n_estimators=500)\n",
    "model_lgbm = LGBMRegressor(n_estimators=500)\n",
    "\n",
    "valid_scores = []\n",
    "\n",
    "for train_idx, valid_idx in kf.split(X,Y) : \n",
    "    X_tr = X.iloc[train_idx]\n",
    "\n",
    "    y_tr = Y.iloc[train_idx]\n",
    "\n",
    "    X_val = X.iloc[valid_idx]\n",
    "\n",
    "    y_val = Y.iloc[valid_idx]\n",
    "\n",
    "    model_xgb.fit(X_tr, y_tr)\n",
    "\n",
    "    valid_prediction = model_xgb.predict(X_val)\n",
    "\n",
    "    score = RMSE(y_val, valid_prediction)\n",
    "\n",
    "    valid_scores.append(score)"
   ]
  },
  {
   "cell_type": "code",
   "execution_count": 50,
   "id": "0f2cb5e7",
   "metadata": {},
   "outputs": [
    {
     "name": "stdout",
     "output_type": "stream",
     "text": [
      "688084.3384444413\n"
     ]
    }
   ],
   "source": [
    "print(np.mean(valid_scores))"
   ]
  },
  {
   "cell_type": "markdown",
   "id": "0e2f8fe9",
   "metadata": {},
   "source": [
    "xgb모델의 경우 688084의 수치가 나왔고"
   ]
  },
  {
   "cell_type": "code",
   "execution_count": 51,
   "id": "e5ff05e8",
   "metadata": {},
   "outputs": [],
   "source": [
    "for train_idx, valid_idx in kf.split(X,Y) : \n",
    "    X_tr = X.iloc[train_idx]\n",
    "\n",
    "    y_tr = Y.iloc[train_idx]\n",
    "\n",
    "    X_val = X.iloc[valid_idx]\n",
    "\n",
    "    y_val = Y.iloc[valid_idx]\n",
    "\n",
    "    model_lgbm.fit(X_tr, y_tr)\n",
    "\n",
    "    valid_prediction = model_lgbm.predict(X_val)\n",
    "\n",
    "    score = RMSE(y_val, valid_prediction)\n",
    "\n",
    "    valid_scores.append(score)"
   ]
  },
  {
   "cell_type": "code",
   "execution_count": 52,
   "id": "3d8acda5",
   "metadata": {},
   "outputs": [
    {
     "name": "stdout",
     "output_type": "stream",
     "text": [
      "721334.8488145808\n"
     ]
    }
   ],
   "source": [
    "print(np.mean(valid_scores))"
   ]
  },
  {
   "cell_type": "markdown",
   "id": "ebc2ff67",
   "metadata": {},
   "source": [
    "lgbm의 경우 721334의 값이 나왔다."
   ]
  },
  {
   "cell_type": "markdown",
   "id": "7c69c9f6",
   "metadata": {},
   "source": [
    "# XGB하이퍼 파라미터 튜닝"
   ]
  },
  {
   "cell_type": "code",
   "execution_count": 54,
   "id": "513cb91f",
   "metadata": {},
   "outputs": [],
   "source": [
    "import optuna\n",
    "from optuna import Trial, visualization"
   ]
  },
  {
   "cell_type": "code",
   "execution_count": 67,
   "id": "205dd9fc",
   "metadata": {},
   "outputs": [],
   "source": [
    "from sklearn.model_selection import train_test_split\n",
    "\n",
    "x_train,x_test,y_train,y_test = train_test_split(X,Y,test_size=0.25)\n",
    "\n",
    "def objective(trial:Trial):\n",
    "    params = {\n",
    "        'objective' : 'reg:squarederror',\n",
    "        'eval_metric' : 'rmse',\n",
    "        'learning_rate' : trial.suggest_float('learning_rate',0.01,0.2),\n",
    "        'n_estimators' : trial.suggest_int('n_estimators',100,5000),\n",
    "        'min_child_weight' : trial.suggest_int('min_child_weight',1,250),\n",
    "        'min_split_loss' : trial.suggest_int('min_split_loss',1,5),\n",
    "        'max_depth' : trial.suggest_int('max_depth',3,10),\n",
    "        'subsample' : trial.suggest_float('subsample',0.5,1),\n",
    "        'colsample_bytree' : trial.suggest_float('colsample_bytree',0.1,1),\n",
    "        'reg_lambda' : trial.suggest_float('reg_lambda',0,1),\n",
    "        'reg_alpha' : trial.suggest_float('reg_alpha',0,1)\n",
    "    }\n",
    "    \n",
    "    model = XGBRegressor(**params)\n",
    "    xgb_model = model.fit(x_train,y_train)\n",
    "    xgb_pred = model.predict(x_test)\n",
    "    score = RMSE(y_test, xgb_pred)\n",
    "    \n",
    "    return score"
   ]
  },
  {
   "cell_type": "code",
   "execution_count": 69,
   "id": "1c18ec98",
   "metadata": {},
   "outputs": [
    {
     "name": "stderr",
     "output_type": "stream",
     "text": [
      "\u001b[32m[I 2022-03-23 17:58:58,778]\u001b[0m A new study created in memory with name: no-name-5f070bac-e6a6-45cf-8e0f-5797f5b121e7\u001b[0m\n",
      "\u001b[32m[I 2022-03-23 17:59:13,212]\u001b[0m Trial 0 finished with value: 1209995.5413235012 and parameters: {'learning_rate': 0.06970915707814836, 'n_estimators': 3131, 'min_child_weight': 126, 'min_split_loss': 4, 'max_depth': 10, 'subsample': 0.8407363915967812, 'colsample_bytree': 0.8369320351858048, 'reg_lambda': 0.7846934373002048, 'reg_alpha': 0.6356534280823722}. Best is trial 0 with value: 1209995.5413235012.\u001b[0m\n",
      "\u001b[32m[I 2022-03-23 17:59:29,872]\u001b[0m Trial 1 finished with value: 892516.7476488057 and parameters: {'learning_rate': 0.14178438582205857, 'n_estimators': 3302, 'min_child_weight': 24, 'min_split_loss': 2, 'max_depth': 7, 'subsample': 0.9310033080822646, 'colsample_bytree': 0.9741346946175375, 'reg_lambda': 0.40649274619610587, 'reg_alpha': 0.14696982799479763}. Best is trial 1 with value: 892516.7476488057.\u001b[0m\n",
      "\u001b[32m[I 2022-03-23 17:59:41,926]\u001b[0m Trial 2 finished with value: 2065929.7376525928 and parameters: {'learning_rate': 0.1795771267320091, 'n_estimators': 3672, 'min_child_weight': 212, 'min_split_loss': 4, 'max_depth': 3, 'subsample': 0.5309763187796722, 'colsample_bytree': 0.940112635396983, 'reg_lambda': 0.9576477710706831, 'reg_alpha': 0.1099954753629041}. Best is trial 1 with value: 892516.7476488057.\u001b[0m\n",
      "\u001b[32m[I 2022-03-23 17:59:43,125]\u001b[0m Trial 3 finished with value: 1841903.3781745208 and parameters: {'learning_rate': 0.13908527971192786, 'n_estimators': 217, 'min_child_weight': 179, 'min_split_loss': 5, 'max_depth': 10, 'subsample': 0.7192837601460312, 'colsample_bytree': 0.5656953261489777, 'reg_lambda': 0.7451397311071145, 'reg_alpha': 0.2779568000254895}. Best is trial 1 with value: 892516.7476488057.\u001b[0m\n",
      "\u001b[32m[I 2022-03-23 17:59:48,717]\u001b[0m Trial 4 finished with value: 1439373.9104515472 and parameters: {'learning_rate': 0.04949247906824857, 'n_estimators': 1930, 'min_child_weight': 104, 'min_split_loss': 2, 'max_depth': 3, 'subsample': 0.5225090232139433, 'colsample_bytree': 0.3622579740754225, 'reg_lambda': 0.5163624704445836, 'reg_alpha': 0.7187797250295611}. Best is trial 1 with value: 892516.7476488057.\u001b[0m\n",
      "\u001b[32m[I 2022-03-23 18:00:03,898]\u001b[0m Trial 5 finished with value: 1818921.0443609857 and parameters: {'learning_rate': 0.13694698095409685, 'n_estimators': 3720, 'min_child_weight': 227, 'min_split_loss': 1, 'max_depth': 9, 'subsample': 0.9811395224129195, 'colsample_bytree': 0.3134624366832484, 'reg_lambda': 0.037619318486384445, 'reg_alpha': 0.930503969874793}. Best is trial 1 with value: 892516.7476488057.\u001b[0m\n",
      "\u001b[32m[I 2022-03-23 18:00:09,137]\u001b[0m Trial 6 finished with value: 1980238.048538704 and parameters: {'learning_rate': 0.13010547497169922, 'n_estimators': 863, 'min_child_weight': 234, 'min_split_loss': 5, 'max_depth': 9, 'subsample': 0.8005169579507212, 'colsample_bytree': 0.6270998305576562, 'reg_lambda': 0.006882582418776484, 'reg_alpha': 0.6306444489878896}. Best is trial 1 with value: 892516.7476488057.\u001b[0m\n",
      "\u001b[32m[I 2022-03-23 18:00:14,187]\u001b[0m Trial 7 finished with value: 2217578.8431892693 and parameters: {'learning_rate': 0.14971120528484388, 'n_estimators': 1369, 'min_child_weight': 250, 'min_split_loss': 4, 'max_depth': 4, 'subsample': 0.5220823334108918, 'colsample_bytree': 0.6718378415889076, 'reg_lambda': 0.023313737812270308, 'reg_alpha': 0.29893882206807443}. Best is trial 1 with value: 892516.7476488057.\u001b[0m\n",
      "\u001b[32m[I 2022-03-23 18:00:19,102]\u001b[0m Trial 8 finished with value: 954369.1474839007 and parameters: {'learning_rate': 0.19296706934185792, 'n_estimators': 1399, 'min_child_weight': 50, 'min_split_loss': 1, 'max_depth': 4, 'subsample': 0.7999715144409827, 'colsample_bytree': 0.6804154309075564, 'reg_lambda': 0.40165333576149564, 'reg_alpha': 0.24302659726340958}. Best is trial 1 with value: 892516.7476488057.\u001b[0m\n",
      "\u001b[32m[I 2022-03-23 18:00:36,485]\u001b[0m Trial 9 finished with value: 1553153.3746280798 and parameters: {'learning_rate': 0.05797451111588194, 'n_estimators': 4222, 'min_child_weight': 158, 'min_split_loss': 3, 'max_depth': 8, 'subsample': 0.7914635772619211, 'colsample_bytree': 0.3101341185658244, 'reg_lambda': 0.8224215535899386, 'reg_alpha': 0.43700129193014103}. Best is trial 1 with value: 892516.7476488057.\u001b[0m\n",
      "\u001b[32m[I 2022-03-23 18:00:49,100]\u001b[0m Trial 10 finished with value: 1555288.7999892533 and parameters: {'learning_rate': 0.014222494896065599, 'n_estimators': 4904, 'min_child_weight': 5, 'min_split_loss': 2, 'max_depth': 6, 'subsample': 0.9828075662384268, 'colsample_bytree': 0.10355168168424445, 'reg_lambda': 0.33194783587862475, 'reg_alpha': 0.015489821252338082}. Best is trial 1 with value: 892516.7476488057.\u001b[0m\n",
      "\u001b[32m[I 2022-03-23 18:00:59,971]\u001b[0m Trial 11 finished with value: 813497.0274543554 and parameters: {'learning_rate': 0.19816739652774906, 'n_estimators': 2343, 'min_child_weight': 27, 'min_split_loss': 1, 'max_depth': 6, 'subsample': 0.8907563196118947, 'colsample_bytree': 0.9997100111399797, 'reg_lambda': 0.37300822991072075, 'reg_alpha': 0.20903226380229323}. Best is trial 11 with value: 813497.0274543554.\u001b[0m\n",
      "\u001b[32m[I 2022-03-23 18:01:11,688]\u001b[0m Trial 12 finished with value: 813581.1782691698 and parameters: {'learning_rate': 0.1688646413856632, 'n_estimators': 2549, 'min_child_weight': 15, 'min_split_loss': 2, 'max_depth': 6, 'subsample': 0.897134814428926, 'colsample_bytree': 0.9593305744365116, 'reg_lambda': 0.24581407953080175, 'reg_alpha': 0.14848957151713704}. Best is trial 11 with value: 813497.0274543554.\u001b[0m\n",
      "\u001b[32m[I 2022-03-23 18:01:23,177]\u001b[0m Trial 13 finished with value: 989346.2072844638 and parameters: {'learning_rate': 0.19977751735501015, 'n_estimators': 2583, 'min_child_weight': 65, 'min_split_loss': 1, 'max_depth': 6, 'subsample': 0.8908205829599309, 'colsample_bytree': 0.8270839059487289, 'reg_lambda': 0.1843633543789559, 'reg_alpha': 0.4310423186229392}. Best is trial 11 with value: 813497.0274543554.\u001b[0m\n",
      "\u001b[32m[I 2022-03-23 18:01:32,859]\u001b[0m Trial 14 finished with value: 926981.9256220444 and parameters: {'learning_rate': 0.17304470376311337, 'n_estimators': 2413, 'min_child_weight': 70, 'min_split_loss': 2, 'max_depth': 5, 'subsample': 0.6576866194143576, 'colsample_bytree': 0.8163388470051207, 'reg_lambda': 0.5664862219075895, 'reg_alpha': 0.03471867814765625}. Best is trial 11 with value: 813497.0274543554.\u001b[0m\n",
      "\u001b[32m[I 2022-03-23 18:01:50,854]\u001b[0m Trial 15 finished with value: 1080775.1609559585 and parameters: {'learning_rate': 0.10226868050949688, 'n_estimators': 2379, 'min_child_weight': 2, 'min_split_loss': 3, 'max_depth': 7, 'subsample': 0.8884193135472794, 'colsample_bytree': 0.989954421955863, 'reg_lambda': 0.24697516350848478, 'reg_alpha': 0.19865421751278994}. Best is trial 11 with value: 813497.0274543554.\u001b[0m\n",
      "\u001b[32m[I 2022-03-23 18:01:57,713]\u001b[0m Trial 16 finished with value: 895920.2067069266 and parameters: {'learning_rate': 0.17254871895619564, 'n_estimators': 1739, 'min_child_weight': 39, 'min_split_loss': 1, 'max_depth': 5, 'subsample': 0.6411229731342643, 'colsample_bytree': 0.766249372335461, 'reg_lambda': 0.21461782210422176, 'reg_alpha': 0.34524467964094346}. Best is trial 11 with value: 813497.0274543554.\u001b[0m\n",
      "\u001b[32m[I 2022-03-23 18:02:08,947]\u001b[0m Trial 17 finished with value: 883770.282451396 and parameters: {'learning_rate': 0.10569956816931653, 'n_estimators': 2808, 'min_child_weight': 86, 'min_split_loss': 2, 'max_depth': 5, 'subsample': 0.8949525378639241, 'colsample_bytree': 0.9090227134717692, 'reg_lambda': 0.5960648510673217, 'reg_alpha': 0.5251095360191329}. Best is trial 11 with value: 813497.0274543554.\u001b[0m\n",
      "\u001b[32m[I 2022-03-23 18:02:18,791]\u001b[0m Trial 18 finished with value: 855951.1243471245 and parameters: {'learning_rate': 0.16091742305411172, 'n_estimators': 1940, 'min_child_weight': 30, 'min_split_loss': 3, 'max_depth': 8, 'subsample': 0.7172157783915724, 'colsample_bytree': 0.4362055326484575, 'reg_lambda': 0.1432699193441152, 'reg_alpha': 0.11725034730281325}. Best is trial 11 with value: 813497.0274543554.\u001b[0m\n",
      "\u001b[32m[I 2022-03-23 18:02:21,661]\u001b[0m Trial 19 finished with value: 1072130.5896648814 and parameters: {'learning_rate': 0.11678321506586874, 'n_estimators': 675, 'min_child_weight': 119, 'min_split_loss': 1, 'max_depth': 6, 'subsample': 0.9375920873078347, 'colsample_bytree': 0.7303188453235694, 'reg_lambda': 0.41653435637240815, 'reg_alpha': 0.9337970255301578}. Best is trial 11 with value: 813497.0274543554.\u001b[0m\n",
      "\u001b[32m[I 2022-03-23 18:02:41,821]\u001b[0m Trial 20 finished with value: 1349311.7567468404 and parameters: {'learning_rate': 0.18731788977697164, 'n_estimators': 4285, 'min_child_weight': 154, 'min_split_loss': 2, 'max_depth': 7, 'subsample': 0.8661828409330119, 'colsample_bytree': 0.8881006591678672, 'reg_lambda': 0.28938506097539207, 'reg_alpha': 0.3734541893787954}. Best is trial 11 with value: 813497.0274543554.\u001b[0m\n",
      "\u001b[32m[I 2022-03-23 18:02:51,656]\u001b[0m Trial 21 finished with value: 843537.6974435409 and parameters: {'learning_rate': 0.16578374319831252, 'n_estimators': 2019, 'min_child_weight': 30, 'min_split_loss': 3, 'max_depth': 8, 'subsample': 0.7036892358730796, 'colsample_bytree': 0.4209651844338823, 'reg_lambda': 0.140033929362027, 'reg_alpha': 0.09556372951472236}. Best is trial 11 with value: 813497.0274543554.\u001b[0m\n",
      "\u001b[32m[I 2022-03-23 18:03:03,165]\u001b[0m Trial 22 finished with value: 803949.1652462101 and parameters: {'learning_rate': 0.16156979566661384, 'n_estimators': 2152, 'min_child_weight': 22, 'min_split_loss': 3, 'max_depth': 8, 'subsample': 0.65396865423753, 'colsample_bytree': 0.47925325295335014, 'reg_lambda': 0.13147234504084365, 'reg_alpha': 0.1821504010734501}. Best is trial 22 with value: 803949.1652462101.\u001b[0m\n",
      "\u001b[32m[I 2022-03-23 18:03:16,725]\u001b[0m Trial 23 finished with value: 1002937.9736791685 and parameters: {'learning_rate': 0.15702091466335422, 'n_estimators': 2897, 'min_child_weight': 54, 'min_split_loss': 3, 'max_depth': 7, 'subsample': 0.6113476878180522, 'colsample_bytree': 0.5213944938399095, 'reg_lambda': 0.3428764906916486, 'reg_alpha': 0.23166717798374764}. Best is trial 22 with value: 803949.1652462101.\u001b[0m\n",
      "\u001b[32m[I 2022-03-23 18:03:25,624]\u001b[0m Trial 24 finished with value: 917621.6598365181 and parameters: {'learning_rate': 0.19983635184826623, 'n_estimators': 2371, 'min_child_weight': 15, 'min_split_loss': 2, 'max_depth': 6, 'subsample': 0.6009806293809328, 'colsample_bytree': 0.22940119976287132, 'reg_lambda': 0.11848000630243466, 'reg_alpha': 0.17924465034584428}. Best is trial 22 with value: 803949.1652462101.\u001b[0m\n"
     ]
    },
    {
     "name": "stdout",
     "output_type": "stream",
     "text": [
      "Best Score: 803949.1652462101\n",
      "Best trial: {'learning_rate': 0.16156979566661384, 'n_estimators': 2152, 'min_child_weight': 22, 'min_split_loss': 3, 'max_depth': 8, 'subsample': 0.65396865423753, 'colsample_bytree': 0.47925325295335014, 'reg_lambda': 0.13147234504084365, 'reg_alpha': 0.1821504010734501}\n"
     ]
    }
   ],
   "source": [
    "from optuna.samplers import TPESampler\n",
    "study = optuna.create_study(direction='minimize',sampler = TPESampler())\n",
    "study.optimize(objective, n_trials=25)\n",
    "print(\"Best Score:\", study.best_value)\n",
    "print(\"Best trial:\", study.best_trial.params)"
   ]
  },
  {
   "cell_type": "code",
   "execution_count": 72,
   "id": "24caa4e7",
   "metadata": {},
   "outputs": [],
   "source": [
    "xgb = XGBRegressor(**study.best_params)\n",
    "xgb.fit(X,Y,eval_metric='rmse')\n",
    "pred_xgb=xgb.predict(test)"
   ]
  },
  {
   "cell_type": "code",
   "execution_count": 73,
   "id": "30d2e0c5",
   "metadata": {},
   "outputs": [
    {
     "data": {
      "text/plain": [
       "<AxesSubplot:title={'center':'Feature importance'}, xlabel='F score', ylabel='Features'>"
      ]
     },
     "execution_count": 73,
     "metadata": {},
     "output_type": "execute_result"
    },
    {
     "data": {
      "image/png": "[encoded data removed]",
      "text/plain": [
       "<Figure size 432x288 with 1 Axes>"
      ]
     },
     "metadata": {
      "needs_background": "light"
     },
     "output_type": "display_data"
    }
   ],
   "source": [
    "from xgboost import plot_importance\n",
    "plot_importance(xgb)"
   ]
  },
  {
   "cell_type": "markdown",
   "id": "54faf903",
   "metadata": {},
   "source": [
    "모델 훈련과 예측을 해본 뒤 피쳐 중요도를 살펴보았다.\n",
    "\n",
    "나이 능력치 잠재력이 연봉에 큰 영향을 끼치는것을 알 수 있다."
   ]
  },
  {
   "cell_type": "markdown",
   "id": "896d2fbd",
   "metadata": {},
   "source": [
    "#  LGBM 하이퍼 파라미터 튜닝"
   ]
  },
  {
   "cell_type": "code",
   "execution_count": 78,
   "id": "8174f13a",
   "metadata": {},
   "outputs": [],
   "source": [
    "def objective_1(trial:Trial):\n",
    "    params = {\n",
    "        'objective' : 'regression',\n",
    "        'eval_metric' : 'rmse',\n",
    "        'learning_rate' : trial.suggest_float('learning_rate',0.01,0.2),\n",
    "        'n_estimators' : trial.suggest_int('n_estimators',100,5000),\n",
    "        'min_child_samples' : trial.suggest_int('min_child_samples',1,256),\n",
    "        'num_leaves' : trial.suggest_int('num_leaves',1,128),\n",
    "        'max_depth' : trial.suggest_int('max_depth',1,64),\n",
    "        'subsample' : trial.suggest_float('subsample',0.5,1),\n",
    "        'colsample_bytree' : trial.suggest_float('colsample_bytree',0.1,1),\n",
    "        'reg_lambda' : trial.suggest_float('reg_lambda',0,1),\n",
    "        'reg_alpha' : trial.suggest_float('reg_alpha',0,1)\n",
    "    }\n",
    "    \n",
    "    model = LGBMRegressor(**params)\n",
    "    lgbm_model = model.fit(x_train,y_train)\n",
    "    lgbm_pred = model.predict(x_test)\n",
    "    score = RMSE(y_test, lgbm_pred)\n",
    "    \n",
    "    return score"
   ]
  },
  {
   "cell_type": "code",
   "execution_count": 79,
   "id": "01e0ca73",
   "metadata": {},
   "outputs": [
    {
     "name": "stderr",
     "output_type": "stream",
     "text": [
      "\u001b[32m[I 2022-03-23 18:17:52,421]\u001b[0m A new study created in memory with name: no-name-24307742-2cb4-4fab-a8d3-16130e478d49\u001b[0m\n",
      "\u001b[32m[I 2022-03-23 18:17:54,035]\u001b[0m Trial 0 finished with value: 1039839.0132125843 and parameters: {'learning_rate': 0.11370238305577549, 'n_estimators': 4570, 'min_child_samples': 125, 'num_leaves': 5, 'max_depth': 33, 'subsample': 0.5787787483013358, 'colsample_bytree': 0.9291801860127418, 'reg_lambda': 0.2628580730608401, 'reg_alpha': 0.15594790985301643}. Best is trial 0 with value: 1039839.0132125843.\u001b[0m\n"
     ]
    },
    {
     "name": "stdout",
     "output_type": "stream",
     "text": [
      "[LightGBM] [Warning] Unknown parameter: eval_metric\n"
     ]
    },
    {
     "name": "stderr",
     "output_type": "stream",
     "text": [
      "\u001b[32m[I 2022-03-23 18:17:55,041]\u001b[0m Trial 1 finished with value: 884465.768852847 and parameters: {'learning_rate': 0.18399670087695078, 'n_estimators': 1783, 'min_child_samples': 3, 'num_leaves': 25, 'max_depth': 7, 'subsample': 0.9735367095014087, 'colsample_bytree': 0.1395354651730557, 'reg_lambda': 0.04904975574020687, 'reg_alpha': 0.42348083314083085}. Best is trial 1 with value: 884465.768852847.\u001b[0m\n"
     ]
    },
    {
     "name": "stdout",
     "output_type": "stream",
     "text": [
      "[LightGBM] [Warning] Unknown parameter: eval_metric\n"
     ]
    },
    {
     "name": "stderr",
     "output_type": "stream",
     "text": [
      "\u001b[32m[I 2022-03-23 18:17:58,025]\u001b[0m Trial 2 finished with value: 1460002.3771167167 and parameters: {'learning_rate': 0.02423780006150014, 'n_estimators': 2619, 'min_child_samples': 184, 'num_leaves': 87, 'max_depth': 43, 'subsample': 0.7310894761675691, 'colsample_bytree': 0.7597865295486854, 'reg_lambda': 0.7581788461208995, 'reg_alpha': 0.9432676060662569}. Best is trial 1 with value: 884465.768852847.\u001b[0m\n"
     ]
    },
    {
     "name": "stdout",
     "output_type": "stream",
     "text": [
      "[LightGBM] [Warning] Unknown parameter: eval_metric\n"
     ]
    },
    {
     "name": "stderr",
     "output_type": "stream",
     "text": [
      "\u001b[32m[I 2022-03-23 18:18:00,726]\u001b[0m Trial 3 finished with value: 1699843.3135873587 and parameters: {'learning_rate': 0.029875735070007445, 'n_estimators': 4584, 'min_child_samples': 189, 'num_leaves': 35, 'max_depth': 6, 'subsample': 0.8192852539372559, 'colsample_bytree': 0.9741094672422396, 'reg_lambda': 0.0010330977603493219, 'reg_alpha': 0.20105171793739873}. Best is trial 1 with value: 884465.768852847.\u001b[0m\n"
     ]
    },
    {
     "name": "stdout",
     "output_type": "stream",
     "text": [
      "[LightGBM] [Warning] Unknown parameter: eval_metric\n"
     ]
    },
    {
     "name": "stderr",
     "output_type": "stream",
     "text": [
      "\u001b[32m[I 2022-03-23 18:18:02,177]\u001b[0m Trial 4 finished with value: 1265180.895597936 and parameters: {'learning_rate': 0.1748920899463318, 'n_estimators': 1103, 'min_child_samples': 160, 'num_leaves': 108, 'max_depth': 46, 'subsample': 0.9973779778736698, 'colsample_bytree': 0.5198988976976298, 'reg_lambda': 0.45280223113061113, 'reg_alpha': 0.2396553127615606}. Best is trial 1 with value: 884465.768852847.\u001b[0m\n"
     ]
    },
    {
     "name": "stdout",
     "output_type": "stream",
     "text": [
      "[LightGBM] [Warning] Unknown parameter: eval_metric\n"
     ]
    },
    {
     "name": "stderr",
     "output_type": "stream",
     "text": [
      "\u001b[32m[I 2022-03-23 18:18:03,213]\u001b[0m Trial 5 finished with value: 1745502.667242213 and parameters: {'learning_rate': 0.1977988776342883, 'n_estimators': 4242, 'min_child_samples': 122, 'num_leaves': 26, 'max_depth': 1, 'subsample': 0.9932229541491657, 'colsample_bytree': 0.4481313598108063, 'reg_lambda': 0.3672428479046058, 'reg_alpha': 0.5486010536158948}. Best is trial 1 with value: 884465.768852847.\u001b[0m\n"
     ]
    },
    {
     "name": "stdout",
     "output_type": "stream",
     "text": [
      "[LightGBM] [Warning] Unknown parameter: eval_metric\n"
     ]
    },
    {
     "name": "stderr",
     "output_type": "stream",
     "text": [
      "\u001b[32m[I 2022-03-23 18:18:06,446]\u001b[0m Trial 6 finished with value: 1793785.022335346 and parameters: {'learning_rate': 0.0638568188527265, 'n_estimators': 3155, 'min_child_samples': 199, 'num_leaves': 68, 'max_depth': 54, 'subsample': 0.6248094141566279, 'colsample_bytree': 0.46725285049480014, 'reg_lambda': 0.8562289392242588, 'reg_alpha': 0.8225851018080683}. Best is trial 1 with value: 884465.768852847.\u001b[0m\n"
     ]
    },
    {
     "name": "stdout",
     "output_type": "stream",
     "text": [
      "[LightGBM] [Warning] Unknown parameter: eval_metric\n"
     ]
    },
    {
     "name": "stderr",
     "output_type": "stream",
     "text": [
      "\u001b[32m[I 2022-03-23 18:18:08,161]\u001b[0m Trial 7 finished with value: 1354979.0345166354 and parameters: {'learning_rate': 0.13993031115008941, 'n_estimators': 1362, 'min_child_samples': 166, 'num_leaves': 120, 'max_depth': 40, 'subsample': 0.6346871900631779, 'colsample_bytree': 0.8940725924510581, 'reg_lambda': 0.48990174615197846, 'reg_alpha': 0.0822251535265196}. Best is trial 1 with value: 884465.768852847.\u001b[0m\n"
     ]
    },
    {
     "name": "stdout",
     "output_type": "stream",
     "text": [
      "[LightGBM] [Warning] Unknown parameter: eval_metric\n"
     ]
    },
    {
     "name": "stderr",
     "output_type": "stream",
     "text": [
      "\u001b[32m[I 2022-03-23 18:18:08,908]\u001b[0m Trial 8 finished with value: 1252686.4479040413 and parameters: {'learning_rate': 0.18687002617256762, 'n_estimators': 932, 'min_child_samples': 136, 'num_leaves': 15, 'max_depth': 53, 'subsample': 0.6514234267500016, 'colsample_bytree': 0.6031021029570389, 'reg_lambda': 0.5469165606237395, 'reg_alpha': 0.27944818730863596}. Best is trial 1 with value: 884465.768852847.\u001b[0m\n"
     ]
    },
    {
     "name": "stdout",
     "output_type": "stream",
     "text": [
      "[LightGBM] [Warning] Unknown parameter: eval_metric\n"
     ]
    },
    {
     "name": "stderr",
     "output_type": "stream",
     "text": [
      "\u001b[32m[I 2022-03-23 18:18:09,559]\u001b[0m Trial 9 finished with value: 2188267.043792175 and parameters: {'learning_rate': 0.10589571228590527, 'n_estimators': 2638, 'min_child_samples': 205, 'num_leaves': 2, 'max_depth': 16, 'subsample': 0.5012179660470926, 'colsample_bytree': 0.8586223507077438, 'reg_lambda': 0.5810593607903988, 'reg_alpha': 0.6359398431721442}. Best is trial 1 with value: 884465.768852847.\u001b[0m\n",
      "\u001b[32m[I 2022-03-23 18:18:09,811]\u001b[0m Trial 10 finished with value: 1288901.2892770208 and parameters: {'learning_rate': 0.14909208351697634, 'n_estimators': 191, 'min_child_samples': 9, 'num_leaves': 59, 'max_depth': 20, 'subsample': 0.8794681018775202, 'colsample_bytree': 0.10305349920875476, 'reg_lambda': 0.05816366897391243, 'reg_alpha': 0.3962889815216762}. Best is trial 1 with value: 884465.768852847.\u001b[0m\n"
     ]
    },
    {
     "name": "stdout",
     "output_type": "stream",
     "text": [
      "[LightGBM] [Warning] Unknown parameter: eval_metric\n",
      "[LightGBM] [Warning] Unknown parameter: eval_metric\n"
     ]
    },
    {
     "name": "stderr",
     "output_type": "stream",
     "text": [
      "\u001b[32m[I 2022-03-23 18:18:13,114]\u001b[0m Trial 11 finished with value: 929875.969722906 and parameters: {'learning_rate': 0.09911863867111953, 'n_estimators': 3520, 'min_child_samples': 23, 'num_leaves': 39, 'max_depth': 28, 'subsample': 0.5028490005751174, 'colsample_bytree': 0.10371722636176735, 'reg_lambda': 0.21073039154668533, 'reg_alpha': 0.03485060561346254}. Best is trial 1 with value: 884465.768852847.\u001b[0m\n"
     ]
    },
    {
     "name": "stdout",
     "output_type": "stream",
     "text": [
      "[LightGBM] [Warning] Unknown parameter: eval_metric\n"
     ]
    },
    {
     "name": "stderr",
     "output_type": "stream",
     "text": [
      "\u001b[32m[I 2022-03-23 18:18:16,384]\u001b[0m Trial 12 finished with value: 711612.7970023954 and parameters: {'learning_rate': 0.06320520909188412, 'n_estimators': 3197, 'min_child_samples': 5, 'num_leaves': 43, 'max_depth': 21, 'subsample': 0.9070251335904914, 'colsample_bytree': 0.10991660571324292, 'reg_lambda': 0.18324016021181852, 'reg_alpha': 0.4287060339900426}. Best is trial 12 with value: 711612.7970023954.\u001b[0m\n"
     ]
    },
    {
     "name": "stdout",
     "output_type": "stream",
     "text": [
      "[LightGBM] [Warning] Unknown parameter: eval_metric\n"
     ]
    },
    {
     "name": "stderr",
     "output_type": "stream",
     "text": [
      "\u001b[32m[I 2022-03-23 18:18:20,616]\u001b[0m Trial 13 finished with value: 1009938.4028561928 and parameters: {'learning_rate': 0.062118643480672114, 'n_estimators': 2016, 'min_child_samples': 57, 'num_leaves': 54, 'max_depth': 13, 'subsample': 0.8999450929005219, 'colsample_bytree': 0.28494386763011853, 'reg_lambda': 0.1576944725515465, 'reg_alpha': 0.394804869315501}. Best is trial 12 with value: 711612.7970023954.\u001b[0m\n"
     ]
    },
    {
     "name": "stdout",
     "output_type": "stream",
     "text": [
      "[LightGBM] [Warning] Unknown parameter: eval_metric\n"
     ]
    },
    {
     "name": "stderr",
     "output_type": "stream",
     "text": [
      "\u001b[32m[I 2022-03-23 18:18:26,882]\u001b[0m Trial 14 finished with value: 976979.7010276169 and parameters: {'learning_rate': 0.07113006843654288, 'n_estimators': 3579, 'min_child_samples': 63, 'num_leaves': 45, 'max_depth': 27, 'subsample': 0.9215303956279596, 'colsample_bytree': 0.2612762724735542, 'reg_lambda': 0.08746536075158794, 'reg_alpha': 0.6388700513884511}. Best is trial 12 with value: 711612.7970023954.\u001b[0m\n"
     ]
    },
    {
     "name": "stdout",
     "output_type": "stream",
     "text": [
      "[LightGBM] [Warning] Unknown parameter: eval_metric\n"
     ]
    },
    {
     "name": "stderr",
     "output_type": "stream",
     "text": [
      "\u001b[32m[I 2022-03-23 18:18:29,450]\u001b[0m Trial 15 finished with value: 979327.5405581142 and parameters: {'learning_rate': 0.1350733629040835, 'n_estimators': 1923, 'min_child_samples': 63, 'num_leaves': 75, 'max_depth': 9, 'subsample': 0.7863084132213958, 'colsample_bytree': 0.24609987226366847, 'reg_lambda': 0.25030664404012914, 'reg_alpha': 0.44262752903636465}. Best is trial 12 with value: 711612.7970023954.\u001b[0m\n"
     ]
    },
    {
     "name": "stdout",
     "output_type": "stream",
     "text": [
      "[LightGBM] [Warning] Unknown parameter: eval_metric\n"
     ]
    },
    {
     "name": "stderr",
     "output_type": "stream",
     "text": [
      "\u001b[32m[I 2022-03-23 18:18:31,986]\u001b[0m Trial 16 finished with value: 873105.4566941571 and parameters: {'learning_rate': 0.08574517892739181, 'n_estimators': 1949, 'min_child_samples': 32, 'num_leaves': 23, 'max_depth': 19, 'subsample': 0.9270657164830883, 'colsample_bytree': 0.34697223597123994, 'reg_lambda': 0.33212881406024863, 'reg_alpha': 0.7269000805908954}. Best is trial 12 with value: 711612.7970023954.\u001b[0m\n"
     ]
    },
    {
     "name": "stdout",
     "output_type": "stream",
     "text": [
      "[LightGBM] [Warning] Unknown parameter: eval_metric\n"
     ]
    },
    {
     "name": "stderr",
     "output_type": "stream",
     "text": [
      "\u001b[32m[I 2022-03-23 18:18:42,553]\u001b[0m Trial 17 finished with value: 793895.1795770407 and parameters: {'learning_rate': 0.08266834086054022, 'n_estimators': 3083, 'min_child_samples': 36, 'num_leaves': 86, 'max_depth': 63, 'subsample': 0.8455072896943149, 'colsample_bytree': 0.3912745380648445, 'reg_lambda': 0.3817833552128431, 'reg_alpha': 0.8577248100056853}. Best is trial 12 with value: 711612.7970023954.\u001b[0m\n"
     ]
    },
    {
     "name": "stdout",
     "output_type": "stream",
     "text": [
      "[LightGBM] [Warning] Unknown parameter: eval_metric\n"
     ]
    },
    {
     "name": "stderr",
     "output_type": "stream",
     "text": [
      "\u001b[32m[I 2022-03-23 18:18:47,236]\u001b[0m Trial 18 finished with value: 1800911.054201025 and parameters: {'learning_rate': 0.042990976733820574, 'n_estimators': 3964, 'min_child_samples': 238, 'num_leaves': 103, 'max_depth': 62, 'subsample': 0.8473005594142617, 'colsample_bytree': 0.6455251131334407, 'reg_lambda': 0.3921396246452258, 'reg_alpha': 0.9506945603869204}. Best is trial 12 with value: 711612.7970023954.\u001b[0m\n"
     ]
    },
    {
     "name": "stdout",
     "output_type": "stream",
     "text": [
      "[LightGBM] [Warning] Unknown parameter: eval_metric\n"
     ]
    },
    {
     "name": "stderr",
     "output_type": "stream",
     "text": [
      "\u001b[32m[I 2022-03-23 18:18:57,713]\u001b[0m Trial 19 finished with value: 1007268.3361882855 and parameters: {'learning_rate': 0.04692136362533233, 'n_estimators': 4999, 'min_child_samples': 92, 'num_leaves': 86, 'max_depth': 62, 'subsample': 0.7373880033387947, 'colsample_bytree': 0.3984880942232405, 'reg_lambda': 0.6545197160671667, 'reg_alpha': 0.8194086040797844}. Best is trial 12 with value: 711612.7970023954.\u001b[0m\n"
     ]
    },
    {
     "name": "stdout",
     "output_type": "stream",
     "text": [
      "[LightGBM] [Warning] Unknown parameter: eval_metric\n"
     ]
    },
    {
     "name": "stderr",
     "output_type": "stream",
     "text": [
      "\u001b[32m[I 2022-03-23 18:19:02,081]\u001b[0m Trial 20 finished with value: 1323238.5098166964 and parameters: {'learning_rate': 0.012760862921177632, 'n_estimators': 3042, 'min_child_samples': 94, 'num_leaves': 85, 'max_depth': 35, 'subsample': 0.7906520226819265, 'colsample_bytree': 0.17866961725912683, 'reg_lambda': 0.9813520031965901, 'reg_alpha': 0.31944958542891677}. Best is trial 12 with value: 711612.7970023954.\u001b[0m\n"
     ]
    },
    {
     "name": "stdout",
     "output_type": "stream",
     "text": [
      "[LightGBM] [Warning] Unknown parameter: eval_metric\n"
     ]
    },
    {
     "name": "stderr",
     "output_type": "stream",
     "text": [
      "\u001b[32m[I 2022-03-23 18:19:07,334]\u001b[0m Trial 21 finished with value: 762062.8212248258 and parameters: {'learning_rate': 0.08988404498639518, 'n_estimators': 2331, 'min_child_samples': 36, 'num_leaves': 50, 'max_depth': 22, 'subsample': 0.9384552688310388, 'colsample_bytree': 0.39148798201424007, 'reg_lambda': 0.33376897197818745, 'reg_alpha': 0.7470452733134869}. Best is trial 12 with value: 711612.7970023954.\u001b[0m\n"
     ]
    },
    {
     "name": "stdout",
     "output_type": "stream",
     "text": [
      "[LightGBM] [Warning] Unknown parameter: eval_metric\n"
     ]
    },
    {
     "name": "stderr",
     "output_type": "stream",
     "text": [
      "\u001b[32m[I 2022-03-23 18:19:14,356]\u001b[0m Trial 22 finished with value: 802647.0190436457 and parameters: {'learning_rate': 0.0840165232624708, 'n_estimators': 2985, 'min_child_samples': 37, 'num_leaves': 48, 'max_depth': 25, 'subsample': 0.9447572560778894, 'colsample_bytree': 0.34650183820522507, 'reg_lambda': 0.31716849490973303, 'reg_alpha': 0.8220967091897773}. Best is trial 12 with value: 711612.7970023954.\u001b[0m\n"
     ]
    },
    {
     "name": "stdout",
     "output_type": "stream",
     "text": [
      "[LightGBM] [Warning] Unknown parameter: eval_metric\n"
     ]
    },
    {
     "name": "stderr",
     "output_type": "stream",
     "text": [
      "\u001b[32m[I 2022-03-23 18:19:20,730]\u001b[0m Trial 23 finished with value: 976966.2829787193 and parameters: {'learning_rate': 0.0851242001662743, 'n_estimators': 2389, 'min_child_samples': 86, 'num_leaves': 67, 'max_depth': 22, 'subsample': 0.8603070935297177, 'colsample_bytree': 0.6966517090638416, 'reg_lambda': 0.14724122317295132, 'reg_alpha': 0.5293485003351364}. Best is trial 12 with value: 711612.7970023954.\u001b[0m\n"
     ]
    },
    {
     "name": "stdout",
     "output_type": "stream",
     "text": [
      "[LightGBM] [Warning] Unknown parameter: eval_metric\n"
     ]
    },
    {
     "name": "stderr",
     "output_type": "stream",
     "text": [
      "\u001b[32m[I 2022-03-23 18:19:32,239]\u001b[0m Trial 24 finished with value: 916133.9269366123 and parameters: {'learning_rate': 0.12123073761831288, 'n_estimators': 3435, 'min_child_samples': 44, 'num_leaves': 74, 'max_depth': 37, 'subsample': 0.9501003573072382, 'colsample_bytree': 0.5597170687050789, 'reg_lambda': 0.45434431320601143, 'reg_alpha': 0.7149899931115737}. Best is trial 12 with value: 711612.7970023954.\u001b[0m\n"
     ]
    },
    {
     "name": "stdout",
     "output_type": "stream",
     "text": [
      "Best Score: 711612.7970023954\n",
      "Best trial: {'learning_rate': 0.06320520909188412, 'n_estimators': 3197, 'min_child_samples': 5, 'num_leaves': 43, 'max_depth': 21, 'subsample': 0.9070251335904914, 'colsample_bytree': 0.10991660571324292, 'reg_lambda': 0.18324016021181852, 'reg_alpha': 0.4287060339900426}\n"
     ]
    }
   ],
   "source": [
    "from optuna.samplers import TPESampler\n",
    "study = optuna.create_study(direction='minimize',sampler = TPESampler())\n",
    "study.optimize(objective_1, n_trials=25)\n",
    "print(\"Best Score:\", study.best_value)\n",
    "print(\"Best trial:\", study.best_trial.params)"
   ]
  },
  {
   "cell_type": "code",
   "execution_count": 82,
   "id": "b538a17d",
   "metadata": {},
   "outputs": [],
   "source": [
    "lgbm = LGBMRegressor(**study.best_params)\n",
    "lgbm.fit(X,Y,eval_metric='rmse')\n",
    "pred_lgbm=lgbm.predict(test)"
   ]
  },
  {
   "cell_type": "code",
   "execution_count": 83,
   "id": "d1b004e3",
   "metadata": {},
   "outputs": [
    {
     "data": {
      "text/plain": [
       "<AxesSubplot:title={'center':'Feature importance'}, xlabel='Feature importance', ylabel='Features'>"
      ]
     },
     "execution_count": 83,
     "metadata": {},
     "output_type": "execute_result"
    },
    {
     "data": {
      "image/png": "[encoded data removed]",
      "text/plain": [
       "<Figure size 432x288 with 1 Axes>"
      ]
     },
     "metadata": {
      "needs_background": "light"
     },
     "output_type": "display_data"
    }
   ],
   "source": [
    "from lightgbm import plot_importance\n",
    "plot_importance(lgbm)"
   ]
  },
  {
   "cell_type": "markdown",
   "id": "4919016f",
   "metadata": {},
   "source": [
    "lgbm에서는 능력치가 엄청나게 중요한 피쳐라고 보여주었다."
   ]
  },
  {
   "cell_type": "markdown",
   "id": "61cf291d",
   "metadata": {},
   "source": [
    "# 최종"
   ]
  },
  {
   "cell_type": "code",
   "execution_count": 84,
   "id": "6f16eb12",
   "metadata": {},
   "outputs": [],
   "source": [
    "pred = (pred_xgb + pred_lgbm)/2"
   ]
  },
  {
   "cell_type": "code",
   "execution_count": 86,
   "id": "1dfebd2c",
   "metadata": {},
   "outputs": [],
   "source": [
    "sub = pd.read_csv('submission.csv')"
   ]
  },
  {
   "cell_type": "code",
   "execution_count": 88,
   "id": "973c8923",
   "metadata": {},
   "outputs": [],
   "source": [
    "sub['value']=pred"
   ]
  },
  {
   "cell_type": "code",
   "execution_count": 89,
   "id": "1095e862",
   "metadata": {},
   "outputs": [],
   "source": [
    "sub.to_csv('1.csv', index = False)"
   ]
  },
  {
   "cell_type": "markdown",
   "id": "e1ccbc59",
   "metadata": {},
   "source": [
    "제출결과 948247점으로 퍼블릭 148등"
   ]
  },
  {
   "cell_type": "markdown",
   "id": "195cb3ca",
   "metadata": {},
   "source": [
    "---\n",
    "\n",
    "추가적으로 공유된 코드를 살펴보았는데 타켓값인 value를 로그변환시켜 훈련해준 뒤 다시 원래대로 돌려놓는 까먹고있었던 방식을 사용했는데\n",
    "결과가 아주 좋아보였다. \n",
    "\n",
    "선수간 연봉 편차가 되게 크고 정규분포형태가 아니였는데 타켓값을 로그변환시켜주면 훨씬 정확한 예측을 할 수 있었을것 같다. 좋은 방법!"
   ]
  }
 ],
 "metadata": {
  "kernelspec": {
   "display_name": "Python 3 (ipykernel)",
   "language": "python",
   "name": "python3"
  },
  "language_info": {
   "codemirror_mode": {
    "name": "ipython",
    "version": 3
   },
   "file_extension": ".py",
   "mimetype": "text/x-python",
   "name": "python",
   "nbconvert_exporter": "python",
   "pygments_lexer": "ipython3",
   "version": "3.9.7"
  }
 },
 "nbformat": 4,
 "nbformat_minor": 5
}
