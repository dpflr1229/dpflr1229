{
 "cells": [
  {
   "cell_type": "markdown",
   "id": "2f56c636",
   "metadata": {},
   "source": [
    "### 목적 : 🏠 유형별 임대주택 설계 시 단지 내 적정 🅿️ 주차 수요를 예측\n",
    "\n",
    "### 평가방식 : MAE(Mean Absolute Error) 를 사용"
   ]
  },
  {
   "cell_type": "markdown",
   "id": "1ed7f846",
   "metadata": {},
   "source": [
    "# 데이터 소개\n",
    "\n",
    "- 단지코드\n",
    "- 총세대수\n",
    "- 임대건물구분\n",
    "- 지역\n",
    "- 공급유형\n",
    "- 전용면적\n",
    "- 전용면적별세대수\n",
    "- 공가수\n",
    "- 신분\n",
    "- 임대료보증금\n",
    "- 임대료\n",
    "- 도보 10분거리 내 지하철역 수(환승노선 수 반영)\n",
    "- 도보 10분거리 내 버스정류장 수\n",
    "- 단지내주차면수\n",
    "- 등록차량수 (타겟데이터)"
   ]
  },
  {
   "cell_type": "markdown",
   "id": "b1035d7e",
   "metadata": {},
   "source": [
    "# 오류 데이터 (공지사항)\n",
    "\n",
    "1. 전용면적별 세대수 합계와 총세대수가 일치하지 않는 경우,\n",
    "2. 동일한 단지에 단지코드가 2개로 부여되어 단지코드 ․ 총세대수 ․ 주차면수 ․ 등록차량대수 등에서 오류 발생 ['C2085', 'C1397'], ['C2431', 'C1649'], ['C1036']\n",
    "3. 단지코드 등 기입 실수로 단지코드 ․ 총세대수 ․ 주차면수 ․ 등록차량대수 등에서 오류 발생 ['C1095', 'C2051', 'C1218', 'C1894', 'C2483', 'C1502', 'C1988']"
   ]
  },
  {
   "cell_type": "markdown",
   "id": "48ed6b1a",
   "metadata": {},
   "source": [
    "# 데이터 처리방안\n",
    "\n",
    "- 제공한 데이터상에 문제점이 발견되었으나 대회 중반에 들어선 시점에서 오류를 수정하여 재배포할 경우 혼란이 가중될 것이 우려되어 데이터 수정/재배포는 없을 예정입니다.\n",
    "- 1번 오류의 경우 해당 사실을 감안하여 분석을 진행해 주시기 바라며, 2, 3번 오류의 경우에는 문제가 된 단지들을 트레인셋에서 제외하기를 권장드리고, 테스트셋에서는 평가 시 제외하고자 합니다.\n",
    "- 테스트셋에서 평가 제외되는 데이터는 'C2675'(2번 사항에 해당), 'C2335', 'C1327'(3번 사항에 해당) 3개 단지입니다.\n",
    "- 제출 양식은 변경되지 않으니 기존 제출 양식에 따라 제출 부탁드립니다.('C2675', 'C2335', 'C1327' 단지 예측 결과는 평가되지 않습니다.)"
   ]
  },
  {
   "cell_type": "markdown",
   "id": "d48b470e",
   "metadata": {},
   "source": [
    "# 데이터 불러오기"
   ]
  },
  {
   "cell_type": "code",
   "execution_count": 1,
   "id": "ce4752a3",
   "metadata": {},
   "outputs": [
    {
     "data": {
      "text/html": [
       "<div>\n",
       "<style scoped>\n",
       "    .dataframe tbody tr th:only-of-type {\n",
       "        vertical-align: middle;\n",
       "    }\n",
       "\n",
       "    .dataframe tbody tr th {\n",
       "        vertical-align: top;\n",
       "    }\n",
       "\n",
       "    .dataframe thead th {\n",
       "        text-align: right;\n",
       "    }\n",
       "</style>\n",
       "<table border=\"1\" class=\"dataframe\">\n",
       "  <thead>\n",
       "    <tr style=\"text-align: right;\">\n",
       "      <th></th>\n",
       "      <th>단지코드</th>\n",
       "      <th>총세대수</th>\n",
       "      <th>임대건물구분</th>\n",
       "      <th>지역</th>\n",
       "      <th>공급유형</th>\n",
       "      <th>전용면적</th>\n",
       "      <th>전용면적별세대수</th>\n",
       "      <th>공가수</th>\n",
       "      <th>자격유형</th>\n",
       "      <th>임대보증금</th>\n",
       "      <th>임대료</th>\n",
       "      <th>도보 10분거리 내 지하철역 수(환승노선 수 반영)</th>\n",
       "      <th>도보 10분거리 내 버스정류장 수</th>\n",
       "      <th>단지내주차면수</th>\n",
       "      <th>등록차량수</th>\n",
       "    </tr>\n",
       "  </thead>\n",
       "  <tbody>\n",
       "    <tr>\n",
       "      <th>0</th>\n",
       "      <td>C2483</td>\n",
       "      <td>900</td>\n",
       "      <td>아파트</td>\n",
       "      <td>경상북도</td>\n",
       "      <td>국민임대</td>\n",
       "      <td>39.72</td>\n",
       "      <td>134</td>\n",
       "      <td>38.0</td>\n",
       "      <td>A</td>\n",
       "      <td>15667000</td>\n",
       "      <td>103680</td>\n",
       "      <td>0.0</td>\n",
       "      <td>3.0</td>\n",
       "      <td>1425.0</td>\n",
       "      <td>1015.0</td>\n",
       "    </tr>\n",
       "    <tr>\n",
       "      <th>1</th>\n",
       "      <td>C2483</td>\n",
       "      <td>900</td>\n",
       "      <td>아파트</td>\n",
       "      <td>경상북도</td>\n",
       "      <td>국민임대</td>\n",
       "      <td>39.72</td>\n",
       "      <td>15</td>\n",
       "      <td>38.0</td>\n",
       "      <td>A</td>\n",
       "      <td>15667000</td>\n",
       "      <td>103680</td>\n",
       "      <td>0.0</td>\n",
       "      <td>3.0</td>\n",
       "      <td>1425.0</td>\n",
       "      <td>1015.0</td>\n",
       "    </tr>\n",
       "    <tr>\n",
       "      <th>2</th>\n",
       "      <td>C2483</td>\n",
       "      <td>900</td>\n",
       "      <td>아파트</td>\n",
       "      <td>경상북도</td>\n",
       "      <td>국민임대</td>\n",
       "      <td>51.93</td>\n",
       "      <td>385</td>\n",
       "      <td>38.0</td>\n",
       "      <td>A</td>\n",
       "      <td>27304000</td>\n",
       "      <td>184330</td>\n",
       "      <td>0.0</td>\n",
       "      <td>3.0</td>\n",
       "      <td>1425.0</td>\n",
       "      <td>1015.0</td>\n",
       "    </tr>\n",
       "    <tr>\n",
       "      <th>3</th>\n",
       "      <td>C2483</td>\n",
       "      <td>900</td>\n",
       "      <td>아파트</td>\n",
       "      <td>경상북도</td>\n",
       "      <td>국민임대</td>\n",
       "      <td>51.93</td>\n",
       "      <td>15</td>\n",
       "      <td>38.0</td>\n",
       "      <td>A</td>\n",
       "      <td>27304000</td>\n",
       "      <td>184330</td>\n",
       "      <td>0.0</td>\n",
       "      <td>3.0</td>\n",
       "      <td>1425.0</td>\n",
       "      <td>1015.0</td>\n",
       "    </tr>\n",
       "    <tr>\n",
       "      <th>4</th>\n",
       "      <td>C2483</td>\n",
       "      <td>900</td>\n",
       "      <td>아파트</td>\n",
       "      <td>경상북도</td>\n",
       "      <td>국민임대</td>\n",
       "      <td>51.93</td>\n",
       "      <td>41</td>\n",
       "      <td>38.0</td>\n",
       "      <td>A</td>\n",
       "      <td>27304000</td>\n",
       "      <td>184330</td>\n",
       "      <td>0.0</td>\n",
       "      <td>3.0</td>\n",
       "      <td>1425.0</td>\n",
       "      <td>1015.0</td>\n",
       "    </tr>\n",
       "  </tbody>\n",
       "</table>\n",
       "</div>"
      ],
      "text/plain": [
       "    단지코드  총세대수 임대건물구분    지역  공급유형   전용면적  전용면적별세대수   공가수 자격유형     임대보증금  \\\n",
       "0  C2483   900    아파트  경상북도  국민임대  39.72       134  38.0    A  15667000   \n",
       "1  C2483   900    아파트  경상북도  국민임대  39.72        15  38.0    A  15667000   \n",
       "2  C2483   900    아파트  경상북도  국민임대  51.93       385  38.0    A  27304000   \n",
       "3  C2483   900    아파트  경상북도  국민임대  51.93        15  38.0    A  27304000   \n",
       "4  C2483   900    아파트  경상북도  국민임대  51.93        41  38.0    A  27304000   \n",
       "\n",
       "      임대료  도보 10분거리 내 지하철역 수(환승노선 수 반영)  도보 10분거리 내 버스정류장 수  단지내주차면수   등록차량수  \n",
       "0  103680                           0.0                 3.0   1425.0  1015.0  \n",
       "1  103680                           0.0                 3.0   1425.0  1015.0  \n",
       "2  184330                           0.0                 3.0   1425.0  1015.0  \n",
       "3  184330                           0.0                 3.0   1425.0  1015.0  \n",
       "4  184330                           0.0                 3.0   1425.0  1015.0  "
      ]
     },
     "execution_count": 1,
     "metadata": {},
     "output_type": "execute_result"
    }
   ],
   "source": [
    "import numpy as np \n",
    "import pandas as pd\n",
    "import seaborn as sns\n",
    "\n",
    "info = pd.read_csv('age_gender_info.csv')\n",
    "test_df = pd.read_csv('test.csv')\n",
    "train_df = pd.read_csv('train.csv')\n",
    "\n",
    "train_df.head(5)"
   ]
  },
  {
   "cell_type": "markdown",
   "id": "5829acc6",
   "metadata": {},
   "source": [
    "# 오류 데이터 처리"
   ]
  },
  {
   "cell_type": "code",
   "execution_count": 2,
   "id": "5c460fbc",
   "metadata": {},
   "outputs": [],
   "source": [
    "#문제가 있는 단지코드는 제거해주자\n",
    "\n",
    "errors = train_df[(train_df['단지코드'] == 'C2085') |(train_df['단지코드'] == 'C1397') | (train_df['단지코드'] == 'C2431') | (train_df['단지코드'] == 'C1649') | (train_df['단지코드'] == 'C1095') | (train_df['단지코드'] == 'C2051') | (train_df['단지코드'] == 'C1218') | (train_df['단지코드'] == 'C1894') | (train_df['단지코드'] == 'C2483') | (train_df['단지코드'] == 'C1502') | (train_df['단지코드'] == 'C1988')].index\n",
    "train_df.drop(errors, inplace= True)"
   ]
  },
  {
   "cell_type": "code",
   "execution_count": 3,
   "id": "07296ba2",
   "metadata": {},
   "outputs": [
    {
     "data": {
      "text/html": [
       "<div>\n",
       "<style scoped>\n",
       "    .dataframe tbody tr th:only-of-type {\n",
       "        vertical-align: middle;\n",
       "    }\n",
       "\n",
       "    .dataframe tbody tr th {\n",
       "        vertical-align: top;\n",
       "    }\n",
       "\n",
       "    .dataframe thead th {\n",
       "        text-align: right;\n",
       "    }\n",
       "</style>\n",
       "<table border=\"1\" class=\"dataframe\">\n",
       "  <thead>\n",
       "    <tr style=\"text-align: right;\">\n",
       "      <th></th>\n",
       "      <th>단지코드</th>\n",
       "      <th>총세대수</th>\n",
       "      <th>임대건물구분</th>\n",
       "      <th>지역</th>\n",
       "      <th>공급유형</th>\n",
       "      <th>전용면적</th>\n",
       "      <th>전용면적별세대수</th>\n",
       "      <th>공가수</th>\n",
       "      <th>자격유형</th>\n",
       "      <th>임대보증금</th>\n",
       "      <th>임대료</th>\n",
       "      <th>도보 10분거리 내 지하철역 수(환승노선 수 반영)</th>\n",
       "      <th>도보 10분거리 내 버스정류장 수</th>\n",
       "      <th>단지내주차면수</th>\n",
       "      <th>등록차량수</th>\n",
       "    </tr>\n",
       "  </thead>\n",
       "  <tbody>\n",
       "  </tbody>\n",
       "</table>\n",
       "</div>"
      ],
      "text/plain": [
       "Empty DataFrame\n",
       "Columns: [단지코드, 총세대수, 임대건물구분, 지역, 공급유형, 전용면적, 전용면적별세대수, 공가수, 자격유형, 임대보증금, 임대료, 도보 10분거리 내 지하철역 수(환승노선 수 반영), 도보 10분거리 내 버스정류장 수, 단지내주차면수, 등록차량수]\n",
       "Index: []"
      ]
     },
     "execution_count": 3,
     "metadata": {},
     "output_type": "execute_result"
    }
   ],
   "source": [
    "train_df[(train_df['단지코드'] == 'C2085')]"
   ]
  },
  {
   "cell_type": "markdown",
   "id": "644847ef",
   "metadata": {},
   "source": [
    "# 데이터 확인"
   ]
  },
  {
   "cell_type": "code",
   "execution_count": 4,
   "id": "ce616e1c",
   "metadata": {},
   "outputs": [
    {
     "data": {
      "text/html": [
       "<div>\n",
       "<style scoped>\n",
       "    .dataframe tbody tr th:only-of-type {\n",
       "        vertical-align: middle;\n",
       "    }\n",
       "\n",
       "    .dataframe tbody tr th {\n",
       "        vertical-align: top;\n",
       "    }\n",
       "\n",
       "    .dataframe thead th {\n",
       "        text-align: right;\n",
       "    }\n",
       "</style>\n",
       "<table border=\"1\" class=\"dataframe\">\n",
       "  <thead>\n",
       "    <tr style=\"text-align: right;\">\n",
       "      <th></th>\n",
       "      <th>총세대수</th>\n",
       "      <th>전용면적</th>\n",
       "      <th>전용면적별세대수</th>\n",
       "      <th>공가수</th>\n",
       "      <th>도보 10분거리 내 지하철역 수(환승노선 수 반영)</th>\n",
       "      <th>도보 10분거리 내 버스정류장 수</th>\n",
       "      <th>단지내주차면수</th>\n",
       "      <th>등록차량수</th>\n",
       "    </tr>\n",
       "  </thead>\n",
       "  <tbody>\n",
       "    <tr>\n",
       "      <th>count</th>\n",
       "      <td>2876.000000</td>\n",
       "      <td>2876.000000</td>\n",
       "      <td>2876.000000</td>\n",
       "      <td>2876.000000</td>\n",
       "      <td>2669.000000</td>\n",
       "      <td>2876.000000</td>\n",
       "      <td>2876.000000</td>\n",
       "      <td>2876.000000</td>\n",
       "    </tr>\n",
       "    <tr>\n",
       "      <th>mean</th>\n",
       "      <td>887.299722</td>\n",
       "      <td>44.427361</td>\n",
       "      <td>102.707928</td>\n",
       "      <td>12.916203</td>\n",
       "      <td>0.181341</td>\n",
       "      <td>3.707928</td>\n",
       "      <td>592.966620</td>\n",
       "      <td>551.901599</td>\n",
       "    </tr>\n",
       "    <tr>\n",
       "      <th>std</th>\n",
       "      <td>517.214157</td>\n",
       "      <td>32.034221</td>\n",
       "      <td>133.152231</td>\n",
       "      <td>10.666923</td>\n",
       "      <td>0.432138</td>\n",
       "      <td>2.673455</td>\n",
       "      <td>391.374468</td>\n",
       "      <td>431.438891</td>\n",
       "    </tr>\n",
       "    <tr>\n",
       "      <th>min</th>\n",
       "      <td>26.000000</td>\n",
       "      <td>12.620000</td>\n",
       "      <td>1.000000</td>\n",
       "      <td>0.000000</td>\n",
       "      <td>0.000000</td>\n",
       "      <td>0.000000</td>\n",
       "      <td>13.000000</td>\n",
       "      <td>13.000000</td>\n",
       "    </tr>\n",
       "    <tr>\n",
       "      <th>25%</th>\n",
       "      <td>514.000000</td>\n",
       "      <td>32.100000</td>\n",
       "      <td>14.000000</td>\n",
       "      <td>4.000000</td>\n",
       "      <td>0.000000</td>\n",
       "      <td>2.000000</td>\n",
       "      <td>277.000000</td>\n",
       "      <td>209.000000</td>\n",
       "    </tr>\n",
       "    <tr>\n",
       "      <th>50%</th>\n",
       "      <td>775.000000</td>\n",
       "      <td>39.850000</td>\n",
       "      <td>60.000000</td>\n",
       "      <td>11.000000</td>\n",
       "      <td>0.000000</td>\n",
       "      <td>3.000000</td>\n",
       "      <td>502.000000</td>\n",
       "      <td>480.000000</td>\n",
       "    </tr>\n",
       "    <tr>\n",
       "      <th>75%</th>\n",
       "      <td>1100.500000</td>\n",
       "      <td>51.057500</td>\n",
       "      <td>142.250000</td>\n",
       "      <td>20.000000</td>\n",
       "      <td>0.000000</td>\n",
       "      <td>4.000000</td>\n",
       "      <td>813.250000</td>\n",
       "      <td>762.000000</td>\n",
       "    </tr>\n",
       "    <tr>\n",
       "      <th>max</th>\n",
       "      <td>2568.000000</td>\n",
       "      <td>583.400000</td>\n",
       "      <td>1865.000000</td>\n",
       "      <td>55.000000</td>\n",
       "      <td>3.000000</td>\n",
       "      <td>20.000000</td>\n",
       "      <td>1798.000000</td>\n",
       "      <td>2550.000000</td>\n",
       "    </tr>\n",
       "  </tbody>\n",
       "</table>\n",
       "</div>"
      ],
      "text/plain": [
       "              총세대수         전용면적     전용면적별세대수          공가수  \\\n",
       "count  2876.000000  2876.000000  2876.000000  2876.000000   \n",
       "mean    887.299722    44.427361   102.707928    12.916203   \n",
       "std     517.214157    32.034221   133.152231    10.666923   \n",
       "min      26.000000    12.620000     1.000000     0.000000   \n",
       "25%     514.000000    32.100000    14.000000     4.000000   \n",
       "50%     775.000000    39.850000    60.000000    11.000000   \n",
       "75%    1100.500000    51.057500   142.250000    20.000000   \n",
       "max    2568.000000   583.400000  1865.000000    55.000000   \n",
       "\n",
       "       도보 10분거리 내 지하철역 수(환승노선 수 반영)  도보 10분거리 내 버스정류장 수      단지내주차면수  \\\n",
       "count                   2669.000000         2876.000000  2876.000000   \n",
       "mean                       0.181341            3.707928   592.966620   \n",
       "std                        0.432138            2.673455   391.374468   \n",
       "min                        0.000000            0.000000    13.000000   \n",
       "25%                        0.000000            2.000000   277.000000   \n",
       "50%                        0.000000            3.000000   502.000000   \n",
       "75%                        0.000000            4.000000   813.250000   \n",
       "max                        3.000000           20.000000  1798.000000   \n",
       "\n",
       "             등록차량수  \n",
       "count  2876.000000  \n",
       "mean    551.901599  \n",
       "std     431.438891  \n",
       "min      13.000000  \n",
       "25%     209.000000  \n",
       "50%     480.000000  \n",
       "75%     762.000000  \n",
       "max    2550.000000  "
      ]
     },
     "execution_count": 4,
     "metadata": {},
     "output_type": "execute_result"
    }
   ],
   "source": [
    "train_df.describe()"
   ]
  },
  {
   "cell_type": "code",
   "execution_count": 5,
   "id": "69438414",
   "metadata": {},
   "outputs": [
    {
     "data": {
      "text/html": [
       "<div>\n",
       "<style scoped>\n",
       "    .dataframe tbody tr th:only-of-type {\n",
       "        vertical-align: middle;\n",
       "    }\n",
       "\n",
       "    .dataframe tbody tr th {\n",
       "        vertical-align: top;\n",
       "    }\n",
       "\n",
       "    .dataframe thead th {\n",
       "        text-align: right;\n",
       "    }\n",
       "</style>\n",
       "<table border=\"1\" class=\"dataframe\">\n",
       "  <thead>\n",
       "    <tr style=\"text-align: right;\">\n",
       "      <th></th>\n",
       "      <th>총세대수</th>\n",
       "      <th>전용면적</th>\n",
       "      <th>전용면적별세대수</th>\n",
       "      <th>공가수</th>\n",
       "      <th>도보 10분거리 내 지하철역 수(환승노선 수 반영)</th>\n",
       "      <th>도보 10분거리 내 버스정류장 수</th>\n",
       "      <th>단지내주차면수</th>\n",
       "    </tr>\n",
       "  </thead>\n",
       "  <tbody>\n",
       "    <tr>\n",
       "      <th>count</th>\n",
       "      <td>1022.000000</td>\n",
       "      <td>1022.000000</td>\n",
       "      <td>1022.000000</td>\n",
       "      <td>1022.000000</td>\n",
       "      <td>980.000000</td>\n",
       "      <td>1022.000000</td>\n",
       "      <td>1022.000000</td>\n",
       "    </tr>\n",
       "    <tr>\n",
       "      <th>mean</th>\n",
       "      <td>862.080235</td>\n",
       "      <td>43.706311</td>\n",
       "      <td>100.414873</td>\n",
       "      <td>15.544031</td>\n",
       "      <td>0.136735</td>\n",
       "      <td>4.626223</td>\n",
       "      <td>548.771037</td>\n",
       "    </tr>\n",
       "    <tr>\n",
       "      <th>std</th>\n",
       "      <td>536.340894</td>\n",
       "      <td>35.890759</td>\n",
       "      <td>125.997855</td>\n",
       "      <td>11.070140</td>\n",
       "      <td>0.435500</td>\n",
       "      <td>5.414568</td>\n",
       "      <td>342.636703</td>\n",
       "    </tr>\n",
       "    <tr>\n",
       "      <th>min</th>\n",
       "      <td>75.000000</td>\n",
       "      <td>9.960000</td>\n",
       "      <td>1.000000</td>\n",
       "      <td>0.000000</td>\n",
       "      <td>0.000000</td>\n",
       "      <td>1.000000</td>\n",
       "      <td>29.000000</td>\n",
       "    </tr>\n",
       "    <tr>\n",
       "      <th>25%</th>\n",
       "      <td>488.000000</td>\n",
       "      <td>33.135000</td>\n",
       "      <td>14.000000</td>\n",
       "      <td>6.000000</td>\n",
       "      <td>0.000000</td>\n",
       "      <td>2.000000</td>\n",
       "      <td>286.000000</td>\n",
       "    </tr>\n",
       "    <tr>\n",
       "      <th>50%</th>\n",
       "      <td>745.000000</td>\n",
       "      <td>39.720000</td>\n",
       "      <td>60.000000</td>\n",
       "      <td>15.000000</td>\n",
       "      <td>0.000000</td>\n",
       "      <td>3.000000</td>\n",
       "      <td>458.000000</td>\n",
       "    </tr>\n",
       "    <tr>\n",
       "      <th>75%</th>\n",
       "      <td>1161.000000</td>\n",
       "      <td>47.400000</td>\n",
       "      <td>140.000000</td>\n",
       "      <td>23.000000</td>\n",
       "      <td>0.000000</td>\n",
       "      <td>5.000000</td>\n",
       "      <td>711.000000</td>\n",
       "    </tr>\n",
       "    <tr>\n",
       "      <th>max</th>\n",
       "      <td>2572.000000</td>\n",
       "      <td>583.400000</td>\n",
       "      <td>1341.000000</td>\n",
       "      <td>45.000000</td>\n",
       "      <td>2.000000</td>\n",
       "      <td>50.000000</td>\n",
       "      <td>1696.000000</td>\n",
       "    </tr>\n",
       "  </tbody>\n",
       "</table>\n",
       "</div>"
      ],
      "text/plain": [
       "              총세대수         전용면적     전용면적별세대수          공가수  \\\n",
       "count  1022.000000  1022.000000  1022.000000  1022.000000   \n",
       "mean    862.080235    43.706311   100.414873    15.544031   \n",
       "std     536.340894    35.890759   125.997855    11.070140   \n",
       "min      75.000000     9.960000     1.000000     0.000000   \n",
       "25%     488.000000    33.135000    14.000000     6.000000   \n",
       "50%     745.000000    39.720000    60.000000    15.000000   \n",
       "75%    1161.000000    47.400000   140.000000    23.000000   \n",
       "max    2572.000000   583.400000  1341.000000    45.000000   \n",
       "\n",
       "       도보 10분거리 내 지하철역 수(환승노선 수 반영)  도보 10분거리 내 버스정류장 수      단지내주차면수  \n",
       "count                    980.000000         1022.000000  1022.000000  \n",
       "mean                       0.136735            4.626223   548.771037  \n",
       "std                        0.435500            5.414568   342.636703  \n",
       "min                        0.000000            1.000000    29.000000  \n",
       "25%                        0.000000            2.000000   286.000000  \n",
       "50%                        0.000000            3.000000   458.000000  \n",
       "75%                        0.000000            5.000000   711.000000  \n",
       "max                        2.000000           50.000000  1696.000000  "
      ]
     },
     "execution_count": 5,
     "metadata": {},
     "output_type": "execute_result"
    }
   ],
   "source": [
    "test_df.describe()"
   ]
  },
  {
   "cell_type": "markdown",
   "id": "a8368637",
   "metadata": {},
   "source": [
    "전용면적과 면적별 세대수에서 최대값이 유난히 큰 단지가 있다.\n",
    "\n",
    "또한 버스정류장의 수가 20개나 50개는 너무 큰 값이다."
   ]
  },
  {
   "cell_type": "code",
   "execution_count": 6,
   "id": "42926ac2",
   "metadata": {},
   "outputs": [
    {
     "name": "stdout",
     "output_type": "stream",
     "text": [
      "<class 'pandas.core.frame.DataFrame'>\n",
      "Int64Index: 2876 entries, 8 to 2951\n",
      "Data columns (total 15 columns):\n",
      " #   Column                        Non-Null Count  Dtype  \n",
      "---  ------                        --------------  -----  \n",
      " 0   단지코드                          2876 non-null   object \n",
      " 1   총세대수                          2876 non-null   int64  \n",
      " 2   임대건물구분                        2876 non-null   object \n",
      " 3   지역                            2876 non-null   object \n",
      " 4   공급유형                          2876 non-null   object \n",
      " 5   전용면적                          2876 non-null   float64\n",
      " 6   전용면적별세대수                      2876 non-null   int64  \n",
      " 7   공가수                           2876 non-null   float64\n",
      " 8   자격유형                          2876 non-null   object \n",
      " 9   임대보증금                         2307 non-null   object \n",
      " 10  임대료                           2307 non-null   object \n",
      " 11  도보 10분거리 내 지하철역 수(환승노선 수 반영)  2669 non-null   float64\n",
      " 12  도보 10분거리 내 버스정류장 수            2876 non-null   float64\n",
      " 13  단지내주차면수                       2876 non-null   float64\n",
      " 14  등록차량수                         2876 non-null   float64\n",
      "dtypes: float64(6), int64(2), object(7)\n",
      "memory usage: 359.5+ KB\n"
     ]
    }
   ],
   "source": [
    "train_df.info()"
   ]
  },
  {
   "cell_type": "markdown",
   "id": "2ceea4cd",
   "metadata": {},
   "source": [
    "임대보증금, 임대료, 도보지하철 에서 결측치가 생겼다.\n",
    "\n",
    "임대료와 보증금 같은 경우에는 숫자형데이터인줄 알았는데 문자형이다."
   ]
  },
  {
   "cell_type": "code",
   "execution_count": 7,
   "id": "51b582d6",
   "metadata": {},
   "outputs": [
    {
     "name": "stdout",
     "output_type": "stream",
     "text": [
      "<class 'pandas.core.frame.DataFrame'>\n",
      "RangeIndex: 1022 entries, 0 to 1021\n",
      "Data columns (total 14 columns):\n",
      " #   Column                        Non-Null Count  Dtype  \n",
      "---  ------                        --------------  -----  \n",
      " 0   단지코드                          1022 non-null   object \n",
      " 1   총세대수                          1022 non-null   int64  \n",
      " 2   임대건물구분                        1022 non-null   object \n",
      " 3   지역                            1022 non-null   object \n",
      " 4   공급유형                          1022 non-null   object \n",
      " 5   전용면적                          1022 non-null   float64\n",
      " 6   전용면적별세대수                      1022 non-null   int64  \n",
      " 7   공가수                           1022 non-null   float64\n",
      " 8   자격유형                          1020 non-null   object \n",
      " 9   임대보증금                         842 non-null    object \n",
      " 10  임대료                           842 non-null    object \n",
      " 11  도보 10분거리 내 지하철역 수(환승노선 수 반영)  980 non-null    float64\n",
      " 12  도보 10분거리 내 버스정류장 수            1022 non-null   float64\n",
      " 13  단지내주차면수                       1022 non-null   float64\n",
      "dtypes: float64(5), int64(2), object(7)\n",
      "memory usage: 111.9+ KB\n"
     ]
    }
   ],
   "source": [
    "test_df.info()"
   ]
  },
  {
   "cell_type": "markdown",
   "id": "62be2021",
   "metadata": {},
   "source": [
    "test데이터는 자격유형 임대보증금 임대료 도보지하철에서 결측치가 발생하였다."
   ]
  },
  {
   "cell_type": "markdown",
   "id": "e3c2199f",
   "metadata": {},
   "source": [
    "# 결측치 처리"
   ]
  },
  {
   "cell_type": "code",
   "execution_count": 8,
   "id": "d11178c4",
   "metadata": {},
   "outputs": [],
   "source": [
    "train_df['임대료'] = train_df['임대료'].interpolate(method='values')\n",
    "train_df['임대보증금'] = train_df['임대보증금'].interpolate(method='values')\n",
    "train_df['도보 10분거리 내 지하철역 수(환승노선 수 반영)'] = train_df['도보 10분거리 내 지하철역 수(환승노선 수 반영)'].interpolate(method='pad')\n",
    "\n",
    "test_df['임대료'] = test_df['임대료'].interpolate(method='linear')\n",
    "test_df['임대보증금'] = test_df['임대보증금'].interpolate(method='linear')\n",
    "test_df['도보 10분거리 내 지하철역 수(환승노선 수 반영)'] = test_df['도보 10분거리 내 지하철역 수(환승노선 수 반영)'].interpolate(method='pad')\n"
   ]
  },
  {
   "cell_type": "code",
   "execution_count": 9,
   "id": "f035c5d3",
   "metadata": {},
   "outputs": [
    {
     "name": "stdout",
     "output_type": "stream",
     "text": [
      "<class 'pandas.core.frame.DataFrame'>\n",
      "Int64Index: 2876 entries, 8 to 2951\n",
      "Data columns (total 15 columns):\n",
      " #   Column                        Non-Null Count  Dtype  \n",
      "---  ------                        --------------  -----  \n",
      " 0   단지코드                          2876 non-null   object \n",
      " 1   총세대수                          2876 non-null   int64  \n",
      " 2   임대건물구분                        2876 non-null   object \n",
      " 3   지역                            2876 non-null   object \n",
      " 4   공급유형                          2876 non-null   object \n",
      " 5   전용면적                          2876 non-null   float64\n",
      " 6   전용면적별세대수                      2876 non-null   int64  \n",
      " 7   공가수                           2876 non-null   float64\n",
      " 8   자격유형                          2876 non-null   object \n",
      " 9   임대보증금                         2307 non-null   object \n",
      " 10  임대료                           2307 non-null   object \n",
      " 11  도보 10분거리 내 지하철역 수(환승노선 수 반영)  2876 non-null   float64\n",
      " 12  도보 10분거리 내 버스정류장 수            2876 non-null   float64\n",
      " 13  단지내주차면수                       2876 non-null   float64\n",
      " 14  등록차량수                         2876 non-null   float64\n",
      "dtypes: float64(6), int64(2), object(7)\n",
      "memory usage: 359.5+ KB\n"
     ]
    }
   ],
   "source": [
    "train_df.info()"
   ]
  },
  {
   "cell_type": "markdown",
   "id": "2dd38ee5",
   "metadata": {},
   "source": [
    "보간법으로 결측치를 해결해주었는데 여전히 결측치가 많다 왜일까? \n",
    "\n",
    "문자열이라서 그런걸까? 우선결측값을 다 0으로 바꾼 뒤 숫자열로 바꿔주자"
   ]
  },
  {
   "cell_type": "code",
   "execution_count": 10,
   "id": "3f86d96c",
   "metadata": {},
   "outputs": [],
   "source": [
    "train_df['임대료'] = train_df['임대료'].fillna('0')\n",
    "train_df['임대보증금'] = train_df['임대보증금'].fillna('0')\n",
    "\n",
    "test_df['임대료'] = test_df['임대료'].fillna('0')\n",
    "test_df['임대보증금'] = test_df['임대보증금'].fillna('0')"
   ]
  },
  {
   "cell_type": "markdown",
   "id": "067c7d7a",
   "metadata": {},
   "source": [
    "이제 숫자열로 바꿔주려고 하는데 데이터중에 '-' 라는 데이터가 있다 이역시 0으로 바꿔주자"
   ]
  },
  {
   "cell_type": "code",
   "execution_count": 11,
   "id": "bb489fc9",
   "metadata": {},
   "outputs": [],
   "source": [
    "train_df['임대료'] = train_df['임대료'].replace('-','0')\n",
    "train_df['임대보증금'] = train_df['임대보증금'].replace('-','0')\n",
    "\n",
    "test_df['임대료'] = test_df['임대료'].replace('-','0')\n",
    "test_df['임대보증금'] = test_df['임대보증금'].replace('-','0')"
   ]
  },
  {
   "cell_type": "code",
   "execution_count": 12,
   "id": "4e022db5",
   "metadata": {},
   "outputs": [],
   "source": [
    "train_df['임대료'] = train_df['임대료'].astype(int)\n",
    "train_df['임대보증금'] = train_df['임대보증금'].astype(int)\n",
    "\n",
    "test_df['임대료'] = test_df['임대료'].astype(int)\n",
    "test_df['임대보증금'] = test_df['임대보증금'].astype(int)"
   ]
  },
  {
   "cell_type": "code",
   "execution_count": 13,
   "id": "53f10554",
   "metadata": {},
   "outputs": [
    {
     "data": {
      "text/plain": [
       "0"
      ]
     },
     "execution_count": 13,
     "metadata": {},
     "output_type": "execute_result"
    }
   ],
   "source": [
    "train_df['임대료'].isnull().sum()"
   ]
  },
  {
   "cell_type": "markdown",
   "id": "48225520",
   "metadata": {},
   "source": [
    "결측값이 다 사라졌다. 이제 0으로 바뀐 값을 평균값으로 대체하자"
   ]
  },
  {
   "cell_type": "code",
   "execution_count": 14,
   "id": "cdff176a",
   "metadata": {},
   "outputs": [],
   "source": [
    "train_df['임대료'] = train_df['임대료'].replace(0,train_df['임대료'].mean())\n",
    "train_df['임대보증금'] = train_df['임대보증금'].replace(0,train_df['임대보증금'].mean())\n",
    "\n",
    "test_df['임대료'] = test_df['임대료'].replace(0,test_df['임대료'].mean())\n",
    "test_df['임대보증금'] = test_df['임대보증금'].replace(0,test_df['임대보증금'].mean())"
   ]
  },
  {
   "cell_type": "markdown",
   "id": "25467f25",
   "metadata": {},
   "source": [
    "임대료와 임대보증금 결측값을 처리했다 이제 test데이터의 자격유형은 추출해서 같은단지코드내의 값과 동일하게 바꿔주자"
   ]
  },
  {
   "cell_type": "code",
   "execution_count": 15,
   "id": "5408e6a7",
   "metadata": {},
   "outputs": [
    {
     "data": {
      "text/html": [
       "<div>\n",
       "<style scoped>\n",
       "    .dataframe tbody tr th:only-of-type {\n",
       "        vertical-align: middle;\n",
       "    }\n",
       "\n",
       "    .dataframe tbody tr th {\n",
       "        vertical-align: top;\n",
       "    }\n",
       "\n",
       "    .dataframe thead th {\n",
       "        text-align: right;\n",
       "    }\n",
       "</style>\n",
       "<table border=\"1\" class=\"dataframe\">\n",
       "  <thead>\n",
       "    <tr style=\"text-align: right;\">\n",
       "      <th></th>\n",
       "      <th>단지코드</th>\n",
       "      <th>총세대수</th>\n",
       "      <th>임대건물구분</th>\n",
       "      <th>지역</th>\n",
       "      <th>공급유형</th>\n",
       "      <th>전용면적</th>\n",
       "      <th>전용면적별세대수</th>\n",
       "      <th>공가수</th>\n",
       "      <th>자격유형</th>\n",
       "      <th>임대보증금</th>\n",
       "      <th>임대료</th>\n",
       "      <th>도보 10분거리 내 지하철역 수(환승노선 수 반영)</th>\n",
       "      <th>도보 10분거리 내 버스정류장 수</th>\n",
       "      <th>단지내주차면수</th>\n",
       "    </tr>\n",
       "  </thead>\n",
       "  <tbody>\n",
       "    <tr>\n",
       "      <th>196</th>\n",
       "      <td>C2411</td>\n",
       "      <td>962</td>\n",
       "      <td>아파트</td>\n",
       "      <td>경상남도</td>\n",
       "      <td>국민임대</td>\n",
       "      <td>46.90</td>\n",
       "      <td>240</td>\n",
       "      <td>25.0</td>\n",
       "      <td>NaN</td>\n",
       "      <td>71950000.0</td>\n",
       "      <td>37470.0</td>\n",
       "      <td>0.0</td>\n",
       "      <td>2.0</td>\n",
       "      <td>840.0</td>\n",
       "    </tr>\n",
       "    <tr>\n",
       "      <th>258</th>\n",
       "      <td>C2253</td>\n",
       "      <td>1161</td>\n",
       "      <td>아파트</td>\n",
       "      <td>강원도</td>\n",
       "      <td>영구임대</td>\n",
       "      <td>26.37</td>\n",
       "      <td>745</td>\n",
       "      <td>0.0</td>\n",
       "      <td>NaN</td>\n",
       "      <td>2249000.0</td>\n",
       "      <td>44770.0</td>\n",
       "      <td>0.0</td>\n",
       "      <td>2.0</td>\n",
       "      <td>173.0</td>\n",
       "    </tr>\n",
       "  </tbody>\n",
       "</table>\n",
       "</div>"
      ],
      "text/plain": [
       "      단지코드  총세대수 임대건물구분    지역  공급유형   전용면적  전용면적별세대수   공가수 자격유형       임대보증금  \\\n",
       "196  C2411   962    아파트  경상남도  국민임대  46.90       240  25.0  NaN  71950000.0   \n",
       "258  C2253  1161    아파트   강원도  영구임대  26.37       745   0.0  NaN   2249000.0   \n",
       "\n",
       "         임대료  도보 10분거리 내 지하철역 수(환승노선 수 반영)  도보 10분거리 내 버스정류장 수  단지내주차면수  \n",
       "196  37470.0                           0.0                 2.0    840.0  \n",
       "258  44770.0                           0.0                 2.0    173.0  "
      ]
     },
     "execution_count": 15,
     "metadata": {},
     "output_type": "execute_result"
    }
   ],
   "source": [
    "test_df[test_df.자격유형.isnull()]"
   ]
  },
  {
   "cell_type": "markdown",
   "id": "343e6986",
   "metadata": {},
   "source": [
    "단지코드는 각각 C2411, C2253 이다"
   ]
  },
  {
   "cell_type": "code",
   "execution_count": 16,
   "id": "263e48ca",
   "metadata": {},
   "outputs": [
    {
     "data": {
      "text/html": [
       "<div>\n",
       "<style scoped>\n",
       "    .dataframe tbody tr th:only-of-type {\n",
       "        vertical-align: middle;\n",
       "    }\n",
       "\n",
       "    .dataframe tbody tr th {\n",
       "        vertical-align: top;\n",
       "    }\n",
       "\n",
       "    .dataframe thead th {\n",
       "        text-align: right;\n",
       "    }\n",
       "</style>\n",
       "<table border=\"1\" class=\"dataframe\">\n",
       "  <thead>\n",
       "    <tr style=\"text-align: right;\">\n",
       "      <th></th>\n",
       "      <th>단지코드</th>\n",
       "      <th>총세대수</th>\n",
       "      <th>임대건물구분</th>\n",
       "      <th>지역</th>\n",
       "      <th>공급유형</th>\n",
       "      <th>전용면적</th>\n",
       "      <th>전용면적별세대수</th>\n",
       "      <th>공가수</th>\n",
       "      <th>자격유형</th>\n",
       "      <th>임대보증금</th>\n",
       "      <th>임대료</th>\n",
       "      <th>도보 10분거리 내 지하철역 수(환승노선 수 반영)</th>\n",
       "      <th>도보 10분거리 내 버스정류장 수</th>\n",
       "      <th>단지내주차면수</th>\n",
       "    </tr>\n",
       "  </thead>\n",
       "  <tbody>\n",
       "    <tr>\n",
       "      <th>193</th>\n",
       "      <td>C2411</td>\n",
       "      <td>962</td>\n",
       "      <td>아파트</td>\n",
       "      <td>경상남도</td>\n",
       "      <td>국민임대</td>\n",
       "      <td>39.43</td>\n",
       "      <td>56</td>\n",
       "      <td>25.0</td>\n",
       "      <td>A</td>\n",
       "      <td>11992000.0</td>\n",
       "      <td>100720.0</td>\n",
       "      <td>0.0</td>\n",
       "      <td>2.0</td>\n",
       "      <td>840.0</td>\n",
       "    </tr>\n",
       "    <tr>\n",
       "      <th>194</th>\n",
       "      <td>C2411</td>\n",
       "      <td>962</td>\n",
       "      <td>아파트</td>\n",
       "      <td>경상남도</td>\n",
       "      <td>국민임대</td>\n",
       "      <td>39.72</td>\n",
       "      <td>336</td>\n",
       "      <td>25.0</td>\n",
       "      <td>A</td>\n",
       "      <td>11992000.0</td>\n",
       "      <td>100720.0</td>\n",
       "      <td>0.0</td>\n",
       "      <td>2.0</td>\n",
       "      <td>840.0</td>\n",
       "    </tr>\n",
       "    <tr>\n",
       "      <th>195</th>\n",
       "      <td>C2411</td>\n",
       "      <td>962</td>\n",
       "      <td>아파트</td>\n",
       "      <td>경상남도</td>\n",
       "      <td>국민임대</td>\n",
       "      <td>39.82</td>\n",
       "      <td>179</td>\n",
       "      <td>25.0</td>\n",
       "      <td>A</td>\n",
       "      <td>11992000.0</td>\n",
       "      <td>100720.0</td>\n",
       "      <td>0.0</td>\n",
       "      <td>2.0</td>\n",
       "      <td>840.0</td>\n",
       "    </tr>\n",
       "    <tr>\n",
       "      <th>196</th>\n",
       "      <td>C2411</td>\n",
       "      <td>962</td>\n",
       "      <td>아파트</td>\n",
       "      <td>경상남도</td>\n",
       "      <td>국민임대</td>\n",
       "      <td>46.90</td>\n",
       "      <td>240</td>\n",
       "      <td>25.0</td>\n",
       "      <td>NaN</td>\n",
       "      <td>71950000.0</td>\n",
       "      <td>37470.0</td>\n",
       "      <td>0.0</td>\n",
       "      <td>2.0</td>\n",
       "      <td>840.0</td>\n",
       "    </tr>\n",
       "    <tr>\n",
       "      <th>197</th>\n",
       "      <td>C2411</td>\n",
       "      <td>962</td>\n",
       "      <td>아파트</td>\n",
       "      <td>경상남도</td>\n",
       "      <td>국민임대</td>\n",
       "      <td>51.93</td>\n",
       "      <td>150</td>\n",
       "      <td>25.0</td>\n",
       "      <td>A</td>\n",
       "      <td>21586000.0</td>\n",
       "      <td>171480.0</td>\n",
       "      <td>0.0</td>\n",
       "      <td>2.0</td>\n",
       "      <td>840.0</td>\n",
       "    </tr>\n",
       "  </tbody>\n",
       "</table>\n",
       "</div>"
      ],
      "text/plain": [
       "      단지코드  총세대수 임대건물구분    지역  공급유형   전용면적  전용면적별세대수   공가수 자격유형       임대보증금  \\\n",
       "193  C2411   962    아파트  경상남도  국민임대  39.43        56  25.0    A  11992000.0   \n",
       "194  C2411   962    아파트  경상남도  국민임대  39.72       336  25.0    A  11992000.0   \n",
       "195  C2411   962    아파트  경상남도  국민임대  39.82       179  25.0    A  11992000.0   \n",
       "196  C2411   962    아파트  경상남도  국민임대  46.90       240  25.0  NaN  71950000.0   \n",
       "197  C2411   962    아파트  경상남도  국민임대  51.93       150  25.0    A  21586000.0   \n",
       "\n",
       "          임대료  도보 10분거리 내 지하철역 수(환승노선 수 반영)  도보 10분거리 내 버스정류장 수  단지내주차면수  \n",
       "193  100720.0                           0.0                 2.0    840.0  \n",
       "194  100720.0                           0.0                 2.0    840.0  \n",
       "195  100720.0                           0.0                 2.0    840.0  \n",
       "196   37470.0                           0.0                 2.0    840.0  \n",
       "197  171480.0                           0.0                 2.0    840.0  "
      ]
     },
     "execution_count": 16,
     "metadata": {},
     "output_type": "execute_result"
    }
   ],
   "source": [
    "test_df[test_df['단지코드'] == 'C2411'].head(5)"
   ]
  },
  {
   "cell_type": "code",
   "execution_count": 17,
   "id": "5b164563",
   "metadata": {},
   "outputs": [
    {
     "data": {
      "text/html": [
       "<div>\n",
       "<style scoped>\n",
       "    .dataframe tbody tr th:only-of-type {\n",
       "        vertical-align: middle;\n",
       "    }\n",
       "\n",
       "    .dataframe tbody tr th {\n",
       "        vertical-align: top;\n",
       "    }\n",
       "\n",
       "    .dataframe thead th {\n",
       "        text-align: right;\n",
       "    }\n",
       "</style>\n",
       "<table border=\"1\" class=\"dataframe\">\n",
       "  <thead>\n",
       "    <tr style=\"text-align: right;\">\n",
       "      <th></th>\n",
       "      <th>단지코드</th>\n",
       "      <th>총세대수</th>\n",
       "      <th>임대건물구분</th>\n",
       "      <th>지역</th>\n",
       "      <th>공급유형</th>\n",
       "      <th>전용면적</th>\n",
       "      <th>전용면적별세대수</th>\n",
       "      <th>공가수</th>\n",
       "      <th>자격유형</th>\n",
       "      <th>임대보증금</th>\n",
       "      <th>임대료</th>\n",
       "      <th>도보 10분거리 내 지하철역 수(환승노선 수 반영)</th>\n",
       "      <th>도보 10분거리 내 버스정류장 수</th>\n",
       "      <th>단지내주차면수</th>\n",
       "    </tr>\n",
       "  </thead>\n",
       "  <tbody>\n",
       "    <tr>\n",
       "      <th>258</th>\n",
       "      <td>C2253</td>\n",
       "      <td>1161</td>\n",
       "      <td>아파트</td>\n",
       "      <td>강원도</td>\n",
       "      <td>영구임대</td>\n",
       "      <td>26.37</td>\n",
       "      <td>745</td>\n",
       "      <td>0.0</td>\n",
       "      <td>NaN</td>\n",
       "      <td>2.249000e+06</td>\n",
       "      <td>44770.000000</td>\n",
       "      <td>0.0</td>\n",
       "      <td>2.0</td>\n",
       "      <td>173.0</td>\n",
       "    </tr>\n",
       "    <tr>\n",
       "      <th>259</th>\n",
       "      <td>C2253</td>\n",
       "      <td>1161</td>\n",
       "      <td>아파트</td>\n",
       "      <td>강원도</td>\n",
       "      <td>영구임대</td>\n",
       "      <td>31.32</td>\n",
       "      <td>239</td>\n",
       "      <td>0.0</td>\n",
       "      <td>C</td>\n",
       "      <td>3.731000e+06</td>\n",
       "      <td>83020.000000</td>\n",
       "      <td>0.0</td>\n",
       "      <td>2.0</td>\n",
       "      <td>173.0</td>\n",
       "    </tr>\n",
       "    <tr>\n",
       "      <th>260</th>\n",
       "      <td>C2253</td>\n",
       "      <td>1161</td>\n",
       "      <td>아파트</td>\n",
       "      <td>강원도</td>\n",
       "      <td>영구임대</td>\n",
       "      <td>31.32</td>\n",
       "      <td>149</td>\n",
       "      <td>0.0</td>\n",
       "      <td>C</td>\n",
       "      <td>3.731000e+06</td>\n",
       "      <td>83020.000000</td>\n",
       "      <td>0.0</td>\n",
       "      <td>2.0</td>\n",
       "      <td>173.0</td>\n",
       "    </tr>\n",
       "    <tr>\n",
       "      <th>261</th>\n",
       "      <td>C2253</td>\n",
       "      <td>1161</td>\n",
       "      <td>상가</td>\n",
       "      <td>강원도</td>\n",
       "      <td>임대상가</td>\n",
       "      <td>13.77</td>\n",
       "      <td>1</td>\n",
       "      <td>0.0</td>\n",
       "      <td>D</td>\n",
       "      <td>2.049177e+07</td>\n",
       "      <td>145256.506849</td>\n",
       "      <td>0.0</td>\n",
       "      <td>2.0</td>\n",
       "      <td>173.0</td>\n",
       "    </tr>\n",
       "    <tr>\n",
       "      <th>262</th>\n",
       "      <td>C2253</td>\n",
       "      <td>1161</td>\n",
       "      <td>상가</td>\n",
       "      <td>강원도</td>\n",
       "      <td>임대상가</td>\n",
       "      <td>22.89</td>\n",
       "      <td>1</td>\n",
       "      <td>0.0</td>\n",
       "      <td>D</td>\n",
       "      <td>2.049177e+07</td>\n",
       "      <td>145256.506849</td>\n",
       "      <td>0.0</td>\n",
       "      <td>2.0</td>\n",
       "      <td>173.0</td>\n",
       "    </tr>\n",
       "  </tbody>\n",
       "</table>\n",
       "</div>"
      ],
      "text/plain": [
       "      단지코드  총세대수 임대건물구분   지역  공급유형   전용면적  전용면적별세대수  공가수 자격유형         임대보증금  \\\n",
       "258  C2253  1161    아파트  강원도  영구임대  26.37       745  0.0  NaN  2.249000e+06   \n",
       "259  C2253  1161    아파트  강원도  영구임대  31.32       239  0.0    C  3.731000e+06   \n",
       "260  C2253  1161    아파트  강원도  영구임대  31.32       149  0.0    C  3.731000e+06   \n",
       "261  C2253  1161     상가  강원도  임대상가  13.77         1  0.0    D  2.049177e+07   \n",
       "262  C2253  1161     상가  강원도  임대상가  22.89         1  0.0    D  2.049177e+07   \n",
       "\n",
       "               임대료  도보 10분거리 내 지하철역 수(환승노선 수 반영)  도보 10분거리 내 버스정류장 수  단지내주차면수  \n",
       "258   44770.000000                           0.0                 2.0    173.0  \n",
       "259   83020.000000                           0.0                 2.0    173.0  \n",
       "260   83020.000000                           0.0                 2.0    173.0  \n",
       "261  145256.506849                           0.0                 2.0    173.0  \n",
       "262  145256.506849                           0.0                 2.0    173.0  "
      ]
     },
     "execution_count": 17,
     "metadata": {},
     "output_type": "execute_result"
    }
   ],
   "source": [
    "test_df[test_df['단지코드'] == 'C2253'].head(5)"
   ]
  },
  {
   "cell_type": "code",
   "execution_count": 18,
   "id": "64e97a2f",
   "metadata": {},
   "outputs": [
    {
     "name": "stdout",
     "output_type": "stream",
     "text": [
      "<class 'pandas.core.frame.DataFrame'>\n",
      "RangeIndex: 1022 entries, 0 to 1021\n",
      "Data columns (total 14 columns):\n",
      " #   Column                        Non-Null Count  Dtype  \n",
      "---  ------                        --------------  -----  \n",
      " 0   단지코드                          1022 non-null   object \n",
      " 1   총세대수                          1022 non-null   int64  \n",
      " 2   임대건물구분                        1022 non-null   object \n",
      " 3   지역                            1022 non-null   object \n",
      " 4   공급유형                          1022 non-null   object \n",
      " 5   전용면적                          1022 non-null   float64\n",
      " 6   전용면적별세대수                      1022 non-null   int64  \n",
      " 7   공가수                           1022 non-null   float64\n",
      " 8   자격유형                          1022 non-null   object \n",
      " 9   임대보증금                         1022 non-null   float64\n",
      " 10  임대료                           1022 non-null   float64\n",
      " 11  도보 10분거리 내 지하철역 수(환승노선 수 반영)  1022 non-null   float64\n",
      " 12  도보 10분거리 내 버스정류장 수            1022 non-null   float64\n",
      " 13  단지내주차면수                       1022 non-null   float64\n",
      "dtypes: float64(7), int64(2), object(5)\n",
      "memory usage: 111.9+ KB\n"
     ]
    }
   ],
   "source": [
    "test_df[test_df['단지코드'] == 'C2411'] = test_df[test_df['단지코드'] == 'C2411'].fillna('A')\n",
    "test_df[test_df['단지코드'] == 'C2253'] = test_df[test_df['단지코드'] == 'C2253'].fillna('C')\n",
    "test_df.info()"
   ]
  },
  {
   "cell_type": "markdown",
   "id": "fb4175f5",
   "metadata": {},
   "source": [
    "'C2411'의 자격유형은 A로' C2253'의 자격유형은 C로 바꿔주었다 이걸로 결측치 처리를 끝냈다."
   ]
  },
  {
   "cell_type": "markdown",
   "id": "2c375e85",
   "metadata": {},
   "source": [
    "# EDA"
   ]
  },
  {
   "cell_type": "code",
   "execution_count": 19,
   "id": "66c15561",
   "metadata": {},
   "outputs": [],
   "source": [
    "# seaborn에서 한글폰트깨짐 방지\n",
    "import matplotlib.pyplot as plt\n",
    "plt.rcParams['figure.figsize'] = (15, 5)\n",
    "plt.rc('font', family='Malgun Gothic')\n",
    "plt.rc('axes', unicode_minus=False)"
   ]
  },
  {
   "cell_type": "code",
   "execution_count": 20,
   "id": "b1ce1f6d",
   "metadata": {},
   "outputs": [
    {
     "data": {
      "text/plain": [
       "<AxesSubplot:xlabel='count', ylabel='지역'>"
      ]
     },
     "execution_count": 20,
     "metadata": {},
     "output_type": "execute_result"
    },
    {
     "data": {
      "image/png": "[encoded data removed]",
      "text/plain": [
       "<Figure size 1080x360 with 1 Axes>"
      ]
     },
     "metadata": {
      "needs_background": "light"
     },
     "output_type": "display_data"
    }
   ],
   "source": [
    "sns.countplot(y = '지역', data = train_df)"
   ]
  },
  {
   "cell_type": "code",
   "execution_count": 21,
   "id": "d504e99f",
   "metadata": {},
   "outputs": [
    {
     "data": {
      "text/plain": [
       "<AxesSubplot:xlabel='count', ylabel='지역'>"
      ]
     },
     "execution_count": 21,
     "metadata": {},
     "output_type": "execute_result"
    },
    {
     "data": {
      "image/png": "[encoded data removed]",
      "text/plain": [
       "<Figure size 1080x360 with 1 Axes>"
      ]
     },
     "metadata": {
      "needs_background": "light"
     },
     "output_type": "display_data"
    }
   ],
   "source": [
    "sns.countplot(y = '지역', data = test_df)"
   ]
  },
  {
   "cell_type": "markdown",
   "id": "a6392225",
   "metadata": {},
   "source": [
    "어느 지역이 가장 많은지 살펴보았다\n",
    "\n",
    "train과 test모두 경기도가 가장 많고 세종시가 가장 적다. \n",
    "\n",
    "그런데 test세트에는 서울이 없다. 그래서 가장 가까운 경기도 안에 서울을 포함시켰다."
   ]
  },
  {
   "cell_type": "code",
   "execution_count": 22,
   "id": "322a8cc4",
   "metadata": {},
   "outputs": [],
   "source": [
    "train_df['지역'] = train_df['지역'].replace('서울특별시','경기도')"
   ]
  },
  {
   "cell_type": "code",
   "execution_count": 23,
   "id": "f8c40058",
   "metadata": {},
   "outputs": [
    {
     "data": {
      "text/plain": [
       "<AxesSubplot:xlabel='공급유형', ylabel='count'>"
      ]
     },
     "execution_count": 23,
     "metadata": {},
     "output_type": "execute_result"
    },
    {
     "data": {
      "image/png": "[encoded data removed]",
      "text/plain": [
       "<Figure size 1080x360 with 1 Axes>"
      ]
     },
     "metadata": {
      "needs_background": "light"
     },
     "output_type": "display_data"
    }
   ],
   "source": [
    "sns.countplot(x= '공급유형', data = train_df)"
   ]
  },
  {
   "cell_type": "code",
   "execution_count": 24,
   "id": "f50e0443",
   "metadata": {},
   "outputs": [
    {
     "data": {
      "text/plain": [
       "<AxesSubplot:xlabel='공급유형', ylabel='count'>"
      ]
     },
     "execution_count": 24,
     "metadata": {},
     "output_type": "execute_result"
    },
    {
     "data": {
      "image/png": "[encoded data removed]",
      "text/plain": [
       "<Figure size 1080x360 with 1 Axes>"
      ]
     },
     "metadata": {
      "needs_background": "light"
     },
     "output_type": "display_data"
    }
   ],
   "source": [
    "sns.countplot(x= '공급유형', data = test_df)"
   ]
  },
  {
   "cell_type": "markdown",
   "id": "7f48a851",
   "metadata": {},
   "source": [
    "분포가 test와 train이 비슷하다. 국민임대 임대상가 행복주택 순으로 많다.\n",
    "\n",
    "test데이터에는 장기전세 공공분양 공공임대(5년)이 없다.\n",
    "\n",
    "test데이터에는 없는 것들은 train데이터에서 다른데이터랑 합치기로했다.\n",
    "\n",
    "장기전세와 공공분양은 국민임대로 묶고(가장 비슷한 유형같아서) 공공임대(5)년은 공공임대(10)년에 포함시켰다."
   ]
  },
  {
   "cell_type": "code",
   "execution_count": 25,
   "id": "b6c40317",
   "metadata": {},
   "outputs": [],
   "source": [
    "train_df['공급유형'] = train_df['공급유형'].replace('장기전세','국민임대')\n",
    "train_df['공급유형'] = train_df['공급유형'].replace('공공분양','국민임대')\n",
    "train_df['공급유형'] = train_df['공급유형'].replace('공공임대(5년)','공공임대(10년)')"
   ]
  },
  {
   "cell_type": "code",
   "execution_count": 26,
   "id": "755bad5d",
   "metadata": {},
   "outputs": [
    {
     "data": {
      "text/plain": [
       "<AxesSubplot:xlabel='자격유형', ylabel='count'>"
      ]
     },
     "execution_count": 26,
     "metadata": {},
     "output_type": "execute_result"
    },
    {
     "data": {
      "image/png": "[encoded data removed]",
      "text/plain": [
       "<Figure size 1080x360 with 1 Axes>"
      ]
     },
     "metadata": {
      "needs_background": "light"
     },
     "output_type": "display_data"
    }
   ],
   "source": [
    "sns.countplot(x= '자격유형', data = train_df)"
   ]
  },
  {
   "cell_type": "code",
   "execution_count": 27,
   "id": "c8ded5ff",
   "metadata": {},
   "outputs": [
    {
     "data": {
      "text/plain": [
       "<AxesSubplot:xlabel='자격유형', ylabel='count'>"
      ]
     },
     "execution_count": 27,
     "metadata": {},
     "output_type": "execute_result"
    },
    {
     "data": {
      "image/png": "[encoded data removed]",
      "text/plain": [
       "<Figure size 1080x360 with 1 Axes>"
      ]
     },
     "metadata": {
      "needs_background": "light"
     },
     "output_type": "display_data"
    }
   ],
   "source": [
    "sns.countplot(x= '자격유형', data = test_df)"
   ]
  },
  {
   "cell_type": "markdown",
   "id": "db1c0690",
   "metadata": {},
   "source": [
    "test데이터에는 공급유형의 B,F,O가 없다\n",
    "\n",
    "자격 유형은 단지코드를 확인해서 그 공급유형에 맞는 자격유형으로 대체해주었다. (생략)\n",
    "\n",
    "train데이터의 B는 A로, F는 C로, O는 J로 바꿔주자"
   ]
  },
  {
   "cell_type": "code",
   "execution_count": 28,
   "id": "c7a6ec42",
   "metadata": {},
   "outputs": [],
   "source": [
    "# 자격유형 변환\n",
    "train_df['자격유형'] = train_df['자격유형'].replace('B','A')\n",
    "train_df['자격유형'] = train_df['자격유형'].replace('F','C')\n",
    "train_df['자격유형'] = train_df['자격유형'].replace('O','J')"
   ]
  },
  {
   "cell_type": "code",
   "execution_count": 29,
   "id": "025a3d09",
   "metadata": {},
   "outputs": [
    {
     "data": {
      "text/plain": [
       "<AxesSubplot:xlabel='공급유형', ylabel='전용면적'>"
      ]
     },
     "execution_count": 29,
     "metadata": {},
     "output_type": "execute_result"
    },
    {
     "data": {
      "image/png": "[encoded data removed]",
      "text/plain": [
       "<Figure size 1080x360 with 1 Axes>"
      ]
     },
     "metadata": {
      "needs_background": "light"
     },
     "output_type": "display_data"
    }
   ],
   "source": [
    "sns.barplot(x = '공급유형', y = '전용면적', data = train_df)"
   ]
  },
  {
   "cell_type": "code",
   "execution_count": 30,
   "id": "cdfce451",
   "metadata": {},
   "outputs": [
    {
     "data": {
      "text/plain": [
       "<AxesSubplot:xlabel='공급유형', ylabel='전용면적'>"
      ]
     },
     "execution_count": 30,
     "metadata": {},
     "output_type": "execute_result"
    },
    {
     "data": {
      "image/png": "[encoded data removed]",
      "text/plain": [
       "<Figure size 1080x360 with 1 Axes>"
      ]
     },
     "metadata": {
      "needs_background": "light"
     },
     "output_type": "display_data"
    }
   ],
   "source": [
    "sns.barplot(x = '공급유형', y = '전용면적', data = test_df)"
   ]
  },
  {
   "cell_type": "markdown",
   "id": "d6d9da2f",
   "metadata": {},
   "source": [
    "공급유형은 차이가 없다"
   ]
  },
  {
   "cell_type": "code",
   "execution_count": 31,
   "id": "dd799bf2",
   "metadata": {},
   "outputs": [
    {
     "data": {
      "text/plain": [
       "<AxesSubplot:xlabel='도보 10분거리 내 버스정류장 수', ylabel='count'>"
      ]
     },
     "execution_count": 31,
     "metadata": {},
     "output_type": "execute_result"
    },
    {
     "data": {
      "image/png": "[encoded data removed]",
      "text/plain": [
       "<Figure size 1080x360 with 1 Axes>"
      ]
     },
     "metadata": {
      "needs_background": "light"
     },
     "output_type": "display_data"
    }
   ],
   "source": [
    "sns.countplot(x='도보 10분거리 내 버스정류장 수', data = train_df)"
   ]
  },
  {
   "cell_type": "code",
   "execution_count": 32,
   "id": "7e3db641",
   "metadata": {},
   "outputs": [
    {
     "data": {
      "text/plain": [
       "<AxesSubplot:xlabel='도보 10분거리 내 버스정류장 수', ylabel='count'>"
      ]
     },
     "execution_count": 32,
     "metadata": {},
     "output_type": "execute_result"
    },
    {
     "data": {
      "image/png": "[encoded data removed]",
      "text/plain": [
       "<Figure size 1080x360 with 1 Axes>"
      ]
     },
     "metadata": {
      "needs_background": "light"
     },
     "output_type": "display_data"
    }
   ],
   "source": [
    "sns.countplot(x='도보 10분거리 내 버스정류장 수', data = test_df)"
   ]
  },
  {
   "cell_type": "markdown",
   "id": "9b358175",
   "metadata": {},
   "source": [
    "50개는 너무 많으니 train데이터의 최대값인 20개로 바꿔주자"
   ]
  },
  {
   "cell_type": "code",
   "execution_count": 33,
   "id": "9b6f9e9a",
   "metadata": {},
   "outputs": [],
   "source": [
    "test_df['도보 10분거리 내 버스정류장 수'] = test_df['도보 10분거리 내 버스정류장 수'].replace(50,20)"
   ]
  },
  {
   "cell_type": "markdown",
   "id": "085cb442",
   "metadata": {},
   "source": [
    "마지막으로 주변에 대중교통이 있으면 주차수가 적을것 같다고 생각해서 관계를 살펴보았다"
   ]
  },
  {
   "cell_type": "code",
   "execution_count": 34,
   "id": "1f145e7a",
   "metadata": {},
   "outputs": [
    {
     "data": {
      "text/plain": [
       "<AxesSubplot:xlabel='도보 10분거리 내 지하철역 수(환승노선 수 반영)', ylabel='등록차량수'>"
      ]
     },
     "execution_count": 34,
     "metadata": {},
     "output_type": "execute_result"
    },
    {
     "data": {
      "image/png": "[encoded data removed]",
      "text/plain": [
       "<Figure size 1080x360 with 1 Axes>"
      ]
     },
     "metadata": {
      "needs_background": "light"
     },
     "output_type": "display_data"
    }
   ],
   "source": [
    "sns.lineplot(x='도보 10분거리 내 지하철역 수(환승노선 수 반영)', y = '등록차량수', data=train_df)"
   ]
  },
  {
   "cell_type": "code",
   "execution_count": 35,
   "id": "ec1dbe9f",
   "metadata": {},
   "outputs": [
    {
     "data": {
      "text/plain": [
       "<AxesSubplot:xlabel='도보 10분거리 내 버스정류장 수', ylabel='등록차량수'>"
      ]
     },
     "execution_count": 35,
     "metadata": {},
     "output_type": "execute_result"
    },
    {
     "data": {
      "image/png": "[encoded data removed]",
      "text/plain": [
       "<Figure size 1080x360 with 1 Axes>"
      ]
     },
     "metadata": {
      "needs_background": "light"
     },
     "output_type": "display_data"
    }
   ],
   "source": [
    "sns.lineplot(x='도보 10분거리 내 버스정류장 수', y = '등록차량수', data=train_df)"
   ]
  },
  {
   "cell_type": "markdown",
   "id": "f15c5342",
   "metadata": {},
   "source": [
    "근처에 대중교통이 있어도 크게 연관있어보이지는 않는다"
   ]
  },
  {
   "cell_type": "markdown",
   "id": "fb0dc928",
   "metadata": {},
   "source": [
    "# 전처리"
   ]
  },
  {
   "cell_type": "markdown",
   "id": "ae69aa11",
   "metadata": {},
   "source": [
    "광역시 특별시를 하나로 묶어주었다 \n",
    "\n",
    "이유는 주차법 관련해서 기준이 특별시와 광역시가 다르기 때문이다 (코드공유 참고)"
   ]
  },
  {
   "cell_type": "code",
   "execution_count": 36,
   "id": "a79fc9d2",
   "metadata": {},
   "outputs": [],
   "source": [
    "#광역시끼리  묶어주기\n",
    "train_df['지역'] = train_df['지역'].replace('대전광역시','광역시')\n",
    "train_df['지역'] = train_df['지역'].replace('광주광역시','광역시')\n",
    "train_df['지역'] = train_df['지역'].replace('울산광역시','광역시')\n",
    "train_df['지역'] = train_df['지역'].replace('대구광역시','광역시')\n",
    "train_df['지역'] = train_df['지역'].replace('부산광역시','광역시')\n",
    "\n",
    "#특별시끼리 묶어주기\n",
    "train_df['지역'] = train_df['지역'].replace('서울특별시','특별시')\n",
    "train_df['지역'] = train_df['지역'].replace('제주특별자치도','특별시')\n",
    "train_df['지역'] = train_df['지역'].replace('세종특별자치시','광역시')\n",
    "\n",
    "#광역시끼리  묶어주기\n",
    "test_df['지역'] = test_df['지역'].replace('대전광역시','광역시')\n",
    "test_df['지역'] = test_df['지역'].replace('광주광역시','광역시')\n",
    "test_df['지역'] = test_df['지역'].replace('울산광역시','광역시')\n",
    "test_df['지역'] = test_df['지역'].replace('대구광역시','광역시')\n",
    "test_df['지역'] = test_df['지역'].replace('부산광역시','광역시')\n",
    "\n",
    "#특별시끼리 묶어주기\n",
    "test_df['지역'] = test_df['지역'].replace('제주특별자치도','특별시')\n",
    "test_df['지역'] = test_df['지역'].replace('세종특별자치시','광역시')"
   ]
  },
  {
   "cell_type": "markdown",
   "id": "387c1539",
   "metadata": {},
   "source": [
    "필요없는 데이터는 제거해주었다."
   ]
  },
  {
   "cell_type": "code",
   "execution_count": 37,
   "id": "da27ed6e",
   "metadata": {},
   "outputs": [],
   "source": [
    "train_df.drop('단지코드', axis=1, inplace=True)\n",
    "test_df.drop('단지코드', axis=1, inplace=True)"
   ]
  },
  {
   "cell_type": "markdown",
   "id": "4a372213",
   "metadata": {},
   "source": [
    "또한 데이터를 살펴본 결과 모두 문포가 넓고 꼬리가 길기 때문에 log변환을 해줘야겠다고 생각했다"
   ]
  },
  {
   "cell_type": "code",
   "execution_count": 38,
   "id": "bdf31472",
   "metadata": {},
   "outputs": [],
   "source": [
    "train_df['총세대수'] = np.log1p(train_df['총세대수']) \n",
    "train_df['전용면적'] = np.log1p(train_df['전용면적']) \n",
    "train_df['전용면적별세대수'] = np.log1p(train_df['전용면적별세대수']) \n",
    "train_df['임대보증금'] = np.log1p(train_df['임대보증금']) \n",
    "train_df['임대료'] = np.log1p(train_df['임대료']) \n",
    "train_df['도보 10분거리 내 버스정류장 수'] = np.log1p(train_df['도보 10분거리 내 버스정류장 수']) \n",
    "train_df['공가수'] = np.log1p(train_df['공가수']) \n",
    "train_df['단지내주차면수'] = np.log1p(train_df['단지내주차면수']) \n",
    "\n",
    "test_df['총세대수'] = np.log1p(test_df['총세대수']) \n",
    "test_df['전용면적'] = np.log1p(test_df['전용면적']) \n",
    "test_df['전용면적별세대수'] = np.log1p(test_df['전용면적별세대수']) \n",
    "test_df['임대보증금'] = np.log1p(test_df['임대보증금']) \n",
    "test_df['임대료'] = np.log1p(test_df['임대료']) \n",
    "test_df['도보 10분거리 내 버스정류장 수'] = np.log1p(test_df['도보 10분거리 내 버스정류장 수']) \n",
    "test_df['공가수'] = np.log1p(test_df['공가수']) \n",
    "test_df['단지내주차면수'] = np.log1p(test_df['단지내주차면수']) "
   ]
  },
  {
   "cell_type": "markdown",
   "id": "49731e1c",
   "metadata": {},
   "source": [
    "지하철은 데이터가 0,1,2,3 4개라서 원핫인코딩하기 쉽게 문자형으로 바꿔줄것이다"
   ]
  },
  {
   "cell_type": "code",
   "execution_count": 39,
   "id": "31c5662d",
   "metadata": {},
   "outputs": [],
   "source": [
    "train_df['도보 10분거리 내 지하철역 수(환승노선 수 반영)'] = train_df['도보 10분거리 내 지하철역 수(환승노선 수 반영)'].replace(3,2)\n",
    "train_df['도보 10분거리 내 지하철역 수(환승노선 수 반영)'] = train_df['도보 10분거리 내 지하철역 수(환승노선 수 반영)'].astype(object)\n",
    "test_df['도보 10분거리 내 지하철역 수(환승노선 수 반영)'] = test_df['도보 10분거리 내 지하철역 수(환승노선 수 반영)'].astype(object)"
   ]
  },
  {
   "cell_type": "markdown",
   "id": "e8b03c24",
   "metadata": {},
   "source": [
    "원핫인코딩 해주자"
   ]
  },
  {
   "cell_type": "code",
   "execution_count": 40,
   "id": "00e49d8f",
   "metadata": {},
   "outputs": [
    {
     "name": "stderr",
     "output_type": "stream",
     "text": [
      "C:\\Users\\lmj\\anaconda3\\lib\\site-packages\\pandas\\core\\algorithms.py:798: FutureWarning: In a future version, the Index constructor will not infer numeric dtypes when passed object-dtype sequences (matching Series behavior)\n",
      "  uniques = Index(uniques)\n",
      "C:\\Users\\lmj\\anaconda3\\lib\\site-packages\\pandas\\core\\algorithms.py:798: FutureWarning: In a future version, the Index constructor will not infer numeric dtypes when passed object-dtype sequences (matching Series behavior)\n",
      "  uniques = Index(uniques)\n"
     ]
    }
   ],
   "source": [
    "train_df = pd.get_dummies(train_df)\n",
    "test_df = pd.get_dummies(test_df)"
   ]
  },
  {
   "cell_type": "markdown",
   "id": "000bda35",
   "metadata": {},
   "source": [
    "# 모델링 (pycaret)"
   ]
  },
  {
   "cell_type": "code",
   "execution_count": 41,
   "id": "21b3fb48",
   "metadata": {},
   "outputs": [
    {
     "data": {
      "text/html": [
       "<style type=\"text/css\">\n",
       "#T_ae89f_row42_col1 {\n",
       "  background-color: lightgreen;\n",
       "}\n",
       "</style>\n",
       "<table id=\"T_ae89f\">\n",
       "  <thead>\n",
       "    <tr>\n",
       "      <th class=\"blank level0\" >&nbsp;</th>\n",
       "      <th id=\"T_ae89f_level0_col0\" class=\"col_heading level0 col0\" >Description</th>\n",
       "      <th id=\"T_ae89f_level0_col1\" class=\"col_heading level0 col1\" >Value</th>\n",
       "    </tr>\n",
       "  </thead>\n",
       "  <tbody>\n",
       "    <tr>\n",
       "      <th id=\"T_ae89f_level0_row0\" class=\"row_heading level0 row0\" >0</th>\n",
       "      <td id=\"T_ae89f_row0_col0\" class=\"data row0 col0\" >session_id</td>\n",
       "      <td id=\"T_ae89f_row0_col1\" class=\"data row0 col1\" >7658</td>\n",
       "    </tr>\n",
       "    <tr>\n",
       "      <th id=\"T_ae89f_level0_row1\" class=\"row_heading level0 row1\" >1</th>\n",
       "      <td id=\"T_ae89f_row1_col0\" class=\"data row1 col0\" >Target</td>\n",
       "      <td id=\"T_ae89f_row1_col1\" class=\"data row1 col1\" >등록차량수</td>\n",
       "    </tr>\n",
       "    <tr>\n",
       "      <th id=\"T_ae89f_level0_row2\" class=\"row_heading level0 row2\" >2</th>\n",
       "      <td id=\"T_ae89f_row2_col0\" class=\"data row2 col0\" >Original Data</td>\n",
       "      <td id=\"T_ae89f_row2_col1\" class=\"data row2 col1\" >(2876, 43)</td>\n",
       "    </tr>\n",
       "    <tr>\n",
       "      <th id=\"T_ae89f_level0_row3\" class=\"row_heading level0 row3\" >3</th>\n",
       "      <td id=\"T_ae89f_row3_col0\" class=\"data row3 col0\" >Missing Values</td>\n",
       "      <td id=\"T_ae89f_row3_col1\" class=\"data row3 col1\" >0</td>\n",
       "    </tr>\n",
       "    <tr>\n",
       "      <th id=\"T_ae89f_level0_row4\" class=\"row_heading level0 row4\" >4</th>\n",
       "      <td id=\"T_ae89f_row4_col0\" class=\"data row4 col0\" >Numeric Features</td>\n",
       "      <td id=\"T_ae89f_row4_col1\" class=\"data row4 col1\" >42</td>\n",
       "    </tr>\n",
       "    <tr>\n",
       "      <th id=\"T_ae89f_level0_row5\" class=\"row_heading level0 row5\" >5</th>\n",
       "      <td id=\"T_ae89f_row5_col0\" class=\"data row5 col0\" >Categorical Features</td>\n",
       "      <td id=\"T_ae89f_row5_col1\" class=\"data row5 col1\" >0</td>\n",
       "    </tr>\n",
       "    <tr>\n",
       "      <th id=\"T_ae89f_level0_row6\" class=\"row_heading level0 row6\" >6</th>\n",
       "      <td id=\"T_ae89f_row6_col0\" class=\"data row6 col0\" >Ordinal Features</td>\n",
       "      <td id=\"T_ae89f_row6_col1\" class=\"data row6 col1\" >0</td>\n",
       "    </tr>\n",
       "    <tr>\n",
       "      <th id=\"T_ae89f_level0_row7\" class=\"row_heading level0 row7\" >7</th>\n",
       "      <td id=\"T_ae89f_row7_col0\" class=\"data row7 col0\" >High Cardinality Features</td>\n",
       "      <td id=\"T_ae89f_row7_col1\" class=\"data row7 col1\" >0</td>\n",
       "    </tr>\n",
       "    <tr>\n",
       "      <th id=\"T_ae89f_level0_row8\" class=\"row_heading level0 row8\" >8</th>\n",
       "      <td id=\"T_ae89f_row8_col0\" class=\"data row8 col0\" >High Cardinality Method</td>\n",
       "      <td id=\"T_ae89f_row8_col1\" class=\"data row8 col1\" >None</td>\n",
       "    </tr>\n",
       "    <tr>\n",
       "      <th id=\"T_ae89f_level0_row9\" class=\"row_heading level0 row9\" >9</th>\n",
       "      <td id=\"T_ae89f_row9_col0\" class=\"data row9 col0\" >Transformed Train Set</td>\n",
       "      <td id=\"T_ae89f_row9_col1\" class=\"data row9 col1\" >(2013, 40)</td>\n",
       "    </tr>\n",
       "    <tr>\n",
       "      <th id=\"T_ae89f_level0_row10\" class=\"row_heading level0 row10\" >10</th>\n",
       "      <td id=\"T_ae89f_row10_col0\" class=\"data row10 col0\" >Transformed Test Set</td>\n",
       "      <td id=\"T_ae89f_row10_col1\" class=\"data row10 col1\" >(863, 40)</td>\n",
       "    </tr>\n",
       "    <tr>\n",
       "      <th id=\"T_ae89f_level0_row11\" class=\"row_heading level0 row11\" >11</th>\n",
       "      <td id=\"T_ae89f_row11_col0\" class=\"data row11 col0\" >Shuffle Train-Test</td>\n",
       "      <td id=\"T_ae89f_row11_col1\" class=\"data row11 col1\" >True</td>\n",
       "    </tr>\n",
       "    <tr>\n",
       "      <th id=\"T_ae89f_level0_row12\" class=\"row_heading level0 row12\" >12</th>\n",
       "      <td id=\"T_ae89f_row12_col0\" class=\"data row12 col0\" >Stratify Train-Test</td>\n",
       "      <td id=\"T_ae89f_row12_col1\" class=\"data row12 col1\" >False</td>\n",
       "    </tr>\n",
       "    <tr>\n",
       "      <th id=\"T_ae89f_level0_row13\" class=\"row_heading level0 row13\" >13</th>\n",
       "      <td id=\"T_ae89f_row13_col0\" class=\"data row13 col0\" >Fold Generator</td>\n",
       "      <td id=\"T_ae89f_row13_col1\" class=\"data row13 col1\" >KFold</td>\n",
       "    </tr>\n",
       "    <tr>\n",
       "      <th id=\"T_ae89f_level0_row14\" class=\"row_heading level0 row14\" >14</th>\n",
       "      <td id=\"T_ae89f_row14_col0\" class=\"data row14 col0\" >Fold Number</td>\n",
       "      <td id=\"T_ae89f_row14_col1\" class=\"data row14 col1\" >10</td>\n",
       "    </tr>\n",
       "    <tr>\n",
       "      <th id=\"T_ae89f_level0_row15\" class=\"row_heading level0 row15\" >15</th>\n",
       "      <td id=\"T_ae89f_row15_col0\" class=\"data row15 col0\" >CPU Jobs</td>\n",
       "      <td id=\"T_ae89f_row15_col1\" class=\"data row15 col1\" >-1</td>\n",
       "    </tr>\n",
       "    <tr>\n",
       "      <th id=\"T_ae89f_level0_row16\" class=\"row_heading level0 row16\" >16</th>\n",
       "      <td id=\"T_ae89f_row16_col0\" class=\"data row16 col0\" >Use GPU</td>\n",
       "      <td id=\"T_ae89f_row16_col1\" class=\"data row16 col1\" >0</td>\n",
       "    </tr>\n",
       "    <tr>\n",
       "      <th id=\"T_ae89f_level0_row17\" class=\"row_heading level0 row17\" >17</th>\n",
       "      <td id=\"T_ae89f_row17_col0\" class=\"data row17 col0\" >Log Experiment</td>\n",
       "      <td id=\"T_ae89f_row17_col1\" class=\"data row17 col1\" >0</td>\n",
       "    </tr>\n",
       "    <tr>\n",
       "      <th id=\"T_ae89f_level0_row18\" class=\"row_heading level0 row18\" >18</th>\n",
       "      <td id=\"T_ae89f_row18_col0\" class=\"data row18 col0\" >Experiment Name</td>\n",
       "      <td id=\"T_ae89f_row18_col1\" class=\"data row18 col1\" >reg-default-name</td>\n",
       "    </tr>\n",
       "    <tr>\n",
       "      <th id=\"T_ae89f_level0_row19\" class=\"row_heading level0 row19\" >19</th>\n",
       "      <td id=\"T_ae89f_row19_col0\" class=\"data row19 col0\" >USI</td>\n",
       "      <td id=\"T_ae89f_row19_col1\" class=\"data row19 col1\" >dfd1</td>\n",
       "    </tr>\n",
       "    <tr>\n",
       "      <th id=\"T_ae89f_level0_row20\" class=\"row_heading level0 row20\" >20</th>\n",
       "      <td id=\"T_ae89f_row20_col0\" class=\"data row20 col0\" >Imputation Type</td>\n",
       "      <td id=\"T_ae89f_row20_col1\" class=\"data row20 col1\" >simple</td>\n",
       "    </tr>\n",
       "    <tr>\n",
       "      <th id=\"T_ae89f_level0_row21\" class=\"row_heading level0 row21\" >21</th>\n",
       "      <td id=\"T_ae89f_row21_col0\" class=\"data row21 col0\" >Iterative Imputation Iteration</td>\n",
       "      <td id=\"T_ae89f_row21_col1\" class=\"data row21 col1\" >None</td>\n",
       "    </tr>\n",
       "    <tr>\n",
       "      <th id=\"T_ae89f_level0_row22\" class=\"row_heading level0 row22\" >22</th>\n",
       "      <td id=\"T_ae89f_row22_col0\" class=\"data row22 col0\" >Numeric Imputer</td>\n",
       "      <td id=\"T_ae89f_row22_col1\" class=\"data row22 col1\" >mean</td>\n",
       "    </tr>\n",
       "    <tr>\n",
       "      <th id=\"T_ae89f_level0_row23\" class=\"row_heading level0 row23\" >23</th>\n",
       "      <td id=\"T_ae89f_row23_col0\" class=\"data row23 col0\" >Iterative Imputation Numeric Model</td>\n",
       "      <td id=\"T_ae89f_row23_col1\" class=\"data row23 col1\" >None</td>\n",
       "    </tr>\n",
       "    <tr>\n",
       "      <th id=\"T_ae89f_level0_row24\" class=\"row_heading level0 row24\" >24</th>\n",
       "      <td id=\"T_ae89f_row24_col0\" class=\"data row24 col0\" >Categorical Imputer</td>\n",
       "      <td id=\"T_ae89f_row24_col1\" class=\"data row24 col1\" >constant</td>\n",
       "    </tr>\n",
       "    <tr>\n",
       "      <th id=\"T_ae89f_level0_row25\" class=\"row_heading level0 row25\" >25</th>\n",
       "      <td id=\"T_ae89f_row25_col0\" class=\"data row25 col0\" >Iterative Imputation Categorical Model</td>\n",
       "      <td id=\"T_ae89f_row25_col1\" class=\"data row25 col1\" >None</td>\n",
       "    </tr>\n",
       "    <tr>\n",
       "      <th id=\"T_ae89f_level0_row26\" class=\"row_heading level0 row26\" >26</th>\n",
       "      <td id=\"T_ae89f_row26_col0\" class=\"data row26 col0\" >Unknown Categoricals Handling</td>\n",
       "      <td id=\"T_ae89f_row26_col1\" class=\"data row26 col1\" >least_frequent</td>\n",
       "    </tr>\n",
       "    <tr>\n",
       "      <th id=\"T_ae89f_level0_row27\" class=\"row_heading level0 row27\" >27</th>\n",
       "      <td id=\"T_ae89f_row27_col0\" class=\"data row27 col0\" >Normalize</td>\n",
       "      <td id=\"T_ae89f_row27_col1\" class=\"data row27 col1\" >0</td>\n",
       "    </tr>\n",
       "    <tr>\n",
       "      <th id=\"T_ae89f_level0_row28\" class=\"row_heading level0 row28\" >28</th>\n",
       "      <td id=\"T_ae89f_row28_col0\" class=\"data row28 col0\" >Normalize Method</td>\n",
       "      <td id=\"T_ae89f_row28_col1\" class=\"data row28 col1\" >None</td>\n",
       "    </tr>\n",
       "    <tr>\n",
       "      <th id=\"T_ae89f_level0_row29\" class=\"row_heading level0 row29\" >29</th>\n",
       "      <td id=\"T_ae89f_row29_col0\" class=\"data row29 col0\" >Transformation</td>\n",
       "      <td id=\"T_ae89f_row29_col1\" class=\"data row29 col1\" >0</td>\n",
       "    </tr>\n",
       "    <tr>\n",
       "      <th id=\"T_ae89f_level0_row30\" class=\"row_heading level0 row30\" >30</th>\n",
       "      <td id=\"T_ae89f_row30_col0\" class=\"data row30 col0\" >Transformation Method</td>\n",
       "      <td id=\"T_ae89f_row30_col1\" class=\"data row30 col1\" >None</td>\n",
       "    </tr>\n",
       "    <tr>\n",
       "      <th id=\"T_ae89f_level0_row31\" class=\"row_heading level0 row31\" >31</th>\n",
       "      <td id=\"T_ae89f_row31_col0\" class=\"data row31 col0\" >PCA</td>\n",
       "      <td id=\"T_ae89f_row31_col1\" class=\"data row31 col1\" >0</td>\n",
       "    </tr>\n",
       "    <tr>\n",
       "      <th id=\"T_ae89f_level0_row32\" class=\"row_heading level0 row32\" >32</th>\n",
       "      <td id=\"T_ae89f_row32_col0\" class=\"data row32 col0\" >PCA Method</td>\n",
       "      <td id=\"T_ae89f_row32_col1\" class=\"data row32 col1\" >None</td>\n",
       "    </tr>\n",
       "    <tr>\n",
       "      <th id=\"T_ae89f_level0_row33\" class=\"row_heading level0 row33\" >33</th>\n",
       "      <td id=\"T_ae89f_row33_col0\" class=\"data row33 col0\" >PCA Components</td>\n",
       "      <td id=\"T_ae89f_row33_col1\" class=\"data row33 col1\" >None</td>\n",
       "    </tr>\n",
       "    <tr>\n",
       "      <th id=\"T_ae89f_level0_row34\" class=\"row_heading level0 row34\" >34</th>\n",
       "      <td id=\"T_ae89f_row34_col0\" class=\"data row34 col0\" >Ignore Low Variance</td>\n",
       "      <td id=\"T_ae89f_row34_col1\" class=\"data row34 col1\" >0</td>\n",
       "    </tr>\n",
       "    <tr>\n",
       "      <th id=\"T_ae89f_level0_row35\" class=\"row_heading level0 row35\" >35</th>\n",
       "      <td id=\"T_ae89f_row35_col0\" class=\"data row35 col0\" >Combine Rare Levels</td>\n",
       "      <td id=\"T_ae89f_row35_col1\" class=\"data row35 col1\" >0</td>\n",
       "    </tr>\n",
       "    <tr>\n",
       "      <th id=\"T_ae89f_level0_row36\" class=\"row_heading level0 row36\" >36</th>\n",
       "      <td id=\"T_ae89f_row36_col0\" class=\"data row36 col0\" >Rare Level Threshold</td>\n",
       "      <td id=\"T_ae89f_row36_col1\" class=\"data row36 col1\" >None</td>\n",
       "    </tr>\n",
       "    <tr>\n",
       "      <th id=\"T_ae89f_level0_row37\" class=\"row_heading level0 row37\" >37</th>\n",
       "      <td id=\"T_ae89f_row37_col0\" class=\"data row37 col0\" >Numeric Binning</td>\n",
       "      <td id=\"T_ae89f_row37_col1\" class=\"data row37 col1\" >0</td>\n",
       "    </tr>\n",
       "    <tr>\n",
       "      <th id=\"T_ae89f_level0_row38\" class=\"row_heading level0 row38\" >38</th>\n",
       "      <td id=\"T_ae89f_row38_col0\" class=\"data row38 col0\" >Remove Outliers</td>\n",
       "      <td id=\"T_ae89f_row38_col1\" class=\"data row38 col1\" >0</td>\n",
       "    </tr>\n",
       "    <tr>\n",
       "      <th id=\"T_ae89f_level0_row39\" class=\"row_heading level0 row39\" >39</th>\n",
       "      <td id=\"T_ae89f_row39_col0\" class=\"data row39 col0\" >Outliers Threshold</td>\n",
       "      <td id=\"T_ae89f_row39_col1\" class=\"data row39 col1\" >None</td>\n",
       "    </tr>\n",
       "    <tr>\n",
       "      <th id=\"T_ae89f_level0_row40\" class=\"row_heading level0 row40\" >40</th>\n",
       "      <td id=\"T_ae89f_row40_col0\" class=\"data row40 col0\" >Remove Multicollinearity</td>\n",
       "      <td id=\"T_ae89f_row40_col1\" class=\"data row40 col1\" >0</td>\n",
       "    </tr>\n",
       "    <tr>\n",
       "      <th id=\"T_ae89f_level0_row41\" class=\"row_heading level0 row41\" >41</th>\n",
       "      <td id=\"T_ae89f_row41_col0\" class=\"data row41 col0\" >Multicollinearity Threshold</td>\n",
       "      <td id=\"T_ae89f_row41_col1\" class=\"data row41 col1\" >None</td>\n",
       "    </tr>\n",
       "    <tr>\n",
       "      <th id=\"T_ae89f_level0_row42\" class=\"row_heading level0 row42\" >42</th>\n",
       "      <td id=\"T_ae89f_row42_col0\" class=\"data row42 col0\" >Remove Perfect Collinearity</td>\n",
       "      <td id=\"T_ae89f_row42_col1\" class=\"data row42 col1\" >1</td>\n",
       "    </tr>\n",
       "    <tr>\n",
       "      <th id=\"T_ae89f_level0_row43\" class=\"row_heading level0 row43\" >43</th>\n",
       "      <td id=\"T_ae89f_row43_col0\" class=\"data row43 col0\" >Clustering</td>\n",
       "      <td id=\"T_ae89f_row43_col1\" class=\"data row43 col1\" >0</td>\n",
       "    </tr>\n",
       "    <tr>\n",
       "      <th id=\"T_ae89f_level0_row44\" class=\"row_heading level0 row44\" >44</th>\n",
       "      <td id=\"T_ae89f_row44_col0\" class=\"data row44 col0\" >Clustering Iteration</td>\n",
       "      <td id=\"T_ae89f_row44_col1\" class=\"data row44 col1\" >None</td>\n",
       "    </tr>\n",
       "    <tr>\n",
       "      <th id=\"T_ae89f_level0_row45\" class=\"row_heading level0 row45\" >45</th>\n",
       "      <td id=\"T_ae89f_row45_col0\" class=\"data row45 col0\" >Polynomial Features</td>\n",
       "      <td id=\"T_ae89f_row45_col1\" class=\"data row45 col1\" >0</td>\n",
       "    </tr>\n",
       "    <tr>\n",
       "      <th id=\"T_ae89f_level0_row46\" class=\"row_heading level0 row46\" >46</th>\n",
       "      <td id=\"T_ae89f_row46_col0\" class=\"data row46 col0\" >Polynomial Degree</td>\n",
       "      <td id=\"T_ae89f_row46_col1\" class=\"data row46 col1\" >None</td>\n",
       "    </tr>\n",
       "    <tr>\n",
       "      <th id=\"T_ae89f_level0_row47\" class=\"row_heading level0 row47\" >47</th>\n",
       "      <td id=\"T_ae89f_row47_col0\" class=\"data row47 col0\" >Trignometry Features</td>\n",
       "      <td id=\"T_ae89f_row47_col1\" class=\"data row47 col1\" >0</td>\n",
       "    </tr>\n",
       "    <tr>\n",
       "      <th id=\"T_ae89f_level0_row48\" class=\"row_heading level0 row48\" >48</th>\n",
       "      <td id=\"T_ae89f_row48_col0\" class=\"data row48 col0\" >Polynomial Threshold</td>\n",
       "      <td id=\"T_ae89f_row48_col1\" class=\"data row48 col1\" >None</td>\n",
       "    </tr>\n",
       "    <tr>\n",
       "      <th id=\"T_ae89f_level0_row49\" class=\"row_heading level0 row49\" >49</th>\n",
       "      <td id=\"T_ae89f_row49_col0\" class=\"data row49 col0\" >Group Features</td>\n",
       "      <td id=\"T_ae89f_row49_col1\" class=\"data row49 col1\" >0</td>\n",
       "    </tr>\n",
       "    <tr>\n",
       "      <th id=\"T_ae89f_level0_row50\" class=\"row_heading level0 row50\" >50</th>\n",
       "      <td id=\"T_ae89f_row50_col0\" class=\"data row50 col0\" >Feature Selection</td>\n",
       "      <td id=\"T_ae89f_row50_col1\" class=\"data row50 col1\" >0</td>\n",
       "    </tr>\n",
       "    <tr>\n",
       "      <th id=\"T_ae89f_level0_row51\" class=\"row_heading level0 row51\" >51</th>\n",
       "      <td id=\"T_ae89f_row51_col0\" class=\"data row51 col0\" >Feature Selection Method</td>\n",
       "      <td id=\"T_ae89f_row51_col1\" class=\"data row51 col1\" >classic</td>\n",
       "    </tr>\n",
       "    <tr>\n",
       "      <th id=\"T_ae89f_level0_row52\" class=\"row_heading level0 row52\" >52</th>\n",
       "      <td id=\"T_ae89f_row52_col0\" class=\"data row52 col0\" >Features Selection Threshold</td>\n",
       "      <td id=\"T_ae89f_row52_col1\" class=\"data row52 col1\" >None</td>\n",
       "    </tr>\n",
       "    <tr>\n",
       "      <th id=\"T_ae89f_level0_row53\" class=\"row_heading level0 row53\" >53</th>\n",
       "      <td id=\"T_ae89f_row53_col0\" class=\"data row53 col0\" >Feature Interaction</td>\n",
       "      <td id=\"T_ae89f_row53_col1\" class=\"data row53 col1\" >0</td>\n",
       "    </tr>\n",
       "    <tr>\n",
       "      <th id=\"T_ae89f_level0_row54\" class=\"row_heading level0 row54\" >54</th>\n",
       "      <td id=\"T_ae89f_row54_col0\" class=\"data row54 col0\" >Feature Ratio</td>\n",
       "      <td id=\"T_ae89f_row54_col1\" class=\"data row54 col1\" >0</td>\n",
       "    </tr>\n",
       "    <tr>\n",
       "      <th id=\"T_ae89f_level0_row55\" class=\"row_heading level0 row55\" >55</th>\n",
       "      <td id=\"T_ae89f_row55_col0\" class=\"data row55 col0\" >Interaction Threshold</td>\n",
       "      <td id=\"T_ae89f_row55_col1\" class=\"data row55 col1\" >None</td>\n",
       "    </tr>\n",
       "    <tr>\n",
       "      <th id=\"T_ae89f_level0_row56\" class=\"row_heading level0 row56\" >56</th>\n",
       "      <td id=\"T_ae89f_row56_col0\" class=\"data row56 col0\" >Transform Target</td>\n",
       "      <td id=\"T_ae89f_row56_col1\" class=\"data row56 col1\" >0</td>\n",
       "    </tr>\n",
       "    <tr>\n",
       "      <th id=\"T_ae89f_level0_row57\" class=\"row_heading level0 row57\" >57</th>\n",
       "      <td id=\"T_ae89f_row57_col0\" class=\"data row57 col0\" >Transform Target Method</td>\n",
       "      <td id=\"T_ae89f_row57_col1\" class=\"data row57 col1\" >box-cox</td>\n",
       "    </tr>\n",
       "  </tbody>\n",
       "</table>\n"
      ],
      "text/plain": [
       "<pandas.io.formats.style.Styler at 0x1c7b1522910>"
      ]
     },
     "metadata": {},
     "output_type": "display_data"
    }
   ],
   "source": [
    "from pycaret.regression import *\n",
    "\n",
    "clf = setup(train_df, target = '등록차량수')"
   ]
  },
  {
   "cell_type": "code",
   "execution_count": 44,
   "id": "daba9df6",
   "metadata": {
    "scrolled": true
   },
   "outputs": [
    {
     "data": {
      "text/html": [
       "<style type=\"text/css\">\n",
       "#T_3482a th {\n",
       "  text-align: left;\n",
       "}\n",
       "#T_3482a_row0_col0, #T_3482a_row1_col0, #T_3482a_row1_col1, #T_3482a_row1_col2, #T_3482a_row1_col3, #T_3482a_row1_col4, #T_3482a_row1_col5, #T_3482a_row1_col6, #T_3482a_row2_col0, #T_3482a_row2_col1, #T_3482a_row2_col2, #T_3482a_row2_col3, #T_3482a_row2_col4, #T_3482a_row2_col5, #T_3482a_row2_col6, #T_3482a_row3_col0, #T_3482a_row3_col1, #T_3482a_row3_col2, #T_3482a_row3_col3, #T_3482a_row3_col4, #T_3482a_row3_col5, #T_3482a_row3_col6, #T_3482a_row4_col0, #T_3482a_row4_col1, #T_3482a_row4_col2, #T_3482a_row4_col3, #T_3482a_row4_col4, #T_3482a_row4_col5, #T_3482a_row4_col6, #T_3482a_row5_col0, #T_3482a_row5_col1, #T_3482a_row5_col2, #T_3482a_row5_col3, #T_3482a_row5_col4, #T_3482a_row5_col5, #T_3482a_row5_col6, #T_3482a_row6_col0, #T_3482a_row6_col1, #T_3482a_row6_col2, #T_3482a_row6_col3, #T_3482a_row6_col4, #T_3482a_row6_col5, #T_3482a_row6_col6, #T_3482a_row7_col0, #T_3482a_row7_col1, #T_3482a_row7_col2, #T_3482a_row7_col3, #T_3482a_row7_col4, #T_3482a_row7_col5, #T_3482a_row7_col6, #T_3482a_row8_col0, #T_3482a_row8_col1, #T_3482a_row8_col2, #T_3482a_row8_col3, #T_3482a_row8_col4, #T_3482a_row8_col5, #T_3482a_row8_col6, #T_3482a_row9_col0, #T_3482a_row9_col1, #T_3482a_row9_col2, #T_3482a_row9_col3, #T_3482a_row9_col4, #T_3482a_row9_col5, #T_3482a_row9_col6, #T_3482a_row10_col0, #T_3482a_row10_col1, #T_3482a_row10_col2, #T_3482a_row10_col3, #T_3482a_row10_col4, #T_3482a_row10_col5, #T_3482a_row10_col6, #T_3482a_row11_col0, #T_3482a_row11_col1, #T_3482a_row11_col2, #T_3482a_row11_col3, #T_3482a_row11_col4, #T_3482a_row11_col5, #T_3482a_row11_col6, #T_3482a_row12_col0, #T_3482a_row12_col1, #T_3482a_row12_col2, #T_3482a_row12_col3, #T_3482a_row12_col4, #T_3482a_row12_col5, #T_3482a_row12_col6, #T_3482a_row13_col0, #T_3482a_row13_col1, #T_3482a_row13_col2, #T_3482a_row13_col3, #T_3482a_row13_col4, #T_3482a_row13_col5, #T_3482a_row13_col6, #T_3482a_row14_col0, #T_3482a_row14_col1, #T_3482a_row14_col2, #T_3482a_row14_col3, #T_3482a_row14_col4, #T_3482a_row14_col5, #T_3482a_row14_col6, #T_3482a_row15_col0, #T_3482a_row15_col1, #T_3482a_row15_col2, #T_3482a_row15_col3, #T_3482a_row15_col4, #T_3482a_row15_col5, #T_3482a_row15_col6, #T_3482a_row16_col0, #T_3482a_row16_col1, #T_3482a_row16_col2, #T_3482a_row16_col3, #T_3482a_row16_col4, #T_3482a_row16_col5, #T_3482a_row16_col6, #T_3482a_row17_col0, #T_3482a_row17_col1, #T_3482a_row17_col2, #T_3482a_row17_col3, #T_3482a_row17_col4, #T_3482a_row17_col5, #T_3482a_row17_col6, #T_3482a_row18_col0, #T_3482a_row18_col1, #T_3482a_row18_col2, #T_3482a_row18_col3, #T_3482a_row18_col4, #T_3482a_row18_col5, #T_3482a_row18_col6 {\n",
       "  text-align: left;\n",
       "}\n",
       "#T_3482a_row0_col1, #T_3482a_row0_col2, #T_3482a_row0_col3, #T_3482a_row0_col4, #T_3482a_row0_col5, #T_3482a_row0_col6 {\n",
       "  text-align: left;\n",
       "  background-color: yellow;\n",
       "}\n",
       "#T_3482a_row0_col7, #T_3482a_row1_col7, #T_3482a_row2_col7, #T_3482a_row3_col7, #T_3482a_row4_col7, #T_3482a_row5_col7, #T_3482a_row6_col7, #T_3482a_row7_col7, #T_3482a_row8_col7, #T_3482a_row9_col7, #T_3482a_row10_col7, #T_3482a_row11_col7, #T_3482a_row12_col7, #T_3482a_row14_col7, #T_3482a_row15_col7, #T_3482a_row16_col7, #T_3482a_row18_col7 {\n",
       "  text-align: left;\n",
       "  background-color: lightgrey;\n",
       "}\n",
       "#T_3482a_row13_col7, #T_3482a_row17_col7 {\n",
       "  text-align: left;\n",
       "  background-color: yellow;\n",
       "  background-color: lightgrey;\n",
       "}\n",
       "</style>\n",
       "<table id=\"T_3482a\">\n",
       "  <thead>\n",
       "    <tr>\n",
       "      <th class=\"blank level0\" >&nbsp;</th>\n",
       "      <th id=\"T_3482a_level0_col0\" class=\"col_heading level0 col0\" >Model</th>\n",
       "      <th id=\"T_3482a_level0_col1\" class=\"col_heading level0 col1\" >MAE</th>\n",
       "      <th id=\"T_3482a_level0_col2\" class=\"col_heading level0 col2\" >MSE</th>\n",
       "      <th id=\"T_3482a_level0_col3\" class=\"col_heading level0 col3\" >RMSE</th>\n",
       "      <th id=\"T_3482a_level0_col4\" class=\"col_heading level0 col4\" >R2</th>\n",
       "      <th id=\"T_3482a_level0_col5\" class=\"col_heading level0 col5\" >RMSLE</th>\n",
       "      <th id=\"T_3482a_level0_col6\" class=\"col_heading level0 col6\" >MAPE</th>\n",
       "      <th id=\"T_3482a_level0_col7\" class=\"col_heading level0 col7\" >TT (Sec)</th>\n",
       "    </tr>\n",
       "  </thead>\n",
       "  <tbody>\n",
       "    <tr>\n",
       "      <th id=\"T_3482a_level0_row0\" class=\"row_heading level0 row0\" >et</th>\n",
       "      <td id=\"T_3482a_row0_col0\" class=\"data row0 col0\" >Extra Trees Regressor</td>\n",
       "      <td id=\"T_3482a_row0_col1\" class=\"data row0 col1\" >13.5301</td>\n",
       "      <td id=\"T_3482a_row0_col2\" class=\"data row0 col2\" >2085.4057</td>\n",
       "      <td id=\"T_3482a_row0_col3\" class=\"data row0 col3\" >43.9952</td>\n",
       "      <td id=\"T_3482a_row0_col4\" class=\"data row0 col4\" >0.9895</td>\n",
       "      <td id=\"T_3482a_row0_col5\" class=\"data row0 col5\" >0.1129</td>\n",
       "      <td id=\"T_3482a_row0_col6\" class=\"data row0 col6\" >0.0402</td>\n",
       "      <td id=\"T_3482a_row0_col7\" class=\"data row0 col7\" >0.2200</td>\n",
       "    </tr>\n",
       "    <tr>\n",
       "      <th id=\"T_3482a_level0_row1\" class=\"row_heading level0 row1\" >dt</th>\n",
       "      <td id=\"T_3482a_row1_col0\" class=\"data row1 col0\" >Decision Tree Regressor</td>\n",
       "      <td id=\"T_3482a_row1_col1\" class=\"data row1 col1\" >18.4344</td>\n",
       "      <td id=\"T_3482a_row1_col2\" class=\"data row1 col2\" >4332.4330</td>\n",
       "      <td id=\"T_3482a_row1_col3\" class=\"data row1 col3\" >65.6720</td>\n",
       "      <td id=\"T_3482a_row1_col4\" class=\"data row1 col4\" >0.9781</td>\n",
       "      <td id=\"T_3482a_row1_col5\" class=\"data row1 col5\" >0.1543</td>\n",
       "      <td id=\"T_3482a_row1_col6\" class=\"data row1 col6\" >0.0497</td>\n",
       "      <td id=\"T_3482a_row1_col7\" class=\"data row1 col7\" >0.0140</td>\n",
       "    </tr>\n",
       "    <tr>\n",
       "      <th id=\"T_3482a_level0_row2\" class=\"row_heading level0 row2\" >xgboost</th>\n",
       "      <td id=\"T_3482a_row2_col0\" class=\"data row2 col0\" >Extreme Gradient Boosting</td>\n",
       "      <td id=\"T_3482a_row2_col1\" class=\"data row2 col1\" >28.8007</td>\n",
       "      <td id=\"T_3482a_row2_col2\" class=\"data row2 col2\" >3240.9553</td>\n",
       "      <td id=\"T_3482a_row2_col3\" class=\"data row2 col3\" >56.0991</td>\n",
       "      <td id=\"T_3482a_row2_col4\" class=\"data row2 col4\" >0.9836</td>\n",
       "      <td id=\"T_3482a_row2_col5\" class=\"data row2 col5\" >0.1417</td>\n",
       "      <td id=\"T_3482a_row2_col6\" class=\"data row2 col6\" >0.0762</td>\n",
       "      <td id=\"T_3482a_row2_col7\" class=\"data row2 col7\" >0.2760</td>\n",
       "    </tr>\n",
       "    <tr>\n",
       "      <th id=\"T_3482a_level0_row3\" class=\"row_heading level0 row3\" >rf</th>\n",
       "      <td id=\"T_3482a_row3_col0\" class=\"data row3 col0\" >Random Forest Regressor</td>\n",
       "      <td id=\"T_3482a_row3_col1\" class=\"data row3 col1\" >29.5158</td>\n",
       "      <td id=\"T_3482a_row3_col2\" class=\"data row3 col2\" >3553.5034</td>\n",
       "      <td id=\"T_3482a_row3_col3\" class=\"data row3 col3\" >58.8268</td>\n",
       "      <td id=\"T_3482a_row3_col4\" class=\"data row3 col4\" >0.9821</td>\n",
       "      <td id=\"T_3482a_row3_col5\" class=\"data row3 col5\" >0.1426</td>\n",
       "      <td id=\"T_3482a_row3_col6\" class=\"data row3 col6\" >0.0745</td>\n",
       "      <td id=\"T_3482a_row3_col7\" class=\"data row3 col7\" >0.3180</td>\n",
       "    </tr>\n",
       "    <tr>\n",
       "      <th id=\"T_3482a_level0_row4\" class=\"row_heading level0 row4\" >lightgbm</th>\n",
       "      <td id=\"T_3482a_row4_col0\" class=\"data row4 col0\" >Light Gradient Boosting Machine</td>\n",
       "      <td id=\"T_3482a_row4_col1\" class=\"data row4 col1\" >39.9880</td>\n",
       "      <td id=\"T_3482a_row4_col2\" class=\"data row4 col2\" >4577.3971</td>\n",
       "      <td id=\"T_3482a_row4_col3\" class=\"data row4 col3\" >67.2641</td>\n",
       "      <td id=\"T_3482a_row4_col4\" class=\"data row4 col4\" >0.9768</td>\n",
       "      <td id=\"T_3482a_row4_col5\" class=\"data row4 col5\" >0.1786</td>\n",
       "      <td id=\"T_3482a_row4_col6\" class=\"data row4 col6\" >0.1141</td>\n",
       "      <td id=\"T_3482a_row4_col7\" class=\"data row4 col7\" >0.1280</td>\n",
       "    </tr>\n",
       "    <tr>\n",
       "      <th id=\"T_3482a_level0_row5\" class=\"row_heading level0 row5\" >gbr</th>\n",
       "      <td id=\"T_3482a_row5_col0\" class=\"data row5 col0\" >Gradient Boosting Regressor</td>\n",
       "      <td id=\"T_3482a_row5_col1\" class=\"data row5 col1\" >74.2295</td>\n",
       "      <td id=\"T_3482a_row5_col2\" class=\"data row5 col2\" >11230.5008</td>\n",
       "      <td id=\"T_3482a_row5_col3\" class=\"data row5 col3\" >105.6085</td>\n",
       "      <td id=\"T_3482a_row5_col4\" class=\"data row5 col4\" >0.9432</td>\n",
       "      <td id=\"T_3482a_row5_col5\" class=\"data row5 col5\" >0.2651</td>\n",
       "      <td id=\"T_3482a_row5_col6\" class=\"data row5 col6\" >0.2122</td>\n",
       "      <td id=\"T_3482a_row5_col7\" class=\"data row5 col7\" >0.1340</td>\n",
       "    </tr>\n",
       "    <tr>\n",
       "      <th id=\"T_3482a_level0_row6\" class=\"row_heading level0 row6\" >knn</th>\n",
       "      <td id=\"T_3482a_row6_col0\" class=\"data row6 col0\" >K Neighbors Regressor</td>\n",
       "      <td id=\"T_3482a_row6_col1\" class=\"data row6 col1\" >105.8606</td>\n",
       "      <td id=\"T_3482a_row6_col2\" class=\"data row6 col2\" >29748.5383</td>\n",
       "      <td id=\"T_3482a_row6_col3\" class=\"data row6 col3\" >172.3840</td>\n",
       "      <td id=\"T_3482a_row6_col4\" class=\"data row6 col4\" >0.8494</td>\n",
       "      <td id=\"T_3482a_row6_col5\" class=\"data row6 col5\" >0.3127</td>\n",
       "      <td id=\"T_3482a_row6_col6\" class=\"data row6 col6\" >0.2418</td>\n",
       "      <td id=\"T_3482a_row6_col7\" class=\"data row6 col7\" >0.0160</td>\n",
       "    </tr>\n",
       "    <tr>\n",
       "      <th id=\"T_3482a_level0_row7\" class=\"row_heading level0 row7\" >ada</th>\n",
       "      <td id=\"T_3482a_row7_col0\" class=\"data row7 col0\" >AdaBoost Regressor</td>\n",
       "      <td id=\"T_3482a_row7_col1\" class=\"data row7 col1\" >143.8420</td>\n",
       "      <td id=\"T_3482a_row7_col2\" class=\"data row7 col2\" >29319.9340</td>\n",
       "      <td id=\"T_3482a_row7_col3\" class=\"data row7 col3\" >171.1503</td>\n",
       "      <td id=\"T_3482a_row7_col4\" class=\"data row7 col4\" >0.8518</td>\n",
       "      <td id=\"T_3482a_row7_col5\" class=\"data row7 col5\" >0.5710</td>\n",
       "      <td id=\"T_3482a_row7_col6\" class=\"data row7 col6\" >0.6562</td>\n",
       "      <td id=\"T_3482a_row7_col7\" class=\"data row7 col7\" >0.1120</td>\n",
       "    </tr>\n",
       "    <tr>\n",
       "      <th id=\"T_3482a_level0_row8\" class=\"row_heading level0 row8\" >lr</th>\n",
       "      <td id=\"T_3482a_row8_col0\" class=\"data row8 col0\" >Linear Regression</td>\n",
       "      <td id=\"T_3482a_row8_col1\" class=\"data row8 col1\" >158.7918</td>\n",
       "      <td id=\"T_3482a_row8_col2\" class=\"data row8 col2\" >52519.4016</td>\n",
       "      <td id=\"T_3482a_row8_col3\" class=\"data row8 col3\" >228.8282</td>\n",
       "      <td id=\"T_3482a_row8_col4\" class=\"data row8 col4\" >0.7357</td>\n",
       "      <td id=\"T_3482a_row8_col5\" class=\"data row8 col5\" >0.6728</td>\n",
       "      <td id=\"T_3482a_row8_col6\" class=\"data row8 col6\" >0.6907</td>\n",
       "      <td id=\"T_3482a_row8_col7\" class=\"data row8 col7\" >0.0100</td>\n",
       "    </tr>\n",
       "    <tr>\n",
       "      <th id=\"T_3482a_level0_row9\" class=\"row_heading level0 row9\" >br</th>\n",
       "      <td id=\"T_3482a_row9_col0\" class=\"data row9 col0\" >Bayesian Ridge</td>\n",
       "      <td id=\"T_3482a_row9_col1\" class=\"data row9 col1\" >159.3230</td>\n",
       "      <td id=\"T_3482a_row9_col2\" class=\"data row9 col2\" >52711.3047</td>\n",
       "      <td id=\"T_3482a_row9_col3\" class=\"data row9 col3\" >229.2181</td>\n",
       "      <td id=\"T_3482a_row9_col4\" class=\"data row9 col4\" >0.7348</td>\n",
       "      <td id=\"T_3482a_row9_col5\" class=\"data row9 col5\" >0.6727</td>\n",
       "      <td id=\"T_3482a_row9_col6\" class=\"data row9 col6\" >0.6914</td>\n",
       "      <td id=\"T_3482a_row9_col7\" class=\"data row9 col7\" >0.0120</td>\n",
       "    </tr>\n",
       "    <tr>\n",
       "      <th id=\"T_3482a_level0_row10\" class=\"row_heading level0 row10\" >ridge</th>\n",
       "      <td id=\"T_3482a_row10_col0\" class=\"data row10 col0\" >Ridge Regression</td>\n",
       "      <td id=\"T_3482a_row10_col1\" class=\"data row10 col1\" >160.0778</td>\n",
       "      <td id=\"T_3482a_row10_col2\" class=\"data row10 col2\" >53226.6234</td>\n",
       "      <td id=\"T_3482a_row10_col3\" class=\"data row10 col3\" >230.3178</td>\n",
       "      <td id=\"T_3482a_row10_col4\" class=\"data row10 col4\" >0.7323</td>\n",
       "      <td id=\"T_3482a_row10_col5\" class=\"data row10 col5\" >0.6775</td>\n",
       "      <td id=\"T_3482a_row10_col6\" class=\"data row10 col6\" >0.6933</td>\n",
       "      <td id=\"T_3482a_row10_col7\" class=\"data row10 col7\" >0.0100</td>\n",
       "    </tr>\n",
       "    <tr>\n",
       "      <th id=\"T_3482a_level0_row11\" class=\"row_heading level0 row11\" >lasso</th>\n",
       "      <td id=\"T_3482a_row11_col0\" class=\"data row11 col0\" >Lasso Regression</td>\n",
       "      <td id=\"T_3482a_row11_col1\" class=\"data row11 col1\" >160.6121</td>\n",
       "      <td id=\"T_3482a_row11_col2\" class=\"data row11 col2\" >54947.7578</td>\n",
       "      <td id=\"T_3482a_row11_col3\" class=\"data row11 col3\" >234.0096</td>\n",
       "      <td id=\"T_3482a_row11_col4\" class=\"data row11 col4\" >0.7238</td>\n",
       "      <td id=\"T_3482a_row11_col5\" class=\"data row11 col5\" >0.6280</td>\n",
       "      <td id=\"T_3482a_row11_col6\" class=\"data row11 col6\" >0.7068</td>\n",
       "      <td id=\"T_3482a_row11_col7\" class=\"data row11 col7\" >0.0100</td>\n",
       "    </tr>\n",
       "    <tr>\n",
       "      <th id=\"T_3482a_level0_row12\" class=\"row_heading level0 row12\" >huber</th>\n",
       "      <td id=\"T_3482a_row12_col0\" class=\"data row12 col0\" >Huber Regressor</td>\n",
       "      <td id=\"T_3482a_row12_col1\" class=\"data row12 col1\" >164.2458</td>\n",
       "      <td id=\"T_3482a_row12_col2\" class=\"data row12 col2\" >67909.2649</td>\n",
       "      <td id=\"T_3482a_row12_col3\" class=\"data row12 col3\" >260.1040</td>\n",
       "      <td id=\"T_3482a_row12_col4\" class=\"data row12 col4\" >0.6586</td>\n",
       "      <td id=\"T_3482a_row12_col5\" class=\"data row12 col5\" >0.5307</td>\n",
       "      <td id=\"T_3482a_row12_col6\" class=\"data row12 col6\" >0.6020</td>\n",
       "      <td id=\"T_3482a_row12_col7\" class=\"data row12 col7\" >0.0480</td>\n",
       "    </tr>\n",
       "    <tr>\n",
       "      <th id=\"T_3482a_level0_row13\" class=\"row_heading level0 row13\" >llar</th>\n",
       "      <td id=\"T_3482a_row13_col0\" class=\"data row13 col0\" >Lasso Least Angle Regression</td>\n",
       "      <td id=\"T_3482a_row13_col1\" class=\"data row13 col1\" >169.6405</td>\n",
       "      <td id=\"T_3482a_row13_col2\" class=\"data row13 col2\" >68773.7627</td>\n",
       "      <td id=\"T_3482a_row13_col3\" class=\"data row13 col3\" >261.6745</td>\n",
       "      <td id=\"T_3482a_row13_col4\" class=\"data row13 col4\" >0.6547</td>\n",
       "      <td id=\"T_3482a_row13_col5\" class=\"data row13 col5\" >0.6213</td>\n",
       "      <td id=\"T_3482a_row13_col6\" class=\"data row13 col6\" >0.6955</td>\n",
       "      <td id=\"T_3482a_row13_col7\" class=\"data row13 col7\" >0.0080</td>\n",
       "    </tr>\n",
       "    <tr>\n",
       "      <th id=\"T_3482a_level0_row14\" class=\"row_heading level0 row14\" >omp</th>\n",
       "      <td id=\"T_3482a_row14_col0\" class=\"data row14 col0\" >Orthogonal Matching Pursuit</td>\n",
       "      <td id=\"T_3482a_row14_col1\" class=\"data row14 col1\" >172.1699</td>\n",
       "      <td id=\"T_3482a_row14_col2\" class=\"data row14 col2\" >64957.1725</td>\n",
       "      <td id=\"T_3482a_row14_col3\" class=\"data row14 col3\" >254.4621</td>\n",
       "      <td id=\"T_3482a_row14_col4\" class=\"data row14 col4\" >0.6734</td>\n",
       "      <td id=\"T_3482a_row14_col5\" class=\"data row14 col5\" >0.6282</td>\n",
       "      <td id=\"T_3482a_row14_col6\" class=\"data row14 col6\" >0.7865</td>\n",
       "      <td id=\"T_3482a_row14_col7\" class=\"data row14 col7\" >0.0120</td>\n",
       "    </tr>\n",
       "    <tr>\n",
       "      <th id=\"T_3482a_level0_row15\" class=\"row_heading level0 row15\" >en</th>\n",
       "      <td id=\"T_3482a_row15_col0\" class=\"data row15 col0\" >Elastic Net</td>\n",
       "      <td id=\"T_3482a_row15_col1\" class=\"data row15 col1\" >183.6884</td>\n",
       "      <td id=\"T_3482a_row15_col2\" class=\"data row15 col2\" >82267.9516</td>\n",
       "      <td id=\"T_3482a_row15_col3\" class=\"data row15 col3\" >286.1752</td>\n",
       "      <td id=\"T_3482a_row15_col4\" class=\"data row15 col4\" >0.5870</td>\n",
       "      <td id=\"T_3482a_row15_col5\" class=\"data row15 col5\" >0.5363</td>\n",
       "      <td id=\"T_3482a_row15_col6\" class=\"data row15 col6\" >0.5973</td>\n",
       "      <td id=\"T_3482a_row15_col7\" class=\"data row15 col7\" >0.0160</td>\n",
       "    </tr>\n",
       "    <tr>\n",
       "      <th id=\"T_3482a_level0_row16\" class=\"row_heading level0 row16\" >par</th>\n",
       "      <td id=\"T_3482a_row16_col0\" class=\"data row16 col0\" >Passive Aggressive Regressor</td>\n",
       "      <td id=\"T_3482a_row16_col1\" class=\"data row16 col1\" >207.0436</td>\n",
       "      <td id=\"T_3482a_row16_col2\" class=\"data row16 col2\" >81740.9210</td>\n",
       "      <td id=\"T_3482a_row16_col3\" class=\"data row16 col3\" >284.4881</td>\n",
       "      <td id=\"T_3482a_row16_col4\" class=\"data row16 col4\" >0.5869</td>\n",
       "      <td id=\"T_3482a_row16_col5\" class=\"data row16 col5\" >0.6449</td>\n",
       "      <td id=\"T_3482a_row16_col6\" class=\"data row16 col6\" >0.8013</td>\n",
       "      <td id=\"T_3482a_row16_col7\" class=\"data row16 col7\" >0.0120</td>\n",
       "    </tr>\n",
       "    <tr>\n",
       "      <th id=\"T_3482a_level0_row17\" class=\"row_heading level0 row17\" >dummy</th>\n",
       "      <td id=\"T_3482a_row17_col0\" class=\"data row17 col0\" >Dummy Regressor</td>\n",
       "      <td id=\"T_3482a_row17_col1\" class=\"data row17 col1\" >335.3375</td>\n",
       "      <td id=\"T_3482a_row17_col2\" class=\"data row17 col2\" >199055.1719</td>\n",
       "      <td id=\"T_3482a_row17_col3\" class=\"data row17 col3\" >445.7861</td>\n",
       "      <td id=\"T_3482a_row17_col4\" class=\"data row17 col4\" >-0.0031</td>\n",
       "      <td id=\"T_3482a_row17_col5\" class=\"data row17 col5\" >0.9636</td>\n",
       "      <td id=\"T_3482a_row17_col6\" class=\"data row17 col6\" >1.5398</td>\n",
       "      <td id=\"T_3482a_row17_col7\" class=\"data row17 col7\" >0.0080</td>\n",
       "    </tr>\n",
       "    <tr>\n",
       "      <th id=\"T_3482a_level0_row18\" class=\"row_heading level0 row18\" >lar</th>\n",
       "      <td id=\"T_3482a_row18_col0\" class=\"data row18 col0\" >Least Angle Regression</td>\n",
       "      <td id=\"T_3482a_row18_col1\" class=\"data row18 col1\" >51295487849.9568</td>\n",
       "      <td id=\"T_3482a_row18_col2\" class=\"data row18 col2\" >5282576804525032880472064.0000</td>\n",
       "      <td id=\"T_3482a_row18_col3\" class=\"data row18 col3\" >1027896252503.4937</td>\n",
       "      <td id=\"T_3482a_row18_col4\" class=\"data row18 col4\" >-27950501142983802880.0000</td>\n",
       "      <td id=\"T_3482a_row18_col5\" class=\"data row18 col5\" >9.5128</td>\n",
       "      <td id=\"T_3482a_row18_col6\" class=\"data row18 col6\" >123358601.1829</td>\n",
       "      <td id=\"T_3482a_row18_col7\" class=\"data row18 col7\" >0.0120</td>\n",
       "    </tr>\n",
       "  </tbody>\n",
       "</table>\n"
      ],
      "text/plain": [
       "<pandas.io.formats.style.Styler at 0x1c7aab00760>"
      ]
     },
     "metadata": {},
     "output_type": "display_data"
    }
   ],
   "source": [
    "# 모델 비교하기\n",
    "best5=compare_models(fold=5, sort='MAE', n_select=5)"
   ]
  },
  {
   "cell_type": "markdown",
   "id": "2638a08a",
   "metadata": {},
   "source": [
    "모델을 비교해보았다 이제 상위5개의 모델을 생성한 뒤 파라미터 튜닝을 해주자"
   ]
  },
  {
   "cell_type": "code",
   "execution_count": 46,
   "id": "764f9800",
   "metadata": {},
   "outputs": [
    {
     "ename": "ValueError",
     "evalue": "Estimator [ExtraTreesRegressor(bootstrap=False, ccp_alpha=0.0, criterion='mse',\n                    max_depth=None, max_features='auto', max_leaf_nodes=None,\n                    max_samples=None, min_impurity_decrease=0.0,\n                    min_impurity_split=None, min_samples_leaf=1,\n                    min_samples_split=2, min_weight_fraction_leaf=0.0,\n                    n_estimators=100, n_jobs=-1, oob_score=False,\n                    random_state=7658, verbose=0, warm_start=False), DecisionTreeRegressor(ccp_alpha=0.0, criterion='mse', max_depth=None,\n                      max_features=None, max_leaf_nodes=None,\n                      min_impurity_decrease=0.0, min_impurity_split=None,\n                      min_samples_leaf=1, min_samples_split=2,\n                      min_weight_fraction_leaf=0.0, presort='deprecated',\n                      random_state=7658, splitter='best'), XGBRegressor(base_score=0.5, booster='gbtree', colsample_bylevel=1,\n             colsample_bynode=1, colsample_bytree=1, enable_categorical=False,\n             gamma=0, gpu_id=-1, importance_type=None,\n             interaction_constraints='', learning_rate=0.300000012,\n             max_delta_step=0, max_depth=6, min_child_weight=1, missing=nan,\n             monotone_constraints='()', n_estimators=100, n_jobs=-1,\n             num_parallel_tree=1, objective='reg:squarederror',\n             predictor='auto', random_state=7658, reg_alpha=0, reg_lambda=1,\n             scale_pos_weight=1, subsample=1, tree_method='auto',\n             validate_parameters=1, verbosity=0), RandomForestRegressor(bootstrap=True, ccp_alpha=0.0, criterion='mse',\n                      max_depth=None, max_features='auto', max_leaf_nodes=None,\n                      max_samples=None, min_impurity_decrease=0.0,\n                      min_impurity_split=None, min_samples_leaf=1,\n                      min_samples_split=2, min_weight_fraction_leaf=0.0,\n                      n_estimators=100, n_jobs=-1, oob_score=False,\n                      random_state=7658, verbose=0, warm_start=False), LGBMRegressor(boosting_type='gbdt', class_weight=None, colsample_bytree=1.0,\n              importance_type='split', learning_rate=0.1, max_depth=-1,\n              min_child_samples=20, min_child_weight=0.001, min_split_gain=0.0,\n              n_estimators=100, n_jobs=-1, num_leaves=31, objective=None,\n              random_state=7658, reg_alpha=0.0, reg_lambda=0.0, silent=True,\n              subsample=1.0, subsample_for_bin=200000, subsample_freq=0)] does not have the required fit() method.",
     "output_type": "error",
     "traceback": [
      "\u001b[1;31m---------------------------------------------------------------------------\u001b[0m",
      "\u001b[1;31mValueError\u001b[0m                                Traceback (most recent call last)",
      "Input \u001b[1;32mIn [46]\u001b[0m, in \u001b[0;36m<cell line: 1>\u001b[1;34m()\u001b[0m\n\u001b[1;32m----> 1\u001b[0m best_tune \u001b[38;5;241m=\u001b[39m \u001b[43mtune_model\u001b[49m\u001b[43m(\u001b[49m\u001b[43mbest5\u001b[49m\u001b[43m)\u001b[49m\n",
      "File \u001b[1;32m~\\anaconda3\\lib\\site-packages\\pycaret\\regression.py:1150\u001b[0m, in \u001b[0;36mtune_model\u001b[1;34m(estimator, fold, round, n_iter, custom_grid, optimize, custom_scorer, search_library, search_algorithm, early_stopping, early_stopping_max_iters, choose_better, fit_kwargs, groups, return_tuner, verbose, tuner_verbose, return_train_score, **kwargs)\u001b[0m\n\u001b[0;32m    958\u001b[0m \u001b[38;5;28;01mdef\u001b[39;00m \u001b[38;5;21mtune_model\u001b[39m(\n\u001b[0;32m    959\u001b[0m     estimator,\n\u001b[0;32m    960\u001b[0m     fold: Optional[Union[\u001b[38;5;28mint\u001b[39m, Any]] \u001b[38;5;241m=\u001b[39m \u001b[38;5;28;01mNone\u001b[39;00m,\n\u001b[1;32m   (...)\u001b[0m\n\u001b[0;32m    977\u001b[0m     \u001b[38;5;241m*\u001b[39m\u001b[38;5;241m*\u001b[39mkwargs,\n\u001b[0;32m    978\u001b[0m ):\n\u001b[0;32m    980\u001b[0m     \u001b[38;5;124;03m\"\"\"\u001b[39;00m\n\u001b[0;32m    981\u001b[0m \u001b[38;5;124;03m    This function tunes the hyperparameters of a given estimator. The output of\u001b[39;00m\n\u001b[0;32m    982\u001b[0m \u001b[38;5;124;03m    this function is a score grid with CV scores by fold of the best selected\u001b[39;00m\n\u001b[1;32m   (...)\u001b[0m\n\u001b[0;32m   1147\u001b[0m \n\u001b[0;32m   1148\u001b[0m \u001b[38;5;124;03m    \"\"\"\u001b[39;00m\n\u001b[1;32m-> 1150\u001b[0m     \u001b[38;5;28;01mreturn\u001b[39;00m \u001b[43mpycaret\u001b[49m\u001b[38;5;241;43m.\u001b[39;49m\u001b[43minternal\u001b[49m\u001b[38;5;241;43m.\u001b[39;49m\u001b[43mtabular\u001b[49m\u001b[38;5;241;43m.\u001b[39;49m\u001b[43mtune_model_supervised\u001b[49m\u001b[43m(\u001b[49m\n\u001b[0;32m   1151\u001b[0m \u001b[43m        \u001b[49m\u001b[43mestimator\u001b[49m\u001b[38;5;241;43m=\u001b[39;49m\u001b[43mestimator\u001b[49m\u001b[43m,\u001b[49m\n\u001b[0;32m   1152\u001b[0m \u001b[43m        \u001b[49m\u001b[43mfold\u001b[49m\u001b[38;5;241;43m=\u001b[39;49m\u001b[43mfold\u001b[49m\u001b[43m,\u001b[49m\n\u001b[0;32m   1153\u001b[0m \u001b[43m        \u001b[49m\u001b[38;5;28;43mround\u001b[39;49m\u001b[38;5;241;43m=\u001b[39;49m\u001b[38;5;28;43mround\u001b[39;49m\u001b[43m,\u001b[49m\n\u001b[0;32m   1154\u001b[0m \u001b[43m        \u001b[49m\u001b[43mn_iter\u001b[49m\u001b[38;5;241;43m=\u001b[39;49m\u001b[43mn_iter\u001b[49m\u001b[43m,\u001b[49m\n\u001b[0;32m   1155\u001b[0m \u001b[43m        \u001b[49m\u001b[43mcustom_grid\u001b[49m\u001b[38;5;241;43m=\u001b[39;49m\u001b[43mcustom_grid\u001b[49m\u001b[43m,\u001b[49m\n\u001b[0;32m   1156\u001b[0m \u001b[43m        \u001b[49m\u001b[43moptimize\u001b[49m\u001b[38;5;241;43m=\u001b[39;49m\u001b[43moptimize\u001b[49m\u001b[43m,\u001b[49m\n\u001b[0;32m   1157\u001b[0m \u001b[43m        \u001b[49m\u001b[43mcustom_scorer\u001b[49m\u001b[38;5;241;43m=\u001b[39;49m\u001b[43mcustom_scorer\u001b[49m\u001b[43m,\u001b[49m\n\u001b[0;32m   1158\u001b[0m \u001b[43m        \u001b[49m\u001b[43msearch_library\u001b[49m\u001b[38;5;241;43m=\u001b[39;49m\u001b[43msearch_library\u001b[49m\u001b[43m,\u001b[49m\n\u001b[0;32m   1159\u001b[0m \u001b[43m        \u001b[49m\u001b[43msearch_algorithm\u001b[49m\u001b[38;5;241;43m=\u001b[39;49m\u001b[43msearch_algorithm\u001b[49m\u001b[43m,\u001b[49m\n\u001b[0;32m   1160\u001b[0m \u001b[43m        \u001b[49m\u001b[43mearly_stopping\u001b[49m\u001b[38;5;241;43m=\u001b[39;49m\u001b[43mearly_stopping\u001b[49m\u001b[43m,\u001b[49m\n\u001b[0;32m   1161\u001b[0m \u001b[43m        \u001b[49m\u001b[43mearly_stopping_max_iters\u001b[49m\u001b[38;5;241;43m=\u001b[39;49m\u001b[43mearly_stopping_max_iters\u001b[49m\u001b[43m,\u001b[49m\n\u001b[0;32m   1162\u001b[0m \u001b[43m        \u001b[49m\u001b[43mchoose_better\u001b[49m\u001b[38;5;241;43m=\u001b[39;49m\u001b[43mchoose_better\u001b[49m\u001b[43m,\u001b[49m\n\u001b[0;32m   1163\u001b[0m \u001b[43m        \u001b[49m\u001b[43mfit_kwargs\u001b[49m\u001b[38;5;241;43m=\u001b[39;49m\u001b[43mfit_kwargs\u001b[49m\u001b[43m,\u001b[49m\n\u001b[0;32m   1164\u001b[0m \u001b[43m        \u001b[49m\u001b[43mgroups\u001b[49m\u001b[38;5;241;43m=\u001b[39;49m\u001b[43mgroups\u001b[49m\u001b[43m,\u001b[49m\n\u001b[0;32m   1165\u001b[0m \u001b[43m        \u001b[49m\u001b[43mreturn_tuner\u001b[49m\u001b[38;5;241;43m=\u001b[39;49m\u001b[43mreturn_tuner\u001b[49m\u001b[43m,\u001b[49m\n\u001b[0;32m   1166\u001b[0m \u001b[43m        \u001b[49m\u001b[43mverbose\u001b[49m\u001b[38;5;241;43m=\u001b[39;49m\u001b[43mverbose\u001b[49m\u001b[43m,\u001b[49m\n\u001b[0;32m   1167\u001b[0m \u001b[43m        \u001b[49m\u001b[43mtuner_verbose\u001b[49m\u001b[38;5;241;43m=\u001b[39;49m\u001b[43mtuner_verbose\u001b[49m\u001b[43m,\u001b[49m\n\u001b[0;32m   1168\u001b[0m \u001b[43m        \u001b[49m\u001b[43mreturn_train_score\u001b[49m\u001b[38;5;241;43m=\u001b[39;49m\u001b[43mreturn_train_score\u001b[49m\u001b[43m,\u001b[49m\n\u001b[0;32m   1169\u001b[0m \u001b[43m        \u001b[49m\u001b[38;5;241;43m*\u001b[39;49m\u001b[38;5;241;43m*\u001b[39;49m\u001b[43mkwargs\u001b[49m\u001b[43m,\u001b[49m\n\u001b[0;32m   1170\u001b[0m \u001b[43m    \u001b[49m\u001b[43m)\u001b[49m\n",
      "File \u001b[1;32m~\\anaconda3\\lib\\site-packages\\pycaret\\internal\\tabular.py:3972\u001b[0m, in \u001b[0;36mtune_model_supervised\u001b[1;34m(estimator, fold, round, n_iter, custom_grid, optimize, custom_scorer, search_library, search_algorithm, early_stopping, early_stopping_max_iters, choose_better, fit_kwargs, groups, return_tuner, verbose, tuner_verbose, display, return_train_score, **kwargs)\u001b[0m\n\u001b[0;32m   3970\u001b[0m \u001b[38;5;66;03m# Check for estimator\u001b[39;00m\n\u001b[0;32m   3971\u001b[0m \u001b[38;5;28;01mif\u001b[39;00m \u001b[38;5;129;01mnot\u001b[39;00m \u001b[38;5;28mhasattr\u001b[39m(estimator, \u001b[38;5;124m\"\u001b[39m\u001b[38;5;124mfit\u001b[39m\u001b[38;5;124m\"\u001b[39m):\n\u001b[1;32m-> 3972\u001b[0m     \u001b[38;5;28;01mraise\u001b[39;00m \u001b[38;5;167;01mValueError\u001b[39;00m(\n\u001b[0;32m   3973\u001b[0m         \u001b[38;5;124mf\u001b[39m\u001b[38;5;124m\"\u001b[39m\u001b[38;5;124mEstimator \u001b[39m\u001b[38;5;132;01m{\u001b[39;00mestimator\u001b[38;5;132;01m}\u001b[39;00m\u001b[38;5;124m does not have the required fit() method.\u001b[39m\u001b[38;5;124m\"\u001b[39m\n\u001b[0;32m   3974\u001b[0m     )\n\u001b[0;32m   3976\u001b[0m \u001b[38;5;66;03m# checking fold parameter\u001b[39;00m\n\u001b[0;32m   3977\u001b[0m \u001b[38;5;28;01mif\u001b[39;00m fold \u001b[38;5;129;01mis\u001b[39;00m \u001b[38;5;129;01mnot\u001b[39;00m \u001b[38;5;28;01mNone\u001b[39;00m \u001b[38;5;129;01mand\u001b[39;00m \u001b[38;5;129;01mnot\u001b[39;00m (\u001b[38;5;28mtype\u001b[39m(fold) \u001b[38;5;129;01mis\u001b[39;00m \u001b[38;5;28mint\u001b[39m \u001b[38;5;129;01mor\u001b[39;00m is_sklearn_cv_generator(fold)):\n",
      "\u001b[1;31mValueError\u001b[0m: Estimator [ExtraTreesRegressor(bootstrap=False, ccp_alpha=0.0, criterion='mse',\n                    max_depth=None, max_features='auto', max_leaf_nodes=None,\n                    max_samples=None, min_impurity_decrease=0.0,\n                    min_impurity_split=None, min_samples_leaf=1,\n                    min_samples_split=2, min_weight_fraction_leaf=0.0,\n                    n_estimators=100, n_jobs=-1, oob_score=False,\n                    random_state=7658, verbose=0, warm_start=False), DecisionTreeRegressor(ccp_alpha=0.0, criterion='mse', max_depth=None,\n                      max_features=None, max_leaf_nodes=None,\n                      min_impurity_decrease=0.0, min_impurity_split=None,\n                      min_samples_leaf=1, min_samples_split=2,\n                      min_weight_fraction_leaf=0.0, presort='deprecated',\n                      random_state=7658, splitter='best'), XGBRegressor(base_score=0.5, booster='gbtree', colsample_bylevel=1,\n             colsample_bynode=1, colsample_bytree=1, enable_categorical=False,\n             gamma=0, gpu_id=-1, importance_type=None,\n             interaction_constraints='', learning_rate=0.300000012,\n             max_delta_step=0, max_depth=6, min_child_weight=1, missing=nan,\n             monotone_constraints='()', n_estimators=100, n_jobs=-1,\n             num_parallel_tree=1, objective='reg:squarederror',\n             predictor='auto', random_state=7658, reg_alpha=0, reg_lambda=1,\n             scale_pos_weight=1, subsample=1, tree_method='auto',\n             validate_parameters=1, verbosity=0), RandomForestRegressor(bootstrap=True, ccp_alpha=0.0, criterion='mse',\n                      max_depth=None, max_features='auto', max_leaf_nodes=None,\n                      max_samples=None, min_impurity_decrease=0.0,\n                      min_impurity_split=None, min_samples_leaf=1,\n                      min_samples_split=2, min_weight_fraction_leaf=0.0,\n                      n_estimators=100, n_jobs=-1, oob_score=False,\n                      random_state=7658, verbose=0, warm_start=False), LGBMRegressor(boosting_type='gbdt', class_weight=None, colsample_bytree=1.0,\n              importance_type='split', learning_rate=0.1, max_depth=-1,\n              min_child_samples=20, min_child_weight=0.001, min_split_gain=0.0,\n              n_estimators=100, n_jobs=-1, num_leaves=31, objective=None,\n              random_state=7658, reg_alpha=0.0, reg_lambda=0.0, silent=True,\n              subsample=1.0, subsample_for_bin=200000, subsample_freq=0)] does not have the required fit() method."
     ]
    }
   ],
   "source": [
    "best_tune = tune_model(best5)"
   ]
  },
  {
   "cell_type": "markdown",
   "id": "77d7c671",
   "metadata": {},
   "source": [
    "저렇게 하면 하이퍼파라미터 튜닝이 가능한데 무슨오류인지 안된다.. 그래서 for 문을 이용해서 튜닝해주었다"
   ]
  },
  {
   "cell_type": "code",
   "execution_count": 47,
   "id": "4ce210b8",
   "metadata": {
    "scrolled": true
   },
   "outputs": [
    {
     "data": {
      "text/html": [
       "<style type=\"text/css\">\n",
       "#T_5e290_row10_col0, #T_5e290_row10_col1, #T_5e290_row10_col2, #T_5e290_row10_col3, #T_5e290_row10_col4, #T_5e290_row10_col5 {\n",
       "  background: yellow;\n",
       "}\n",
       "</style>\n",
       "<table id=\"T_5e290\">\n",
       "  <thead>\n",
       "    <tr>\n",
       "      <th class=\"blank level0\" >&nbsp;</th>\n",
       "      <th id=\"T_5e290_level0_col0\" class=\"col_heading level0 col0\" >MAE</th>\n",
       "      <th id=\"T_5e290_level0_col1\" class=\"col_heading level0 col1\" >MSE</th>\n",
       "      <th id=\"T_5e290_level0_col2\" class=\"col_heading level0 col2\" >RMSE</th>\n",
       "      <th id=\"T_5e290_level0_col3\" class=\"col_heading level0 col3\" >R2</th>\n",
       "      <th id=\"T_5e290_level0_col4\" class=\"col_heading level0 col4\" >RMSLE</th>\n",
       "      <th id=\"T_5e290_level0_col5\" class=\"col_heading level0 col5\" >MAPE</th>\n",
       "    </tr>\n",
       "    <tr>\n",
       "      <th class=\"index_name level0\" >Fold</th>\n",
       "      <th class=\"blank col0\" >&nbsp;</th>\n",
       "      <th class=\"blank col1\" >&nbsp;</th>\n",
       "      <th class=\"blank col2\" >&nbsp;</th>\n",
       "      <th class=\"blank col3\" >&nbsp;</th>\n",
       "      <th class=\"blank col4\" >&nbsp;</th>\n",
       "      <th class=\"blank col5\" >&nbsp;</th>\n",
       "    </tr>\n",
       "  </thead>\n",
       "  <tbody>\n",
       "    <tr>\n",
       "      <th id=\"T_5e290_level0_row0\" class=\"row_heading level0 row0\" >0</th>\n",
       "      <td id=\"T_5e290_row0_col0\" class=\"data row0 col0\" >42.7425</td>\n",
       "      <td id=\"T_5e290_row0_col1\" class=\"data row0 col1\" >5059.6291</td>\n",
       "      <td id=\"T_5e290_row0_col2\" class=\"data row0 col2\" >71.1311</td>\n",
       "      <td id=\"T_5e290_row0_col3\" class=\"data row0 col3\" >0.9713</td>\n",
       "      <td id=\"T_5e290_row0_col4\" class=\"data row0 col4\" >0.1689</td>\n",
       "      <td id=\"T_5e290_row0_col5\" class=\"data row0 col5\" >0.1023</td>\n",
       "    </tr>\n",
       "    <tr>\n",
       "      <th id=\"T_5e290_level0_row1\" class=\"row_heading level0 row1\" >1</th>\n",
       "      <td id=\"T_5e290_row1_col0\" class=\"data row1 col0\" >43.1779</td>\n",
       "      <td id=\"T_5e290_row1_col1\" class=\"data row1 col1\" >5975.9816</td>\n",
       "      <td id=\"T_5e290_row1_col2\" class=\"data row1 col2\" >77.3045</td>\n",
       "      <td id=\"T_5e290_row1_col3\" class=\"data row1 col3\" >0.9704</td>\n",
       "      <td id=\"T_5e290_row1_col4\" class=\"data row1 col4\" >0.2051</td>\n",
       "      <td id=\"T_5e290_row1_col5\" class=\"data row1 col5\" >0.1224</td>\n",
       "    </tr>\n",
       "    <tr>\n",
       "      <th id=\"T_5e290_level0_row2\" class=\"row_heading level0 row2\" >2</th>\n",
       "      <td id=\"T_5e290_row2_col0\" class=\"data row2 col0\" >35.9679</td>\n",
       "      <td id=\"T_5e290_row2_col1\" class=\"data row2 col1\" >3893.5271</td>\n",
       "      <td id=\"T_5e290_row2_col2\" class=\"data row2 col2\" >62.3981</td>\n",
       "      <td id=\"T_5e290_row2_col3\" class=\"data row2 col3\" >0.9807</td>\n",
       "      <td id=\"T_5e290_row2_col4\" class=\"data row2 col4\" >0.1718</td>\n",
       "      <td id=\"T_5e290_row2_col5\" class=\"data row2 col5\" >0.0944</td>\n",
       "    </tr>\n",
       "    <tr>\n",
       "      <th id=\"T_5e290_level0_row3\" class=\"row_heading level0 row3\" >3</th>\n",
       "      <td id=\"T_5e290_row3_col0\" class=\"data row3 col0\" >40.5756</td>\n",
       "      <td id=\"T_5e290_row3_col1\" class=\"data row3 col1\" >5797.2228</td>\n",
       "      <td id=\"T_5e290_row3_col2\" class=\"data row3 col2\" >76.1395</td>\n",
       "      <td id=\"T_5e290_row3_col3\" class=\"data row3 col3\" >0.9747</td>\n",
       "      <td id=\"T_5e290_row3_col4\" class=\"data row3 col4\" >0.2206</td>\n",
       "      <td id=\"T_5e290_row3_col5\" class=\"data row3 col5\" >0.1401</td>\n",
       "    </tr>\n",
       "    <tr>\n",
       "      <th id=\"T_5e290_level0_row4\" class=\"row_heading level0 row4\" >4</th>\n",
       "      <td id=\"T_5e290_row4_col0\" class=\"data row4 col0\" >35.2399</td>\n",
       "      <td id=\"T_5e290_row4_col1\" class=\"data row4 col1\" >4120.3870</td>\n",
       "      <td id=\"T_5e290_row4_col2\" class=\"data row4 col2\" >64.1902</td>\n",
       "      <td id=\"T_5e290_row4_col3\" class=\"data row4 col3\" >0.9750</td>\n",
       "      <td id=\"T_5e290_row4_col4\" class=\"data row4 col4\" >0.2332</td>\n",
       "      <td id=\"T_5e290_row4_col5\" class=\"data row4 col5\" >0.1387</td>\n",
       "    </tr>\n",
       "    <tr>\n",
       "      <th id=\"T_5e290_level0_row5\" class=\"row_heading level0 row5\" >5</th>\n",
       "      <td id=\"T_5e290_row5_col0\" class=\"data row5 col0\" >33.9581</td>\n",
       "      <td id=\"T_5e290_row5_col1\" class=\"data row5 col1\" >2837.3166</td>\n",
       "      <td id=\"T_5e290_row5_col2\" class=\"data row5 col2\" >53.2665</td>\n",
       "      <td id=\"T_5e290_row5_col3\" class=\"data row5 col3\" >0.9853</td>\n",
       "      <td id=\"T_5e290_row5_col4\" class=\"data row5 col4\" >0.1284</td>\n",
       "      <td id=\"T_5e290_row5_col5\" class=\"data row5 col5\" >0.0826</td>\n",
       "    </tr>\n",
       "    <tr>\n",
       "      <th id=\"T_5e290_level0_row6\" class=\"row_heading level0 row6\" >6</th>\n",
       "      <td id=\"T_5e290_row6_col0\" class=\"data row6 col0\" >38.4752</td>\n",
       "      <td id=\"T_5e290_row6_col1\" class=\"data row6 col1\" >4053.1043</td>\n",
       "      <td id=\"T_5e290_row6_col2\" class=\"data row6 col2\" >63.6640</td>\n",
       "      <td id=\"T_5e290_row6_col3\" class=\"data row6 col3\" >0.9799</td>\n",
       "      <td id=\"T_5e290_row6_col4\" class=\"data row6 col4\" >0.1505</td>\n",
       "      <td id=\"T_5e290_row6_col5\" class=\"data row6 col5\" >0.0894</td>\n",
       "    </tr>\n",
       "    <tr>\n",
       "      <th id=\"T_5e290_level0_row7\" class=\"row_heading level0 row7\" >7</th>\n",
       "      <td id=\"T_5e290_row7_col0\" class=\"data row7 col0\" >33.6235</td>\n",
       "      <td id=\"T_5e290_row7_col1\" class=\"data row7 col1\" >3613.7278</td>\n",
       "      <td id=\"T_5e290_row7_col2\" class=\"data row7 col2\" >60.1143</td>\n",
       "      <td id=\"T_5e290_row7_col3\" class=\"data row7 col3\" >0.9795</td>\n",
       "      <td id=\"T_5e290_row7_col4\" class=\"data row7 col4\" >0.1820</td>\n",
       "      <td id=\"T_5e290_row7_col5\" class=\"data row7 col5\" >0.1028</td>\n",
       "    </tr>\n",
       "    <tr>\n",
       "      <th id=\"T_5e290_level0_row8\" class=\"row_heading level0 row8\" >8</th>\n",
       "      <td id=\"T_5e290_row8_col0\" class=\"data row8 col0\" >29.8580</td>\n",
       "      <td id=\"T_5e290_row8_col1\" class=\"data row8 col1\" >2058.3616</td>\n",
       "      <td id=\"T_5e290_row8_col2\" class=\"data row8 col2\" >45.3692</td>\n",
       "      <td id=\"T_5e290_row8_col3\" class=\"data row8 col3\" >0.9896</td>\n",
       "      <td id=\"T_5e290_row8_col4\" class=\"data row8 col4\" >0.1251</td>\n",
       "      <td id=\"T_5e290_row8_col5\" class=\"data row8 col5\" >0.0769</td>\n",
       "    </tr>\n",
       "    <tr>\n",
       "      <th id=\"T_5e290_level0_row9\" class=\"row_heading level0 row9\" >9</th>\n",
       "      <td id=\"T_5e290_row9_col0\" class=\"data row9 col0\" >40.4933</td>\n",
       "      <td id=\"T_5e290_row9_col1\" class=\"data row9 col1\" >5653.4516</td>\n",
       "      <td id=\"T_5e290_row9_col2\" class=\"data row9 col2\" >75.1894</td>\n",
       "      <td id=\"T_5e290_row9_col3\" class=\"data row9 col3\" >0.9764</td>\n",
       "      <td id=\"T_5e290_row9_col4\" class=\"data row9 col4\" >0.1762</td>\n",
       "      <td id=\"T_5e290_row9_col5\" class=\"data row9 col5\" >0.1018</td>\n",
       "    </tr>\n",
       "    <tr>\n",
       "      <th id=\"T_5e290_level0_row10\" class=\"row_heading level0 row10\" >Mean</th>\n",
       "      <td id=\"T_5e290_row10_col0\" class=\"data row10 col0\" >37.4112</td>\n",
       "      <td id=\"T_5e290_row10_col1\" class=\"data row10 col1\" >4306.2709</td>\n",
       "      <td id=\"T_5e290_row10_col2\" class=\"data row10 col2\" >64.8767</td>\n",
       "      <td id=\"T_5e290_row10_col3\" class=\"data row10 col3\" >0.9783</td>\n",
       "      <td id=\"T_5e290_row10_col4\" class=\"data row10 col4\" >0.1762</td>\n",
       "      <td id=\"T_5e290_row10_col5\" class=\"data row10 col5\" >0.1051</td>\n",
       "    </tr>\n",
       "    <tr>\n",
       "      <th id=\"T_5e290_level0_row11\" class=\"row_heading level0 row11\" >Std</th>\n",
       "      <td id=\"T_5e290_row11_col0\" class=\"data row11 col0\" >4.1526</td>\n",
       "      <td id=\"T_5e290_row11_col1\" class=\"data row11 col1\" >1239.0665</td>\n",
       "      <td id=\"T_5e290_row11_col2\" class=\"data row11 col2\" >9.8635</td>\n",
       "      <td id=\"T_5e290_row11_col3\" class=\"data row11 col3\" >0.0057</td>\n",
       "      <td id=\"T_5e290_row11_col4\" class=\"data row11 col4\" >0.0342</td>\n",
       "      <td id=\"T_5e290_row11_col5\" class=\"data row11 col5\" >0.0208</td>\n",
       "    </tr>\n",
       "  </tbody>\n",
       "</table>\n"
      ],
      "text/plain": [
       "<pandas.io.formats.style.Styler at 0x1c7b502a5e0>"
      ]
     },
     "metadata": {},
     "output_type": "display_data"
    }
   ],
   "source": [
    "tuned_best5 = [tune_model(i) for i in best5]"
   ]
  },
  {
   "cell_type": "markdown",
   "id": "ab7a8ba1",
   "metadata": {},
   "source": [
    "튜닝이 끝났으니 모델을 블렌딩해주자"
   ]
  },
  {
   "cell_type": "code",
   "execution_count": 48,
   "id": "78c65fab",
   "metadata": {},
   "outputs": [
    {
     "data": {
      "text/html": [
       "<style type=\"text/css\">\n",
       "#T_fdd87_row5_col0, #T_fdd87_row5_col1, #T_fdd87_row5_col2, #T_fdd87_row5_col3, #T_fdd87_row5_col4, #T_fdd87_row5_col5 {\n",
       "  background: yellow;\n",
       "}\n",
       "</style>\n",
       "<table id=\"T_fdd87\">\n",
       "  <thead>\n",
       "    <tr>\n",
       "      <th class=\"blank level0\" >&nbsp;</th>\n",
       "      <th id=\"T_fdd87_level0_col0\" class=\"col_heading level0 col0\" >MAE</th>\n",
       "      <th id=\"T_fdd87_level0_col1\" class=\"col_heading level0 col1\" >MSE</th>\n",
       "      <th id=\"T_fdd87_level0_col2\" class=\"col_heading level0 col2\" >RMSE</th>\n",
       "      <th id=\"T_fdd87_level0_col3\" class=\"col_heading level0 col3\" >R2</th>\n",
       "      <th id=\"T_fdd87_level0_col4\" class=\"col_heading level0 col4\" >RMSLE</th>\n",
       "      <th id=\"T_fdd87_level0_col5\" class=\"col_heading level0 col5\" >MAPE</th>\n",
       "    </tr>\n",
       "    <tr>\n",
       "      <th class=\"index_name level0\" >Fold</th>\n",
       "      <th class=\"blank col0\" >&nbsp;</th>\n",
       "      <th class=\"blank col1\" >&nbsp;</th>\n",
       "      <th class=\"blank col2\" >&nbsp;</th>\n",
       "      <th class=\"blank col3\" >&nbsp;</th>\n",
       "      <th class=\"blank col4\" >&nbsp;</th>\n",
       "      <th class=\"blank col5\" >&nbsp;</th>\n",
       "    </tr>\n",
       "  </thead>\n",
       "  <tbody>\n",
       "    <tr>\n",
       "      <th id=\"T_fdd87_level0_row0\" class=\"row_heading level0 row0\" >0</th>\n",
       "      <td id=\"T_fdd87_row0_col0\" class=\"data row0 col0\" >42.6007</td>\n",
       "      <td id=\"T_fdd87_row0_col1\" class=\"data row0 col1\" >6042.4533</td>\n",
       "      <td id=\"T_fdd87_row0_col2\" class=\"data row0 col2\" >77.7332</td>\n",
       "      <td id=\"T_fdd87_row0_col3\" class=\"data row0 col3\" >0.9681</td>\n",
       "      <td id=\"T_fdd87_row0_col4\" class=\"data row0 col4\" >0.1911</td>\n",
       "      <td id=\"T_fdd87_row0_col5\" class=\"data row0 col5\" >0.1121</td>\n",
       "    </tr>\n",
       "    <tr>\n",
       "      <th id=\"T_fdd87_level0_row1\" class=\"row_heading level0 row1\" >1</th>\n",
       "      <td id=\"T_fdd87_row1_col0\" class=\"data row1 col0\" >38.4029</td>\n",
       "      <td id=\"T_fdd87_row1_col1\" class=\"data row1 col1\" >5320.5478</td>\n",
       "      <td id=\"T_fdd87_row1_col2\" class=\"data row1 col2\" >72.9421</td>\n",
       "      <td id=\"T_fdd87_row1_col3\" class=\"data row1 col3\" >0.9754</td>\n",
       "      <td id=\"T_fdd87_row1_col4\" class=\"data row1 col4\" >0.1826</td>\n",
       "      <td id=\"T_fdd87_row1_col5\" class=\"data row1 col5\" >0.1056</td>\n",
       "    </tr>\n",
       "    <tr>\n",
       "      <th id=\"T_fdd87_level0_row2\" class=\"row_heading level0 row2\" >2</th>\n",
       "      <td id=\"T_fdd87_row2_col0\" class=\"data row2 col0\" >34.8319</td>\n",
       "      <td id=\"T_fdd87_row2_col1\" class=\"data row2 col1\" >3571.5058</td>\n",
       "      <td id=\"T_fdd87_row2_col2\" class=\"data row2 col2\" >59.7621</td>\n",
       "      <td id=\"T_fdd87_row2_col3\" class=\"data row2 col3\" >0.9800</td>\n",
       "      <td id=\"T_fdd87_row2_col4\" class=\"data row2 col4\" >0.1708</td>\n",
       "      <td id=\"T_fdd87_row2_col5\" class=\"data row2 col5\" >0.0994</td>\n",
       "    </tr>\n",
       "    <tr>\n",
       "      <th id=\"T_fdd87_level0_row3\" class=\"row_heading level0 row3\" >3</th>\n",
       "      <td id=\"T_fdd87_row3_col0\" class=\"data row3 col0\" >33.8209</td>\n",
       "      <td id=\"T_fdd87_row3_col1\" class=\"data row3 col1\" >3471.9304</td>\n",
       "      <td id=\"T_fdd87_row3_col2\" class=\"data row3 col2\" >58.9231</td>\n",
       "      <td id=\"T_fdd87_row3_col3\" class=\"data row3 col3\" >0.9816</td>\n",
       "      <td id=\"T_fdd87_row3_col4\" class=\"data row3 col4\" >0.1350</td>\n",
       "      <td id=\"T_fdd87_row3_col5\" class=\"data row3 col5\" >0.0788</td>\n",
       "    </tr>\n",
       "    <tr>\n",
       "      <th id=\"T_fdd87_level0_row4\" class=\"row_heading level0 row4\" >4</th>\n",
       "      <td id=\"T_fdd87_row4_col0\" class=\"data row4 col0\" >37.3562</td>\n",
       "      <td id=\"T_fdd87_row4_col1\" class=\"data row4 col1\" >4091.2911</td>\n",
       "      <td id=\"T_fdd87_row4_col2\" class=\"data row4 col2\" >63.9632</td>\n",
       "      <td id=\"T_fdd87_row4_col3\" class=\"data row4 col3\" >0.9814</td>\n",
       "      <td id=\"T_fdd87_row4_col4\" class=\"data row4 col4\" >0.1217</td>\n",
       "      <td id=\"T_fdd87_row4_col5\" class=\"data row4 col5\" >0.0787</td>\n",
       "    </tr>\n",
       "    <tr>\n",
       "      <th id=\"T_fdd87_level0_row5\" class=\"row_heading level0 row5\" >Mean</th>\n",
       "      <td id=\"T_fdd87_row5_col0\" class=\"data row5 col0\" >37.4025</td>\n",
       "      <td id=\"T_fdd87_row5_col1\" class=\"data row5 col1\" >4499.5457</td>\n",
       "      <td id=\"T_fdd87_row5_col2\" class=\"data row5 col2\" >66.6647</td>\n",
       "      <td id=\"T_fdd87_row5_col3\" class=\"data row5 col3\" >0.9773</td>\n",
       "      <td id=\"T_fdd87_row5_col4\" class=\"data row5 col4\" >0.1602</td>\n",
       "      <td id=\"T_fdd87_row5_col5\" class=\"data row5 col5\" >0.0949</td>\n",
       "    </tr>\n",
       "    <tr>\n",
       "      <th id=\"T_fdd87_level0_row6\" class=\"row_heading level0 row6\" >Std</th>\n",
       "      <td id=\"T_fdd87_row6_col0\" class=\"data row6 col0\" >3.0809</td>\n",
       "      <td id=\"T_fdd87_row6_col1\" class=\"data row6 col1\" >1013.7585</td>\n",
       "      <td id=\"T_fdd87_row6_col2\" class=\"data row6 col2\" >7.4404</td>\n",
       "      <td id=\"T_fdd87_row6_col3\" class=\"data row6 col3\" >0.0051</td>\n",
       "      <td id=\"T_fdd87_row6_col4\" class=\"data row6 col4\" >0.0271</td>\n",
       "      <td id=\"T_fdd87_row6_col5\" class=\"data row6 col5\" >0.0138</td>\n",
       "    </tr>\n",
       "  </tbody>\n",
       "</table>\n"
      ],
      "text/plain": [
       "<pandas.io.formats.style.Styler at 0x1c7b5095b50>"
      ]
     },
     "metadata": {},
     "output_type": "display_data"
    }
   ],
   "source": [
    "best_blend = blend_models(estimator_list= tuned_best5, fold=5, optimize='MAE')"
   ]
  },
  {
   "cell_type": "markdown",
   "id": "b23fdf42",
   "metadata": {},
   "source": [
    "모델을 finalized"
   ]
  },
  {
   "cell_type": "code",
   "execution_count": 49,
   "id": "8dda5859",
   "metadata": {},
   "outputs": [],
   "source": [
    "final_model = finalize_model(best_blend)"
   ]
  },
  {
   "cell_type": "markdown",
   "id": "b050b805",
   "metadata": {},
   "source": [
    "최종 모델로 예측하기"
   ]
  },
  {
   "cell_type": "code",
   "execution_count": 50,
   "id": "2a6a0def",
   "metadata": {},
   "outputs": [],
   "source": [
    "pred = predict_model(final_model, test_df)"
   ]
  },
  {
   "cell_type": "markdown",
   "id": "8eed036e",
   "metadata": {},
   "source": [
    "모델 시각화"
   ]
  },
  {
   "cell_type": "code",
   "execution_count": 54,
   "id": "8a85e07c",
   "metadata": {},
   "outputs": [
    {
     "data": {
      "text/html": [
       "<div>\n",
       "<style scoped>\n",
       "    .dataframe tbody tr th:only-of-type {\n",
       "        vertical-align: middle;\n",
       "    }\n",
       "\n",
       "    .dataframe tbody tr th {\n",
       "        vertical-align: top;\n",
       "    }\n",
       "\n",
       "    .dataframe thead th {\n",
       "        text-align: right;\n",
       "    }\n",
       "</style>\n",
       "<table border=\"1\" class=\"dataframe\">\n",
       "  <thead>\n",
       "    <tr style=\"text-align: right;\">\n",
       "      <th></th>\n",
       "      <th>총세대수</th>\n",
       "      <th>전용면적</th>\n",
       "      <th>전용면적별세대수</th>\n",
       "      <th>공가수</th>\n",
       "      <th>임대보증금</th>\n",
       "      <th>임대료</th>\n",
       "      <th>도보 10분거리 내 버스정류장 수</th>\n",
       "      <th>단지내주차면수</th>\n",
       "      <th>임대건물구분_상가</th>\n",
       "      <th>임대건물구분_아파트</th>\n",
       "      <th>...</th>\n",
       "      <th>자격유형_I</th>\n",
       "      <th>자격유형_J</th>\n",
       "      <th>자격유형_K</th>\n",
       "      <th>자격유형_L</th>\n",
       "      <th>자격유형_M</th>\n",
       "      <th>자격유형_N</th>\n",
       "      <th>도보 10분거리 내 지하철역 수(환승노선 수 반영)_0.0</th>\n",
       "      <th>도보 10분거리 내 지하철역 수(환승노선 수 반영)_1.0</th>\n",
       "      <th>도보 10분거리 내 지하철역 수(환승노선 수 반영)_2.0</th>\n",
       "      <th>Label</th>\n",
       "    </tr>\n",
       "  </thead>\n",
       "  <tbody>\n",
       "    <tr>\n",
       "      <th>0</th>\n",
       "      <td>6.626718</td>\n",
       "      <td>3.708437</td>\n",
       "      <td>4.762174</td>\n",
       "      <td>2.708050</td>\n",
       "      <td>16.943586</td>\n",
       "      <td>12.153942</td>\n",
       "      <td>1.098612</td>\n",
       "      <td>6.527958</td>\n",
       "      <td>0</td>\n",
       "      <td>1</td>\n",
       "      <td>...</td>\n",
       "      <td>0</td>\n",
       "      <td>0</td>\n",
       "      <td>0</td>\n",
       "      <td>0</td>\n",
       "      <td>0</td>\n",
       "      <td>0</td>\n",
       "      <td>1</td>\n",
       "      <td>0</td>\n",
       "      <td>0</td>\n",
       "      <td>688.644806</td>\n",
       "    </tr>\n",
       "    <tr>\n",
       "      <th>1</th>\n",
       "      <td>6.626718</td>\n",
       "      <td>3.867235</td>\n",
       "      <td>3.433987</td>\n",
       "      <td>2.708050</td>\n",
       "      <td>17.400362</td>\n",
       "      <td>12.428940</td>\n",
       "      <td>1.098612</td>\n",
       "      <td>6.527958</td>\n",
       "      <td>0</td>\n",
       "      <td>1</td>\n",
       "      <td>...</td>\n",
       "      <td>0</td>\n",
       "      <td>0</td>\n",
       "      <td>0</td>\n",
       "      <td>0</td>\n",
       "      <td>0</td>\n",
       "      <td>0</td>\n",
       "      <td>1</td>\n",
       "      <td>0</td>\n",
       "      <td>0</td>\n",
       "      <td>706.883705</td>\n",
       "    </tr>\n",
       "    <tr>\n",
       "      <th>2</th>\n",
       "      <td>6.626718</td>\n",
       "      <td>3.869116</td>\n",
       "      <td>4.727388</td>\n",
       "      <td>2.708050</td>\n",
       "      <td>17.400362</td>\n",
       "      <td>12.428940</td>\n",
       "      <td>1.098612</td>\n",
       "      <td>6.527958</td>\n",
       "      <td>0</td>\n",
       "      <td>1</td>\n",
       "      <td>...</td>\n",
       "      <td>0</td>\n",
       "      <td>0</td>\n",
       "      <td>0</td>\n",
       "      <td>0</td>\n",
       "      <td>0</td>\n",
       "      <td>0</td>\n",
       "      <td>1</td>\n",
       "      <td>0</td>\n",
       "      <td>0</td>\n",
       "      <td>691.260764</td>\n",
       "    </tr>\n",
       "    <tr>\n",
       "      <th>3</th>\n",
       "      <td>6.626718</td>\n",
       "      <td>3.869116</td>\n",
       "      <td>4.795791</td>\n",
       "      <td>2.708050</td>\n",
       "      <td>17.400362</td>\n",
       "      <td>12.428940</td>\n",
       "      <td>1.098612</td>\n",
       "      <td>6.527958</td>\n",
       "      <td>0</td>\n",
       "      <td>1</td>\n",
       "      <td>...</td>\n",
       "      <td>0</td>\n",
       "      <td>0</td>\n",
       "      <td>0</td>\n",
       "      <td>0</td>\n",
       "      <td>0</td>\n",
       "      <td>0</td>\n",
       "      <td>1</td>\n",
       "      <td>0</td>\n",
       "      <td>0</td>\n",
       "      <td>689.305466</td>\n",
       "    </tr>\n",
       "    <tr>\n",
       "      <th>4</th>\n",
       "      <td>6.626718</td>\n",
       "      <td>3.960051</td>\n",
       "      <td>4.110874</td>\n",
       "      <td>2.708050</td>\n",
       "      <td>17.588203</td>\n",
       "      <td>12.600750</td>\n",
       "      <td>1.098612</td>\n",
       "      <td>6.527958</td>\n",
       "      <td>0</td>\n",
       "      <td>1</td>\n",
       "      <td>...</td>\n",
       "      <td>0</td>\n",
       "      <td>0</td>\n",
       "      <td>0</td>\n",
       "      <td>0</td>\n",
       "      <td>0</td>\n",
       "      <td>0</td>\n",
       "      <td>1</td>\n",
       "      <td>0</td>\n",
       "      <td>0</td>\n",
       "      <td>680.897914</td>\n",
       "    </tr>\n",
       "    <tr>\n",
       "      <th>...</th>\n",
       "      <td>...</td>\n",
       "      <td>...</td>\n",
       "      <td>...</td>\n",
       "      <td>...</td>\n",
       "      <td>...</td>\n",
       "      <td>...</td>\n",
       "      <td>...</td>\n",
       "      <td>...</td>\n",
       "      <td>...</td>\n",
       "      <td>...</td>\n",
       "      <td>...</td>\n",
       "      <td>...</td>\n",
       "      <td>...</td>\n",
       "      <td>...</td>\n",
       "      <td>...</td>\n",
       "      <td>...</td>\n",
       "      <td>...</td>\n",
       "      <td>...</td>\n",
       "      <td>...</td>\n",
       "      <td>...</td>\n",
       "      <td>...</td>\n",
       "    </tr>\n",
       "    <tr>\n",
       "      <th>1017</th>\n",
       "      <td>6.516193</td>\n",
       "      <td>3.631515</td>\n",
       "      <td>4.844187</td>\n",
       "      <td>3.663562</td>\n",
       "      <td>16.835534</td>\n",
       "      <td>11.886263</td>\n",
       "      <td>0.693147</td>\n",
       "      <td>6.148468</td>\n",
       "      <td>0</td>\n",
       "      <td>1</td>\n",
       "      <td>...</td>\n",
       "      <td>0</td>\n",
       "      <td>0</td>\n",
       "      <td>0</td>\n",
       "      <td>1</td>\n",
       "      <td>0</td>\n",
       "      <td>0</td>\n",
       "      <td>1</td>\n",
       "      <td>0</td>\n",
       "      <td>0</td>\n",
       "      <td>429.957901</td>\n",
       "    </tr>\n",
       "    <tr>\n",
       "      <th>1018</th>\n",
       "      <td>5.948035</td>\n",
       "      <td>3.407511</td>\n",
       "      <td>4.574711</td>\n",
       "      <td>3.828641</td>\n",
       "      <td>15.742966</td>\n",
       "      <td>11.574970</td>\n",
       "      <td>1.098612</td>\n",
       "      <td>5.707110</td>\n",
       "      <td>0</td>\n",
       "      <td>1</td>\n",
       "      <td>...</td>\n",
       "      <td>0</td>\n",
       "      <td>0</td>\n",
       "      <td>0</td>\n",
       "      <td>0</td>\n",
       "      <td>0</td>\n",
       "      <td>0</td>\n",
       "      <td>1</td>\n",
       "      <td>0</td>\n",
       "      <td>0</td>\n",
       "      <td>237.391255</td>\n",
       "    </tr>\n",
       "    <tr>\n",
       "      <th>1019</th>\n",
       "      <td>5.948035</td>\n",
       "      <td>3.407511</td>\n",
       "      <td>3.044522</td>\n",
       "      <td>3.828641</td>\n",
       "      <td>15.742966</td>\n",
       "      <td>11.574970</td>\n",
       "      <td>1.098612</td>\n",
       "      <td>5.707110</td>\n",
       "      <td>0</td>\n",
       "      <td>1</td>\n",
       "      <td>...</td>\n",
       "      <td>0</td>\n",
       "      <td>0</td>\n",
       "      <td>0</td>\n",
       "      <td>0</td>\n",
       "      <td>0</td>\n",
       "      <td>0</td>\n",
       "      <td>1</td>\n",
       "      <td>0</td>\n",
       "      <td>0</td>\n",
       "      <td>237.609170</td>\n",
       "    </tr>\n",
       "    <tr>\n",
       "      <th>1020</th>\n",
       "      <td>5.948035</td>\n",
       "      <td>3.700067</td>\n",
       "      <td>5.313206</td>\n",
       "      <td>3.828641</td>\n",
       "      <td>16.411511</td>\n",
       "      <td>11.881734</td>\n",
       "      <td>1.098612</td>\n",
       "      <td>5.707110</td>\n",
       "      <td>0</td>\n",
       "      <td>1</td>\n",
       "      <td>...</td>\n",
       "      <td>0</td>\n",
       "      <td>0</td>\n",
       "      <td>0</td>\n",
       "      <td>0</td>\n",
       "      <td>0</td>\n",
       "      <td>0</td>\n",
       "      <td>1</td>\n",
       "      <td>0</td>\n",
       "      <td>0</td>\n",
       "      <td>240.625439</td>\n",
       "    </tr>\n",
       "    <tr>\n",
       "      <th>1021</th>\n",
       "      <td>5.948035</td>\n",
       "      <td>3.855029</td>\n",
       "      <td>4.110874</td>\n",
       "      <td>3.828641</td>\n",
       "      <td>16.743446</td>\n",
       "      <td>12.022757</td>\n",
       "      <td>1.098612</td>\n",
       "      <td>5.707110</td>\n",
       "      <td>0</td>\n",
       "      <td>1</td>\n",
       "      <td>...</td>\n",
       "      <td>0</td>\n",
       "      <td>0</td>\n",
       "      <td>0</td>\n",
       "      <td>0</td>\n",
       "      <td>0</td>\n",
       "      <td>0</td>\n",
       "      <td>1</td>\n",
       "      <td>0</td>\n",
       "      <td>0</td>\n",
       "      <td>241.076116</td>\n",
       "    </tr>\n",
       "  </tbody>\n",
       "</table>\n",
       "<p>1022 rows × 43 columns</p>\n",
       "</div>"
      ],
      "text/plain": [
       "          총세대수      전용면적  전용면적별세대수       공가수      임대보증금        임대료  \\\n",
       "0     6.626718  3.708437  4.762174  2.708050  16.943586  12.153942   \n",
       "1     6.626718  3.867235  3.433987  2.708050  17.400362  12.428940   \n",
       "2     6.626718  3.869116  4.727388  2.708050  17.400362  12.428940   \n",
       "3     6.626718  3.869116  4.795791  2.708050  17.400362  12.428940   \n",
       "4     6.626718  3.960051  4.110874  2.708050  17.588203  12.600750   \n",
       "...        ...       ...       ...       ...        ...        ...   \n",
       "1017  6.516193  3.631515  4.844187  3.663562  16.835534  11.886263   \n",
       "1018  5.948035  3.407511  4.574711  3.828641  15.742966  11.574970   \n",
       "1019  5.948035  3.407511  3.044522  3.828641  15.742966  11.574970   \n",
       "1020  5.948035  3.700067  5.313206  3.828641  16.411511  11.881734   \n",
       "1021  5.948035  3.855029  4.110874  3.828641  16.743446  12.022757   \n",
       "\n",
       "      도보 10분거리 내 버스정류장 수   단지내주차면수  임대건물구분_상가  임대건물구분_아파트  ...  자격유형_I  \\\n",
       "0               1.098612  6.527958          0           1  ...       0   \n",
       "1               1.098612  6.527958          0           1  ...       0   \n",
       "2               1.098612  6.527958          0           1  ...       0   \n",
       "3               1.098612  6.527958          0           1  ...       0   \n",
       "4               1.098612  6.527958          0           1  ...       0   \n",
       "...                  ...       ...        ...         ...  ...     ...   \n",
       "1017            0.693147  6.148468          0           1  ...       0   \n",
       "1018            1.098612  5.707110          0           1  ...       0   \n",
       "1019            1.098612  5.707110          0           1  ...       0   \n",
       "1020            1.098612  5.707110          0           1  ...       0   \n",
       "1021            1.098612  5.707110          0           1  ...       0   \n",
       "\n",
       "      자격유형_J  자격유형_K  자격유형_L  자격유형_M  자격유형_N  \\\n",
       "0          0       0       0       0       0   \n",
       "1          0       0       0       0       0   \n",
       "2          0       0       0       0       0   \n",
       "3          0       0       0       0       0   \n",
       "4          0       0       0       0       0   \n",
       "...      ...     ...     ...     ...     ...   \n",
       "1017       0       0       1       0       0   \n",
       "1018       0       0       0       0       0   \n",
       "1019       0       0       0       0       0   \n",
       "1020       0       0       0       0       0   \n",
       "1021       0       0       0       0       0   \n",
       "\n",
       "      도보 10분거리 내 지하철역 수(환승노선 수 반영)_0.0  도보 10분거리 내 지하철역 수(환승노선 수 반영)_1.0  \\\n",
       "0                                    1                                 0   \n",
       "1                                    1                                 0   \n",
       "2                                    1                                 0   \n",
       "3                                    1                                 0   \n",
       "4                                    1                                 0   \n",
       "...                                ...                               ...   \n",
       "1017                                 1                                 0   \n",
       "1018                                 1                                 0   \n",
       "1019                                 1                                 0   \n",
       "1020                                 1                                 0   \n",
       "1021                                 1                                 0   \n",
       "\n",
       "      도보 10분거리 내 지하철역 수(환승노선 수 반영)_2.0       Label  \n",
       "0                                    0  688.644806  \n",
       "1                                    0  706.883705  \n",
       "2                                    0  691.260764  \n",
       "3                                    0  689.305466  \n",
       "4                                    0  680.897914  \n",
       "...                                ...         ...  \n",
       "1017                                 0  429.957901  \n",
       "1018                                 0  237.391255  \n",
       "1019                                 0  237.609170  \n",
       "1020                                 0  240.625439  \n",
       "1021                                 0  241.076116  \n",
       "\n",
       "[1022 rows x 43 columns]"
      ]
     },
     "execution_count": 54,
     "metadata": {},
     "output_type": "execute_result"
    }
   ],
   "source": [
    "pred"
   ]
  },
  {
   "cell_type": "code",
   "execution_count": 55,
   "id": "38357139",
   "metadata": {},
   "outputs": [],
   "source": [
    "sub = pd.read_csv('sample_submission.csv')"
   ]
  },
  {
   "cell_type": "code",
   "execution_count": 57,
   "id": "ed17c227",
   "metadata": {},
   "outputs": [],
   "source": [
    "sub['num'] = pred['Label']"
   ]
  },
  {
   "cell_type": "code",
   "execution_count": 59,
   "id": "c1313a6a",
   "metadata": {},
   "outputs": [],
   "source": [
    "sub.to_csv('1.csv', index = False)"
   ]
  },
  {
   "cell_type": "markdown",
   "id": "f5e2a642",
   "metadata": {},
   "source": [
    "제출 결과 public 388 private 422 점으로 550등 .. ㅜㅜ"
   ]
  },
  {
   "cell_type": "code",
   "execution_count": null,
   "id": "b3d7178a",
   "metadata": {},
   "outputs": [],
   "source": []
  }
 ],
 "metadata": {
  "kernelspec": {
   "display_name": "Python 3 (ipykernel)",
   "language": "python",
   "name": "python3"
  },
  "language_info": {
   "codemirror_mode": {
    "name": "ipython",
    "version": 3
   },
   "file_extension": ".py",
   "mimetype": "text/x-python",
   "name": "python",
   "nbconvert_exporter": "python",
   "pygments_lexer": "ipython3",
   "version": "3.8.13"
  }
 },
 "nbformat": 4,
 "nbformat_minor": 5
}
