{
 "cells": [
  {
   "cell_type": "code",
   "execution_count": 1,
   "id": "ccd55b7b",
   "metadata": {},
   "outputs": [],
   "source": [
    "common_columns = ['DNBR', 'DTHY', 'DWB', 'HLW', 'HTR', 'HUP', 'LSGA', 'LSGB', 'LVCR',\n",
    "'LVPZ', 'LWRB', 'NSGA', 'NSGB', 'P', 'PPM', 'PRB', 'PRBA', 'PSGA',\n",
    "       'PSGB', 'PWNT', 'PWR', 'QMGA', 'QMGB', 'QMWT', 'RBLK', 'RC131', 'RC87',\n",
    "       'RH', 'RHBR', 'RHFL', 'RHMT', 'RHRD', 'RM1', 'RM2', 'RM3', 'RM4',\n",
    "       'SCMA', 'SCMB', 'SGLK', 'STRB', 'STSG', 'STTB', 'TAVG', 'TBLD', 'TCA',\n",
    "       'TCB', 'TF', 'TFPK', 'TFSB', 'THA', 'THB', 'TIME', 'TPCT', 'TRB',\n",
    "       'TSAT', 'VOID', 'VOL', 'WBK', 'WCFT', 'WCHG', 'WCSP', 'WECS', 'WFWA',\n",
    "       'WFWB', 'WHPI', 'WLR', 'WRCA', 'WRCB', 'WRLA', 'WRLB', 'WSPY', 'WSTA',\n",
    "       'WSTB', 'WTRA', 'WTRB', 'WUP', 'label']"
   ]
  },
  {
   "cell_type": "code",
   "execution_count": 2,
   "id": "65913265",
   "metadata": {},
   "outputs": [],
   "source": [
    "common_columns2 = ['DNBR', 'DTHY', 'DWB', 'HLW', 'HTR', 'HUP', 'LSGA', 'LSGB', 'LVCR',\n",
    "'LVPZ', 'LWRB', 'NSGA', 'NSGB', 'P', 'PPM', 'PRB', 'PRBA', 'PSGA',\n",
    "       'PSGB', 'PWNT', 'PWR', 'QMGA', 'QMGB', 'QMWT', 'RBLK', 'RC131', 'RC87',\n",
    "       'RH', 'RHBR', 'RHFL', 'RHMT', 'RHRD', 'RM1', 'RM2', 'RM3', 'RM4',\n",
    "       'SCMA', 'SCMB', 'SGLK', 'STRB', 'STSG', 'STTB', 'TAVG', 'TBLD', 'TCA',\n",
    "       'TCB', 'TF', 'TFPK', 'TFSB', 'THA', 'THB', 'TIME', 'TPCT', 'TRB',\n",
    "       'TSAT', 'VOID', 'VOL', 'WBK', 'WCFT', 'WCHG', 'WCSP', 'WECS', 'WFWA',\n",
    "       'WFWB', 'WHPI', 'WLR', 'WRCA', 'WRCB', 'WRLA', 'WRLB', 'WSPY', 'WSTA',\n",
    "       'WSTB', 'WTRA', 'WTRB', 'WUP', 'label']"
   ]
  },
  {
   "cell_type": "code",
   "execution_count": 3,
   "id": "ab559e0b",
   "metadata": {},
   "outputs": [
    {
     "name": "stderr",
     "output_type": "stream",
     "text": [
      "806it [00:08, 96.57it/s] \n"
     ]
    }
   ],
   "source": [
    "# 모듈 불러오기\n",
    "import pandas as pd\n",
    "import numpy as np\n",
    "import os\n",
    "import csv\n",
    "from tqdm import tqdm\n",
    "pathList = []\n",
    "##1. 패스 생성\n",
    "homePath = 'train/' #들여다볼 폴더들이 있는 상위 폴더\n",
    "folders = os.listdir(homePath) #불러올 각 폴더들을 리스트에 저장합니다.\n",
    "\n",
    "for folder in (folders): #불러올 폴더가 여러개이니 반복문을 이용합니다.\n",
    "    folderName = folder #folderName에 각 폴더명을 저장합니다.\n",
    "\n",
    "    files = os.listdir(homePath + folder) #불러올 각 파일들을 리스트에 저장합니다.\n",
    "\n",
    "    for file in files: #불러올 파일 또한 여러개이니 반복문을 이용합니다.\n",
    "        fileName = file #fileName에 각 파일명을 저장합니다.\n",
    "\n",
    "        path = homePath + folderName + '/' + fileName #알아낸 폴더와 파일을 이름을 조합합니다.\n",
    "\n",
    "        pathList.append(path) #path들을 한 리스트에 저장\n",
    "        \n",
    "# csv 불러오기\n",
    "dfs=[]\n",
    "def load_csv(pathList):\n",
    "    for a,file in tqdm(enumerate(pathList)):\n",
    "        df = pd.read_csv(file)\n",
    "        df['label'] = pathList[a].split('/')[1]\n",
    "        dfs.append(df)\n",
    "    return dfs\n",
    "load_csv(pathList)\n",
    "\n",
    "\n",
    "train = pd.concat([df[common_columns]for df in dfs], axis=0, ignore_index=True)\n",
    "# 변수 WPCS, WPMU, WPFW 칼럼 제거\n",
    "train = train.dropna(axis=1)"
   ]
  },
  {
   "cell_type": "code",
   "execution_count": 4,
   "id": "4378ed30",
   "metadata": {},
   "outputs": [
    {
     "name": "stderr",
     "output_type": "stream",
     "text": [
      "206it [00:02, 100.00it/s]\n"
     ]
    }
   ],
   "source": [
    "pathList = []\n",
    "##1. 패스 생성\n",
    "homePath = 'test/' #들여다볼 폴더들이 있는 상위 폴더\n",
    "folders = os.listdir(homePath) #불러올 각 폴더들을 리스트에 저장합니다.\n",
    "\n",
    "for folder in (folders): #불러올 폴더가 여러개이니 반복문을 이용합니다.\n",
    "    folderName = folder #folderName에 각 폴더명을 저장합니다.\n",
    "\n",
    "    files = os.listdir(homePath + folder) #불러올 각 파일들을 리스트에 저장합니다.\n",
    "\n",
    "    for file in files: #불러올 파일 또한 여러개이니 반복문을 이용합니다.\n",
    "        fileName = file #fileName에 각 파일명을 저장합니다.\n",
    "\n",
    "        path = homePath + folderName + '/' + fileName #알아낸 폴더와 파일을 이름을 조합합니다.\n",
    "\n",
    "        pathList.append(path) #path들을 한 리스트에 저장\n",
    "        \n",
    "# csv 불러오기\n",
    "dfs=[]\n",
    "load_csv(pathList)\n",
    "\n",
    "test = pd.concat([df[common_columns]for df in dfs], axis=0, ignore_index=True)\n",
    "# 변수 WPCS, WPMU, WPFW 칼럼 제거\n",
    "test = test.dropna(axis=1)"
   ]
  },
  {
   "cell_type": "code",
   "execution_count": 5,
   "id": "355b9a62",
   "metadata": {},
   "outputs": [],
   "source": [
    "# 단일 : Normal, SP, LACP, LOF, ATWS, TT  \n",
    "#idx = train[(train['label']  == 'LOF') | (train['label']  == 'NORM') | (train['label'] == 'SP') | (train['label'] == 'LACP') | (train['label'] == 'ATWS') | (train['label'] == 'TT')].index\n",
    "#train.drop(idx, axis = 0, inplace=True)\n",
    "#idx = test[(test['label']  == 'LOF') | (test['label']  == 'NORM') | (test['label'] == 'SP') | (test['label'] == 'LACP') | (test['label'] == 'ATWS') | (test['label'] == 'TT')].index\n",
    "#test.drop(idx, axis = 0, inplace=True)"
   ]
  },
  {
   "cell_type": "code",
   "execution_count": 6,
   "id": "b71e6f01",
   "metadata": {},
   "outputs": [],
   "source": [
    "# 데이터 축소\n",
    "train = train[train['TIME'] <= 3500]\n",
    "test = test[test['TIME'] <= 3500]"
   ]
  },
  {
   "cell_type": "code",
   "execution_count": 7,
   "id": "460bce6d",
   "metadata": {},
   "outputs": [],
   "source": [
    "# 30초 간격으로 데이터 축소해보기\n",
    "trian = train[train['TIME'] % 30 == 0]\n",
    "train.reset_index(drop=True, inplace = True)\n",
    "test = test[test['TIME'] % 30 == 0]\n",
    "test.reset_index(drop=True, inplace = True)"
   ]
  },
  {
   "cell_type": "code",
   "execution_count": 8,
   "id": "904d5682",
   "metadata": {},
   "outputs": [],
   "source": [
    "# 인코딩\n",
    "from sklearn.preprocessing import LabelEncoder\n",
    "le = LabelEncoder()\n",
    "train['label'] = le.fit_transform(train['label'])\n",
    "test['label'] = le.fit_transform(test['label'])"
   ]
  },
  {
   "cell_type": "code",
   "execution_count": 9,
   "id": "c934c9ae",
   "metadata": {},
   "outputs": [
    {
     "data": {
      "text/plain": [
       "array(['ATWS', 'FLB', 'LACP', 'LLB', 'LOCA', 'LOCAC', 'LOF', 'LR', 'MD',\n",
       "       'NORM', 'SGATR', 'SGBTR', 'SLBIC', 'SLBOC', 'SP', 'TT'],\n",
       "      dtype=object)"
      ]
     },
     "execution_count": 9,
     "metadata": {},
     "output_type": "execute_result"
    }
   ],
   "source": [
    "le.classes_"
   ]
  },
  {
   "cell_type": "markdown",
   "id": "fa5166dd",
   "metadata": {},
   "source": [
    "---"
   ]
  },
  {
   "cell_type": "code",
   "execution_count": 10,
   "id": "ed16409a",
   "metadata": {},
   "outputs": [],
   "source": [
    "# RandomForest 실행\n",
    "from sklearn.ensemble import RandomForestClassifier\n",
    "Y_train = train['label']\n",
    "Y_test = test['label']\n",
    "train = train.drop(['label', 'TIME'], axis = 1)\n",
    "test = test.drop(['label', 'TIME'], axis = 1)"
   ]
  },
  {
   "cell_type": "code",
   "execution_count": 11,
   "id": "ad8f00df",
   "metadata": {},
   "outputs": [],
   "source": [
    "def create_features_from_df(df, window_size):\n",
    "    \"\"\"\n",
    "    DataFrame을 이용한 슬라이딩 윈도우 기법으로 피처 생성.\n",
    "    window_size: 윈도우 크기 (과거 n개의 시점)\n",
    "    \"\"\"\n",
    "    features = []\n",
    "    first_value = df.iloc[0]\n",
    "    df = pd.concat([pd.DataFrame([first_value] * (window_size), columns=df.columns), df], axis=0)\n",
    "    \n",
    "    for i in range(window_size, len(df)):\n",
    "        window = df.iloc[i:i + window_size]  # 슬라이딩 윈도우 범위\n",
    "        # 각 윈도우 내의 특성 계산 (평균, 표준편차, 최소값, 최대값, 중앙값)\n",
    "        mean = window.mean().values\n",
    "        std = window.std().values\n",
    "        #min_val = window.min().values\n",
    "        #max_val = window.max().values\n",
    "        median = window.median().values\n",
    "        \n",
    "        # 모든 특성 결합\n",
    "        feature = np.concatenate([mean, std, median])\n",
    "        features.append(feature)\n",
    "    \n",
    "    # 생성된 피처를 DataFrame으로 변환\n",
    "    feature_columns = []\n",
    "    for col in df.columns:\n",
    "        feature_columns.extend([f\"{col}_mean\", f\"{col}_std\", f\"{col}_median\"])\n",
    "    \n",
    "    return pd.DataFrame(features, columns=feature_columns)\n",
    "\n",
    "# 윈도우 크기 설정\n",
    "window_size = 5\n",
    "\n",
    "# 슬라이딩 윈도우로 특성 생성\n",
    "train = create_features_from_df(train, window_size)\n",
    "test = create_features_from_df(test, window_size)\n",
    "\n",
    "train = train.interpolate()\n",
    "test = test.interpolate()"
   ]
  },
  {
   "cell_type": "code",
   "execution_count": 12,
   "id": "77493a2b",
   "metadata": {},
   "outputs": [
    {
     "name": "stdout",
     "output_type": "stream",
     "text": [
      "Wall time: 2min 20s\n"
     ]
    }
   ],
   "source": [
    "%%time\n",
    "# 훈련\n",
    "from sklearn.model_selection import train_test_split\n",
    "X_train, X_test, y_train, y_test = train_test_split(train, Y_train, test_size=0.2)\n",
    "rf = RandomForestClassifier(\n",
    "    n_estimators=500,\n",
    "    class_weight = 'balanced',\n",
    "    n_jobs = -1,\n",
    "    max_features= 'sqrt',\n",
    "    random_state=1214)\n",
    "rf_model = rf.fit(X_train, y_train)"
   ]
  },
  {
   "cell_type": "code",
   "execution_count": 13,
   "id": "b3c3a65a",
   "metadata": {},
   "outputs": [],
   "source": [
    "pred = rf_model.predict(test)"
   ]
  },
  {
   "cell_type": "code",
   "execution_count": 14,
   "id": "5e44660b",
   "metadata": {},
   "outputs": [
    {
     "name": "stdout",
     "output_type": "stream",
     "text": [
      "Accuracy: 0.9702929217492324\n",
      "Precision: 0.9700917986370604\n",
      "Recall: 0.9702929217492324\n",
      "F1-Score: 0.9699854292583093\n"
     ]
    }
   ],
   "source": [
    "from sklearn.metrics import accuracy_score, precision_score, recall_score, f1_score, confusion_matrix, roc_auc_score, roc_curve\n",
    "\n",
    "accuracy = accuracy_score(Y_test, pred) # 정확도 계산\n",
    "precision = precision_score(Y_test, pred, average='weighted') # 정밀도 계산\n",
    "recall = recall_score(Y_test, pred, average='weighted') # 재현율 계산\n",
    "f1 = f1_score(Y_test, pred, average='weighted') # F1-Score 계산\n",
    "# 결과 출력\n",
    "print(f\"Accuracy: {accuracy}\")\n",
    "print(f\"Precision: {precision}\")\n",
    "print(f\"Recall: {recall}\")\n",
    "print(f\"F1-Score: {f1}\")"
   ]
  },
  {
   "cell_type": "markdown",
   "id": "6f7e8d08",
   "metadata": {},
   "source": [
    "---"
   ]
  }
 ],
 "metadata": {
  "kernelspec": {
   "display_name": "epr",
   "language": "python",
   "name": "epr"
  },
  "language_info": {
   "codemirror_mode": {
    "name": "ipython",
    "version": 3
   },
   "file_extension": ".py",
   "mimetype": "text/x-python",
   "name": "python",
   "nbconvert_exporter": "python",
   "pygments_lexer": "ipython3",
   "version": "3.7.1"
  }
 },
 "nbformat": 4,
 "nbformat_minor": 5
}
