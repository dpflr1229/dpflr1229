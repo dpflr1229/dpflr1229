{
 "cells": [
  {
   "cell_type": "code",
   "execution_count": 1,
   "id": "ccd55b7b",
   "metadata": {},
   "outputs": [],
   "source": [
    "common_columns = ['DNBR', 'DTHY', 'DWB', 'HLW', 'HTR', 'HUP', 'LSGA', 'LSGB', 'LVCR',\n",
    "'LVPZ', 'LWRB', 'NSGA', 'NSGB', 'P', 'PPM', 'PRB', 'PRBA', 'PSGA',\n",
    "       'PSGB', 'PWNT', 'PWR', 'QMGA', 'QMGB', 'QMWT', 'RBLK', 'RC131', 'RC87',\n",
    "       'RH', 'RHBR', 'RHFL', 'RHMT', 'RHRD', 'RM1', 'RM2', 'RM3', 'RM4',\n",
    "       'SCMA', 'SCMB', 'SGLK', 'STRB', 'STSG', 'STTB', 'TAVG', 'TBLD', 'TCA',\n",
    "       'TCB', 'TF', 'TFPK', 'TFSB', 'THA', 'THB', 'TIME', 'TPCT', 'TRB',\n",
    "       'TSAT', 'VOID', 'VOL', 'WBK', 'WCFT', 'WCHG', 'WCSP', 'WECS', 'WFWA',\n",
    "       'WFWB', 'WHPI', 'WLR', 'WRCA', 'WRCB', 'WRLA', 'WRLB', 'WSPY', 'WSTA',\n",
    "       'WSTB', 'WTRA', 'WTRB', 'WUP', 'label']"
   ]
  },
  {
   "cell_type": "code",
   "execution_count": 2,
   "id": "65913265",
   "metadata": {},
   "outputs": [],
   "source": [
    "common_columns2 = ['DNBR', 'DTHY', 'DWB', 'HLW', 'HTR', 'HUP', 'LSGA', 'LSGB', 'LVCR',\n",
    "'LVPZ', 'LWRB', 'NSGA', 'NSGB', 'P', 'PPM', 'PRB', 'PRBA', 'PSGA',\n",
    "       'PSGB', 'PWNT', 'PWR', 'QMGA', 'QMGB', 'QMWT', 'RBLK', 'RC131', 'RC87',\n",
    "       'RH', 'RHBR', 'RHFL', 'RHMT', 'RHRD', 'RM1', 'RM2', 'RM3', 'RM4',\n",
    "       'SCMA', 'SCMB', 'SGLK', 'STRB', 'STSG', 'STTB', 'TAVG', 'TBLD', 'TCA',\n",
    "       'TCB', 'TF', 'TFPK', 'TFSB', 'THA', 'THB', 'TIME', 'TPCT', 'TRB',\n",
    "       'TSAT', 'VOID', 'VOL', 'WBK', 'WCFT', 'WCHG', 'WCSP', 'WECS', 'WFWA',\n",
    "       'WFWB', 'WHPI', 'WLR', 'WRCA', 'WRCB', 'WRLA', 'WRLB', 'WSPY', 'WSTA',\n",
    "       'WSTB', 'WTRA', 'WTRB', 'WUP']"
   ]
  },
  {
   "cell_type": "code",
   "execution_count": 3,
   "id": "ab559e0b",
   "metadata": {},
   "outputs": [
    {
     "name": "stderr",
     "output_type": "stream",
     "text": [
      "806it [00:09, 88.83it/s] \n"
     ]
    }
   ],
   "source": [
    "# 모듈 불러오기\n",
    "import pandas as pd\n",
    "import numpy as np\n",
    "import os\n",
    "import csv\n",
    "from tqdm import tqdm\n",
    "pathList = []\n",
    "##1. 패스 생성\n",
    "homePath = 'train/' #들여다볼 폴더들이 있는 상위 폴더\n",
    "folders = os.listdir(homePath) #불러올 각 폴더들을 리스트에 저장합니다.\n",
    "\n",
    "for folder in (folders): #불러올 폴더가 여러개이니 반복문을 이용합니다.\n",
    "    folderName = folder #folderName에 각 폴더명을 저장합니다.\n",
    "\n",
    "    files = os.listdir(homePath + folder) #불러올 각 파일들을 리스트에 저장합니다.\n",
    "\n",
    "    for file in files: #불러올 파일 또한 여러개이니 반복문을 이용합니다.\n",
    "        fileName = file #fileName에 각 파일명을 저장합니다.\n",
    "\n",
    "        path = homePath + folderName + '/' + fileName #알아낸 폴더와 파일을 이름을 조합합니다.\n",
    "\n",
    "        pathList.append(path) #path들을 한 리스트에 저장\n",
    "        \n",
    "# csv 불러오기\n",
    "dfs=[]\n",
    "def load_csv(pathList):\n",
    "    for a,file in tqdm(enumerate(pathList)):\n",
    "        df = pd.read_csv(file)\n",
    "        df['label'] = pathList[a].split('/')[1]\n",
    "        dfs.append(df)\n",
    "    return dfs\n",
    "load_csv(pathList)\n",
    "\n",
    "\n",
    "train = pd.concat([df[common_columns]for df in dfs], axis=0, ignore_index=True)\n",
    "# 변수 WPCS, WPMU, WPFW 칼럼 제거\n",
    "train = train.dropna(axis=1)"
   ]
  },
  {
   "cell_type": "code",
   "execution_count": 4,
   "id": "fd6cef3a",
   "metadata": {},
   "outputs": [
    {
     "name": "stderr",
     "output_type": "stream",
     "text": [
      "206it [00:02, 85.66it/s] \n"
     ]
    }
   ],
   "source": [
    "pathList = []\n",
    "##1. 패스 생성\n",
    "homePath = 'test/' #들여다볼 폴더들이 있는 상위 폴더\n",
    "folders = os.listdir(homePath) #불러올 각 폴더들을 리스트에 저장합니다.\n",
    "\n",
    "for folder in (folders): #불러올 폴더가 여러개이니 반복문을 이용합니다.\n",
    "    folderName = folder #folderName에 각 폴더명을 저장합니다.\n",
    "\n",
    "    files = os.listdir(homePath + folder) #불러올 각 파일들을 리스트에 저장합니다.\n",
    "\n",
    "    for file in files: #불러올 파일 또한 여러개이니 반복문을 이용합니다.\n",
    "        fileName = file #fileName에 각 파일명을 저장합니다.\n",
    "\n",
    "        path = homePath + folderName + '/' + fileName #알아낸 폴더와 파일을 이름을 조합합니다.\n",
    "\n",
    "        pathList.append(path) #path들을 한 리스트에 저장\n",
    "        \n",
    "# csv 불러오기\n",
    "dfs=[]\n",
    "load_csv(pathList)\n",
    "\n",
    "test = pd.concat([df[common_columns]for df in dfs], axis=0, ignore_index=True)\n",
    "# 변수 WPCS, WPMU, WPFW 칼럼 제거\n",
    "test = test.dropna(axis=1)"
   ]
  },
  {
   "cell_type": "code",
   "execution_count": 5,
   "id": "355b9a62",
   "metadata": {},
   "outputs": [],
   "source": [
    "# 단일 : Normal, SP, LACP, LOF, ATWS, TT  \n",
    "#idx = train[(train['label']  == 'LOF') | (train['label']  == 'NORM') | (train['label'] == 'SP') | (train['label'] == 'LACP') | (train['label'] == 'ATWS') | (train['label'] == 'TT')].index\n",
    "#train.drop(idx, axis = 0, inplace=True)\n",
    "#idx = test[(test['label']  == 'LOF') | (test['label']  == 'NORM') | (test['label'] == 'SP') | (test['label'] == 'LACP') | (test['label'] == 'ATWS') | (test['label'] == 'TT')].index\n",
    "#test.drop(idx, axis = 0, inplace=True)"
   ]
  },
  {
   "cell_type": "code",
   "execution_count": 6,
   "id": "b71e6f01",
   "metadata": {},
   "outputs": [],
   "source": [
    "# 데이터 축소\n",
    "train = train[train['TIME'] <= 3500]\n",
    "test = test[test['TIME'] <= 3500]"
   ]
  },
  {
   "cell_type": "code",
   "execution_count": 7,
   "id": "460bce6d",
   "metadata": {},
   "outputs": [],
   "source": [
    "# 30초 간격으로 데이터 축소해보기\n",
    "trian = train[train['TIME'] % 30 == 0]\n",
    "train.reset_index(drop=True, inplace = True)\n",
    "test = test[test['TIME'] % 30 == 0]\n",
    "test.reset_index(drop=True, inplace = True)"
   ]
  },
  {
   "cell_type": "code",
   "execution_count": 8,
   "id": "904d5682",
   "metadata": {},
   "outputs": [],
   "source": [
    "# 인코딩\n",
    "from sklearn.preprocessing import LabelEncoder\n",
    "le = LabelEncoder()\n",
    "train['label'] = le.fit_transform(train['label'])\n",
    "test['label'] = le.fit_transform(test['label'])"
   ]
  },
  {
   "cell_type": "code",
   "execution_count": 9,
   "id": "c934c9ae",
   "metadata": {},
   "outputs": [
    {
     "data": {
      "text/plain": [
       "array(['ATWS', 'FLB', 'LACP', 'LLB', 'LOCA', 'LOCAC', 'LOF', 'LR', 'MD',\n",
       "       'NORM', 'SGATR', 'SGBTR', 'SLBIC', 'SLBOC', 'SP', 'TT'],\n",
       "      dtype=object)"
      ]
     },
     "execution_count": 9,
     "metadata": {},
     "output_type": "execute_result"
    }
   ],
   "source": [
    "le.classes_"
   ]
  },
  {
   "cell_type": "markdown",
   "id": "fa5166dd",
   "metadata": {},
   "source": [
    "---"
   ]
  },
  {
   "cell_type": "code",
   "execution_count": 10,
   "id": "ed16409a",
   "metadata": {},
   "outputs": [],
   "source": [
    "# lgbm  실행\n",
    "from lightgbm import LGBMClassifier\n",
    "Y_train = train['label']\n",
    "Y_test = test['label']\n",
    "train = train.drop(['label', 'TIME'], axis = 1)\n",
    "test = test.drop(['label', 'TIME'], axis = 1)"
   ]
  },
  {
   "cell_type": "code",
   "execution_count": 11,
   "id": "77493a2b",
   "metadata": {},
   "outputs": [
    {
     "name": "stderr",
     "output_type": "stream",
     "text": [
      "C:\\Users\\ETAC-03-05\\anaconda3\\envs\\epr\\lib\\site-packages\\lightgbm\\basic.py:2138: UserWarning: predictor keyword has been found in `params` and will be ignored.\n",
      "Please use predictor argument of the Dataset constructor to pass this parameter.\n",
      "  f\"{key} keyword has been found in `params` and will be ignored.\\n\"\n"
     ]
    },
    {
     "name": "stdout",
     "output_type": "stream",
     "text": [
      "[LightGBM] [Warning] Unknown parameter: predictor\n",
      "[LightGBM] [Warning] Unknown parameter: tree_method\n",
      "[LightGBM] [Warning] Unknown parameter: gpu_id\n",
      "[LightGBM] [Warning] early_stopping_round is set=25, early_stopping_rounds=25 will be ignored. Current value: early_stopping_round=25\n",
      "[LightGBM] [Warning] Unknown parameter: predictor\n",
      "[LightGBM] [Warning] Unknown parameter: tree_method\n",
      "[LightGBM] [Warning] Unknown parameter: gpu_id\n",
      "[LightGBM] [Info] Auto-choosing col-wise multi-threading, the overhead of testing was 0.094811 seconds.\n",
      "You can set `force_col_wise=true` to remove the overhead.\n",
      "[LightGBM] [Info] Total Bins 18401\n",
      "[LightGBM] [Info] Number of data points in the train set: 452004, number of used features: 75\n",
      "[LightGBM] [Warning] Unknown parameter: predictor\n",
      "[LightGBM] [Warning] Unknown parameter: tree_method\n",
      "[LightGBM] [Warning] Unknown parameter: gpu_id\n",
      "[LightGBM] [Warning] early_stopping_round is set=25, early_stopping_rounds=25 will be ignored. Current value: early_stopping_round=25\n",
      "[LightGBM] [Info] Start training from score -6.697087\n",
      "[LightGBM] [Info] Start training from score -2.310568\n",
      "[LightGBM] [Info] Start training from score -6.709711\n",
      "[LightGBM] [Info] Start training from score -2.309543\n",
      "[LightGBM] [Info] Start training from score -2.309276\n",
      "[LightGBM] [Info] Start training from score -2.310992\n",
      "[LightGBM] [Info] Start training from score -6.693510\n",
      "[LightGBM] [Info] Start training from score -2.312935\n",
      "[LightGBM] [Info] Start training from score -2.308608\n",
      "[LightGBM] [Info] Start training from score -6.722497\n",
      "[LightGBM] [Info] Start training from score -2.313829\n",
      "[LightGBM] [Info] Start training from score -2.310189\n",
      "[LightGBM] [Info] Start training from score -2.309654\n",
      "[LightGBM] [Info] Start training from score -2.304232\n",
      "[LightGBM] [Info] Start training from score -6.688167\n",
      "[LightGBM] [Info] Start training from score -6.704282\n",
      "[LightGBM] [Warning] No further splits with positive gain, best gain: -inf\n",
      "[LightGBM] [Warning] No further splits with positive gain, best gain: -inf\n",
      "[LightGBM] [Warning] No further splits with positive gain, best gain: -inf\n",
      "[LightGBM] [Warning] No further splits with positive gain, best gain: -inf\n",
      "[LightGBM] [Warning] No further splits with positive gain, best gain: -inf\n",
      "[LightGBM] [Warning] No further splits with positive gain, best gain: -inf\n",
      "[LightGBM] [Warning] No further splits with positive gain, best gain: -inf\n",
      "[LightGBM] [Warning] No further splits with positive gain, best gain: -inf\n",
      "Training until validation scores don't improve for 25 rounds\n",
      "Early stopping, best iteration is:\n",
      "[21]\tvalid_0's multi_logloss: 0.113722\n",
      "Wall time: 9.51 s\n"
     ]
    }
   ],
   "source": [
    "%%time\n",
    "# 훈련\n",
    "from sklearn.model_selection import train_test_split\n",
    "X_train, X_test, y_train, y_test = train_test_split(train, Y_train, test_size=0.2)\n",
    "lgbm = LGBMClassifier(tree_method = 'gpu_hist',\n",
    "                        predictor = 'gpu_predictor',\n",
    "                        gpu_id = 0,\n",
    "                        n_estimators = 500, \n",
    "                        objective = 'multiclass',\n",
    "                        num_class = 11,\n",
    "                        early_stopping_rounds=25,\n",
    "                        seed=1214)\n",
    "lgbm_model = lgbm.fit(X_train, y_train, eval_metric = 'multi_logloss', eval_set = [(X_test, y_test)])"
   ]
  },
  {
   "cell_type": "code",
   "execution_count": 12,
   "id": "b3c3a65a",
   "metadata": {},
   "outputs": [
    {
     "name": "stdout",
     "output_type": "stream",
     "text": [
      "[LightGBM] [Warning] Unknown parameter: predictor\n",
      "[LightGBM] [Warning] Unknown parameter: tree_method\n",
      "[LightGBM] [Warning] Unknown parameter: gpu_id\n",
      "[ 3  0  9 ... 15 15 15]\n"
     ]
    }
   ],
   "source": [
    "pred = lgbm_model.predict(test)\n",
    "print(pred)"
   ]
  },
  {
   "cell_type": "code",
   "execution_count": 13,
   "id": "5e44660b",
   "metadata": {},
   "outputs": [
    {
     "name": "stdout",
     "output_type": "stream",
     "text": [
      "Accuracy: 0.96033524188864\n",
      "Precision: 0.9639496584180174\n",
      "Recall: 0.96033524188864\n",
      "F1-Score: 0.9612155858628124\n"
     ]
    }
   ],
   "source": [
    "from sklearn.metrics import accuracy_score, precision_score, recall_score, f1_score, confusion_matrix, roc_auc_score, roc_curve\n",
    "\n",
    "accuracy = accuracy_score(Y_test, pred) # 정확도 계산\n",
    "precision = precision_score(Y_test, pred, average='weighted') # 정밀도 계산\n",
    "recall = recall_score(Y_test, pred, average='weighted') # 재현율 계산\n",
    "f1 = f1_score(Y_test, pred, average='weighted') # F1-Score 계산\n",
    "# 결과 출력\n",
    "print(f\"Accuracy: {accuracy}\")\n",
    "print(f\"Precision: {precision}\")\n",
    "print(f\"Recall: {recall}\")\n",
    "print(f\"F1-Score: {f1}\")"
   ]
  }
 ],
 "metadata": {
  "kernelspec": {
   "display_name": "epr",
   "language": "python",
   "name": "epr"
  },
  "language_info": {
   "codemirror_mode": {
    "name": "ipython",
    "version": 3
   },
   "file_extension": ".py",
   "mimetype": "text/x-python",
   "name": "python",
   "nbconvert_exporter": "python",
   "pygments_lexer": "ipython3",
   "version": "3.7.1"
  }
 },
 "nbformat": 4,
 "nbformat_minor": 5
}
