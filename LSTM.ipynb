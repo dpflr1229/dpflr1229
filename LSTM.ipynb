{
 "cells": [
  {
   "cell_type": "code",
   "execution_count": 14,
   "id": "89f11870",
   "metadata": {},
   "outputs": [],
   "source": [
    "import os\n",
    "import pandas as pd\n",
    "import numpy as np\n",
    "import matplotlib.pyplot as plt\n",
    "import tensorflow as tf\n",
    "from keras.models import Sequential\n",
    "from keras.layers import Dense, Conv2D, MaxPooling2D, Dropout, Flatten, LSTM, Activation, Embedding\n",
    "from sklearn.model_selection import StratifiedKFold, train_test_split\n",
    "from keras.utils import np_utils\n",
    "from keras.preprocessing import sequence"
   ]
  },
  {
   "cell_type": "code",
   "execution_count": 7,
   "id": "045691b4",
   "metadata": {},
   "outputs": [],
   "source": [
    "# 데이터 불러오기\n",
    "from keras.datasets import reuters\n",
    "\n",
    "(x_train,y_train), (x_test,y_test) = reuters.load_data(num_words=1000, test_split=0.2)\n",
    "# 같은길이로 맞춤\n",
    "x_train = sequence.pad_sequences(x_train, maxlen = 100)\n",
    "x_test = sequence.pad_sequences(x_test, maxlen = 100)\n",
    "# 원핫인코딩\n",
    "y_train = np_utils.to_categorical(y_train)\n",
    "y_test = np_utils.to_categorical(y_test)"
   ]
  },
  {
   "cell_type": "code",
   "execution_count": 11,
   "id": "638aa486",
   "metadata": {},
   "outputs": [
    {
     "data": {
      "text/plain": [
       "(8982, 46)"
      ]
     },
     "execution_count": 11,
     "metadata": {},
     "output_type": "execute_result"
    }
   ],
   "source": [
    "y_train.shape"
   ]
  },
  {
   "cell_type": "code",
   "execution_count": 17,
   "id": "1c836c6a",
   "metadata": {},
   "outputs": [
    {
     "name": "stdout",
     "output_type": "stream",
     "text": [
      "Epoch 1/20\n",
      "90/90 [==============================] - 18s 167ms/step - loss: 2.5977 - accuracy: 0.3579 - val_loss: 2.2413 - val_accuracy: 0.4604\n",
      "Epoch 2/20\n",
      "90/90 [==============================] - 14s 161ms/step - loss: 2.0794 - accuracy: 0.4863 - val_loss: 2.0292 - val_accuracy: 0.5147\n",
      "Epoch 3/20\n",
      "90/90 [==============================] - 14s 153ms/step - loss: 2.0213 - accuracy: 0.4990 - val_loss: 1.9687 - val_accuracy: 0.5183\n",
      "Epoch 4/20\n",
      "90/90 [==============================] - 14s 155ms/step - loss: 1.8662 - accuracy: 0.5324 - val_loss: 1.8247 - val_accuracy: 0.5552\n",
      "Epoch 5/20\n",
      "90/90 [==============================] - 15s 164ms/step - loss: 1.7386 - accuracy: 0.5576 - val_loss: 1.7636 - val_accuracy: 0.5637\n",
      "Epoch 6/20\n",
      "90/90 [==============================] - 13s 147ms/step - loss: 1.6723 - accuracy: 0.5774 - val_loss: 1.6378 - val_accuracy: 0.5993\n",
      "Epoch 7/20\n",
      "90/90 [==============================] - 14s 151ms/step - loss: 1.5444 - accuracy: 0.6181 - val_loss: 1.5864 - val_accuracy: 0.6024\n",
      "Epoch 8/20\n",
      "90/90 [==============================] - 13s 149ms/step - loss: 1.4370 - accuracy: 0.6367 - val_loss: 1.4816 - val_accuracy: 0.6296\n",
      "Epoch 9/20\n",
      "90/90 [==============================] - 14s 158ms/step - loss: 1.3503 - accuracy: 0.6534 - val_loss: 1.4239 - val_accuracy: 0.6362\n",
      "Epoch 10/20\n",
      "90/90 [==============================] - 14s 154ms/step - loss: 1.2568 - accuracy: 0.6774 - val_loss: 1.3629 - val_accuracy: 0.6545\n",
      "Epoch 11/20\n",
      "90/90 [==============================] - 13s 149ms/step - loss: 1.1808 - accuracy: 0.6959 - val_loss: 1.3469 - val_accuracy: 0.6536\n",
      "Epoch 12/20\n",
      "90/90 [==============================] - 14s 153ms/step - loss: 1.1383 - accuracy: 0.7125 - val_loss: 1.2718 - val_accuracy: 0.6852\n",
      "Epoch 13/20\n",
      "90/90 [==============================] - 13s 147ms/step - loss: 1.0534 - accuracy: 0.7279 - val_loss: 1.2336 - val_accuracy: 0.6834\n",
      "Epoch 14/20\n",
      "90/90 [==============================] - 14s 157ms/step - loss: 1.0122 - accuracy: 0.7401 - val_loss: 1.2390 - val_accuracy: 0.6959\n",
      "Epoch 15/20\n",
      "90/90 [==============================] - 14s 152ms/step - loss: 0.9536 - accuracy: 0.7593 - val_loss: 1.1960 - val_accuracy: 0.7044\n",
      "Epoch 16/20\n",
      "90/90 [==============================] - 14s 151ms/step - loss: 0.9080 - accuracy: 0.7722 - val_loss: 1.1831 - val_accuracy: 0.7137\n",
      "Epoch 17/20\n",
      "90/90 [==============================] - 14s 158ms/step - loss: 0.8817 - accuracy: 0.7759 - val_loss: 1.1720 - val_accuracy: 0.7137\n",
      "Epoch 18/20\n",
      "90/90 [==============================] - 14s 151ms/step - loss: 0.8291 - accuracy: 0.7900 - val_loss: 1.1749 - val_accuracy: 0.7150\n",
      "Epoch 19/20\n",
      "90/90 [==============================] - 14s 154ms/step - loss: 0.7856 - accuracy: 0.8026 - val_loss: 1.1445 - val_accuracy: 0.7235\n",
      "Epoch 20/20\n",
      "90/90 [==============================] - 15s 164ms/step - loss: 0.7519 - accuracy: 0.8121 - val_loss: 1.1773 - val_accuracy: 0.7097\n",
      "Model: \"sequential_1\"\n",
      "_________________________________________________________________\n",
      " Layer (type)                Output Shape              Param #   \n",
      "=================================================================\n",
      " embedding_1 (Embedding)     (None, None, 100)         100000    \n",
      "                                                                 \n",
      " lstm_1 (LSTM)               (None, 100)               80400     \n",
      "                                                                 \n",
      " dense_1 (Dense)             (None, 46)                4646      \n",
      "                                                                 \n",
      "=================================================================\n",
      "Total params: 185,046\n",
      "Trainable params: 185,046\n",
      "Non-trainable params: 0\n",
      "_________________________________________________________________\n"
     ]
    }
   ],
   "source": [
    "from keras.callbacks import ModelCheckpoint, EarlyStopping\n",
    "mkdir = './model/'\n",
    "if not os.path.exists(mkdir):\n",
    "    os.mkdir(mkdir)\n",
    "model_path = '{epoch:}-{val_loss}.hdf5'\n",
    "checkpoint = ModelCheckpoint(filepath = model_path, monitor = 'val_loss', save_best_only = True)\n",
    "early_stop = EarlyStopping(monitor = 'val_loss', patience = 5)\n",
    "\n",
    "model = Sequential()\n",
    "model.add(Embedding(1000,100))\n",
    "model.add(LSTM(100, activation = 'tanh')) # LSTM은 tanh를 사용\n",
    "model.add(Dense(46,activation = 'softmax'))\n",
    "model.compile(loss = 'categorical_crossentropy', optimizer = 'adam', metrics = 'accuracy')\n",
    "history = model.fit(x_train,y_train, validation_data = (x_test,y_test), epochs = 20, batch_size = 100, callbacks = [checkpoint, early_stop])\n",
    "model.summary()"
   ]
  },
  {
   "cell_type": "code",
   "execution_count": 18,
   "id": "35c9760c",
   "metadata": {},
   "outputs": [
    {
     "name": "stdout",
     "output_type": "stream",
     "text": [
      "281/281 [==============================] - 6s 22ms/step - loss: 0.7188 - accuracy: 0.8166\n",
      "0.8166332840919495\n"
     ]
    },
    {
     "data": {
      "image/png": "[encoded data removed]",
      "text/plain": [
       "<Figure size 432x288 with 1 Axes>"
      ]
     },
     "metadata": {
      "needs_background": "light"
     },
     "output_type": "display_data"
    }
   ],
   "source": [
    "loss = history.history['loss']\n",
    "vloss = history.history['val_loss']\n",
    "x_len = np.arange(len(loss))\n",
    "plt.plot(x_len,loss,label='loss')\n",
    "plt.plot(x_len,vloss,label='vloss')\n",
    "plt.legend()\n",
    "plt.show\n",
    "\n",
    "print(model.evaluate(x_train,y_train)[1])"
   ]
  },
  {
   "cell_type": "markdown",
   "id": "9dc44b3c",
   "metadata": {},
   "source": [
    "---"
   ]
  },
  {
   "cell_type": "code",
   "execution_count": 22,
   "id": "5b56efa5",
   "metadata": {},
   "outputs": [],
   "source": [
    "from keras.datasets import imdb\n",
    "(x_train,y_train),(x_test,y_test) = imdb.load_data(num_words=5000)\n",
    "x_train = sequence.pad_sequences(x_train, maxlen=100)\n",
    "x_test = sequence.pad_sequences(x_test, maxlen=100)"
   ]
  },
  {
   "cell_type": "code",
   "execution_count": 23,
   "id": "50cf7fb4",
   "metadata": {},
   "outputs": [
    {
     "data": {
      "text/plain": [
       "(25000, 100)"
      ]
     },
     "execution_count": 23,
     "metadata": {},
     "output_type": "execute_result"
    }
   ],
   "source": [
    "x_train.shape"
   ]
  },
  {
   "cell_type": "code",
   "execution_count": 27,
   "id": "9df010ff",
   "metadata": {},
   "outputs": [
    {
     "name": "stdout",
     "output_type": "stream",
     "text": [
      "Epoch 1/20\n",
      "250/250 [==============================] - 12s 39ms/step - loss: 0.4917 - accuracy: 0.7387 - val_loss: 0.3476 - val_accuracy: 0.8488\n",
      "Epoch 2/20\n",
      "250/250 [==============================] - 9s 37ms/step - loss: 0.3094 - accuracy: 0.8698 - val_loss: 0.3335 - val_accuracy: 0.8536\n",
      "Epoch 3/20\n",
      "250/250 [==============================] - 9s 37ms/step - loss: 0.2669 - accuracy: 0.8904 - val_loss: 0.3380 - val_accuracy: 0.8507\n",
      "Epoch 4/20\n",
      "250/250 [==============================] - 9s 37ms/step - loss: 0.2422 - accuracy: 0.9032 - val_loss: 0.3320 - val_accuracy: 0.8557\n",
      "Epoch 5/20\n",
      "250/250 [==============================] - 9s 37ms/step - loss: 0.2199 - accuracy: 0.9126 - val_loss: 0.3441 - val_accuracy: 0.8553\n",
      "Epoch 6/20\n",
      "250/250 [==============================] - 9s 37ms/step - loss: 0.1955 - accuracy: 0.9233 - val_loss: 0.3626 - val_accuracy: 0.8512\n",
      "Epoch 7/20\n",
      "250/250 [==============================] - 9s 37ms/step - loss: 0.1757 - accuracy: 0.9316 - val_loss: 0.3642 - val_accuracy: 0.8510\n",
      "Epoch 8/20\n",
      "250/250 [==============================] - 9s 37ms/step - loss: 0.1539 - accuracy: 0.9418 - val_loss: 0.3866 - val_accuracy: 0.8467\n",
      "Epoch 9/20\n",
      "250/250 [==============================] - 9s 37ms/step - loss: 0.1339 - accuracy: 0.9506 - val_loss: 0.4005 - val_accuracy: 0.8480\n"
     ]
    }
   ],
   "source": [
    "from keras.layers import Conv1D, MaxPooling1D\n",
    "model_dir = './model/'\n",
    "if not os.path.exists(model_dir):\n",
    "    os.mkdir(model_dir)\n",
    "model_path = '{epoch:}-{val_loss}.hdf5'\n",
    "checkpoint = ModelCheckpoint(filepath = model_path, monitor = 'val_loss', save_best_only = True)\n",
    "earlystop = EarlyStopping(monitor = 'val_loss', patience = 5)\n",
    "model = Sequential()\n",
    "model.add(Embedding(5000,50))\n",
    "model.add(Dropout(0.5))\n",
    "model.add(Conv1D(32,5,padding='Valid',activation = 'relu' ))\n",
    "model.add(MaxPooling1D(4))\n",
    "model.add(LSTM(30, activation = 'tanh'))\n",
    "model.add(Dense(1, activation='sigmoid'))\n",
    "model.compile(loss='binary_crossentropy', optimizer = 'adam', metrics = 'accuracy')\n",
    "history=model.fit(x_train,y_train,validation_data = (x_test,y_test), callbacks = [checkpoint,earlystop], epochs =20, batch_size=100)"
   ]
  },
  {
   "cell_type": "code",
   "execution_count": 29,
   "id": "574750bc",
   "metadata": {},
   "outputs": [
    {
     "name": "stdout",
     "output_type": "stream",
     "text": [
      "782/782 [==============================] - 3s 4ms/step - loss: 0.4005 - accuracy: 0.8480\n",
      "\n",
      " Test Accuracy: 0.8480\n"
     ]
    },
    {
     "data": {
      "image/png": "[encoded data removed]",
      "text/plain": [
       "<Figure size 432x288 with 1 Axes>"
      ]
     },
     "metadata": {
      "needs_background": "light"
     },
     "output_type": "display_data"
    }
   ],
   "source": [
    "# 테스트 정확도 출력\n",
    "print(\"\\n Test Accuracy: %.4f\" % (model.evaluate(x_test, y_test)[1]))\n",
    "\n",
    "\n",
    "# 테스트 셋의 오차\n",
    "y_vloss = history.history['val_loss']\n",
    "\n",
    "# 학습셋의 오차\n",
    "y_loss = history.history['loss']\n",
    "\n",
    "# 그래프로 표현\n",
    "x_len = np.arange(len(y_loss))\n",
    "plt.plot(x_len, y_vloss, marker='.', c=\"red\", label='Testset_loss')\n",
    "plt.plot(x_len, y_loss, marker='.', c=\"blue\", label='Trainset_loss')\n",
    "\n",
    "# 그래프에 그리드를 주고 레이블을 표시\n",
    "plt.legend(loc='upper right')\n",
    "plt.grid()\n",
    "plt.xlabel('epoch')\n",
    "plt.ylabel('loss')\n",
    "plt.show()"
   ]
  },
  {
   "cell_type": "code",
   "execution_count": null,
   "id": "0db957b6",
   "metadata": {},
   "outputs": [],
   "source": []
  }
 ],
 "metadata": {
  "kernelspec": {
   "display_name": "Python 3 (ipykernel)",
   "language": "python",
   "name": "python3"
  },
  "language_info": {
   "codemirror_mode": {
    "name": "ipython",
    "version": 3
   },
   "file_extension": ".py",
   "mimetype": "text/x-python",
   "name": "python",
   "nbconvert_exporter": "python",
   "pygments_lexer": "ipython3",
   "version": "3.8.13"
  }
 },
 "nbformat": 4,
 "nbformat_minor": 5
}
